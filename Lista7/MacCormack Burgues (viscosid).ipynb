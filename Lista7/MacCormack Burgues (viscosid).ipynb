{
 "cells": [
  {
   "cell_type": "markdown",
   "id": "163cec1a",
   "metadata": {},
   "source": [
    "# <center> MacCormack  </center> \n",
    "\n",
    "O método original de MacCormack (1969) aplicado à equação de Burgers completa (4.306) é\n",
    "\n",
    "Predictor: \n",
    "\n",
    "\\begin{equation}\n",
    "U_j^{\\overline{n+1}} = u_j^n - \\frac{\\Delta t}{\\Delta x}(F_{j+1}^n - F_{j}^n) + r (u_{j+1}^n - 2 u_{j}^n + u_{j-1}^n)\n",
    "\\end{equation}\n",
    "\n",
    "Corrector:\n",
    "\\begin{equation}\n",
    "U_j^{n+1} = \\frac{1}{2} \\left [ u_j^n +u_j^{\\overline{n+1}} - \\frac{\\Delta t}{\\Delta x}\\left ( F_j^{\\overline{n+1}} - F_{j-1}^{\\overline{n+1}} \\right ) + r \\left ( u_{j+1}^{n+1} - 2 u_{j}^{n+1} + u_{j-1}^{n+1} \\right ) \\right ]\n",
    "\\end{equation}\n",
    "\n",
    "O método de MacCormack é de segunda ordem em ambas as dimensões de tempo e espaço. Nesta versão do esquema de MacCormack, é usado uma diferença para frente na etapa de previsão para $dF/dx$, e uma diferença para trás é utilizada na etapa corretora. A versão alternativa do método de MacCormack usa uma diferença para trás na etapa de previsão e uma diferença para frente na etapa corretora. Ambas as variantes do método de MacCormack são de segunda ordem. Não é possível obter um critério de estabilidade simples para o esquema de MacCormack aplicado à equação de Burgers. No entanto, a condição dada pela Equação 4.308 ou a fórmula empírica (Tannehill et al., 1975) podem ser usadas.\n",
    "\n",
    "\\begin{equation}\n",
    "\\Delta t \\leqslant \\frac{(\\Delta x)^2}{\\left | A \\right |\\Delta x + 2\\mu}\n",
    "\\end{equation}"
   ]
  },
  {
   "cell_type": "code",
   "execution_count": null,
   "id": "fc1a9607",
   "metadata": {},
   "outputs": [],
   "source": []
  }
 ],
 "metadata": {
  "kernelspec": {
   "display_name": "Python 3 (ipykernel)",
   "language": "python",
   "name": "python3"
  },
  "language_info": {
   "codemirror_mode": {
    "name": "ipython",
    "version": 3
   },
   "file_extension": ".py",
   "mimetype": "text/x-python",
   "name": "python",
   "nbconvert_exporter": "python",
   "pygments_lexer": "ipython3",
   "version": "3.10.6"
  }
 },
 "nbformat": 4,
 "nbformat_minor": 5
}
