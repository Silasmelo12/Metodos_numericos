{
 "cells": [
  {
   "cell_type": "code",
   "execution_count": 2,
   "id": "9f465b91-a4f6-4e16-a6cd-e801470db1dc",
   "metadata": {},
   "outputs": [],
   "source": [
    "from mpl_toolkits.mplot3d import Axes3D\n",
    "from mpl_toolkits import mplot3d\n",
    "import numpy as np\n",
    "import matplotlib.pyplot as plt\n",
    "import matplotlib.pyplot as plt\n",
    "from mpl_toolkits.mplot3d import Axes3D"
   ]
  },
  {
   "cell_type": "code",
   "execution_count": 7,
   "id": "5c7bec88-eb90-441c-b71d-fe4fb1f8d88c",
   "metadata": {},
   "outputs": [
    {
     "data": {
      "text/plain": [
       "<Figure size 1100x700 with 0 Axes>"
      ]
     },
     "metadata": {},
     "output_type": "display_data"
    }
   ],
   "source": [
    "from mpl_toolkits.mplot3d import Axes3D\n",
    "from mpl_toolkits import mplot3d\n",
    "import numpy as np\n",
    "import matplotlib.pyplot as plt\n",
    "import matplotlib.pyplot as plt\n",
    "from mpl_toolkits.mplot3d import Axes3D\n",
    "\n",
    "\n",
    "l_y = 1\n",
    "l_x = 1\n",
    "delta_x = 0.1\n",
    "delta_y = 0.1\n",
    "\n",
    "y = np.arange(0,l_y+delta_y,delta_y)\n",
    "x = np.arange(0,l_x+delta_x,delta_x)\n",
    "\n",
    "quantidade_de_iteracao = 100\n",
    "quantidade_de_pontos_x = len(x)\n",
    "quantidade_de_pontos_y = len(y)\n",
    "\n",
    "PLACA = np.zeros((quantidade_de_pontos_x,quantidade_de_pontos_y))\n",
    "PLACA_Iteracao = np.zeros((quantidade_de_pontos_x,quantidade_de_pontos_y))\n",
    "media_de_temperatura = np.mean(np.sin(x*np.pi))\n",
    "PLACA[:,:] = media_de_temperatura\n",
    "constante = 0\n",
    "\n",
    "PLACA[0,:] = constante\n",
    "PLACA[:,0] = 0\n",
    "PLACA[:,-1] = 0\n",
    "PLACA[-1,:] = 100*np.sin(x*np.pi)\n",
    "\n",
    "# Recebe iteração dos valores k+1. é -2 porque os contornos se repetem.\n",
    "PLACA_Iteracao[:,:] = PLACA[:,:]\n",
    "\n",
    "beta = delta_x/delta_y\n",
    "\n",
    "PLACA.round(2)\n",
    "fig = plt.figure(figsize=(11, 7), dpi=100)\n",
    "for n in range(0, quantidade_de_iteracao):\n",
    "    for i in range(1,quantidade_de_pontos_x-1):\n",
    "        for j in range(1,quantidade_de_pontos_y-1):\n",
    "            PLACA_Iteracao[i,j] = (PLACA[i+1,j]+PLACA_Iteracao[i-1,j]+beta**2*(PLACA[i,j+1]+PLACA[i,j-1]))/(2*(1+beta**2))\n",
    "    PLACA = PLACA_Iteracao\n",
    "    '''\n",
    "    cs = plt.contourf(x,y,PLACA)\n",
    "    cs.cmap.set_over('red')\n",
    "    cs.cmap.set_under('blue')\n",
    "    plt.pause(0.1)\n",
    "plt.colorbar()\n",
    "\n",
    "plt.show()\n",
    "'''\n"
   ]
  }
 ],
 "metadata": {
  "kernelspec": {
   "display_name": "Python 3 (ipykernel)",
   "language": "python",
   "name": "python3"
  },
  "language_info": {
   "codemirror_mode": {
    "name": "ipython",
    "version": 3
   },
   "file_extension": ".py",
   "mimetype": "text/x-python",
   "name": "python",
   "nbconvert_exporter": "python",
   "pygments_lexer": "ipython3",
   "version": "3.10.6"
  }
 },
 "nbformat": 4,
 "nbformat_minor": 5
}
