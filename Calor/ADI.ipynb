{
 "cells": [
  {
   "cell_type": "markdown",
   "id": "348c9b24",
   "metadata": {},
   "source": [
    "# <center> Métodos Implícito por Direção Alternada (ADI)</center>\n",
    "\n",
    "\n",
    "O Alternating Direction Implicit (ADI) é um método numérico utilizado em aproximações de diferenças finitas para resolver equações diferenciais parciais. É conhecido por dividir a equação em subproblemas menores que são resolvidos em direções alternadas.\n",
    "\n",
    "\n",
    "O método ADI é um algoritmo comum em simulações numéricas, especialmente em casos onde um sistema de equações diferenciais parciais precisa ser resolvido. Ele envolve dividir a equação em subproblemas menores, que podem ser resolvidos individualmente em diferentes direções. Essas sub-equações são resolvidas alternadamente em direções diferentes, permitindo que o método forneça soluções mais precisas e estáveis.\n",
    "\n",
    "Ao dividir a equação em subproblemas menores, que são resolvidos em direções alternadas, o ADI evita a necessidade de resolver a equação completa de uma só vez, o que pode ser muito complexo e demandar muito poder computacional. Em vez disso, o método aborda a solução por etapas, em subproblemas menores e mais gerenciáveis. Isso torna o ADI uma técnica popular e eficaz para a resolução de equações diferenciais parciais em diversas áreas da ciência e da engenharia.\n",
    "\n",
    "\n",
    "Algumas dificuldades que ocorrem ao tentar resolver a equação de calor 2-D por algoritmos convencionais, levaram ao desenvolvimento de métodos implícitos de direção-alternada (ADI) por Peaceman e Rachford (1955) e Douglas (1955). O método ADI usual é um esquema de dois passos dado por\n",
    "\n",
    "_Passo 1_:\n",
    "\n",
    "\\begin{equation}\n",
    "\\frac {u_{i,j}^{n+1/2} - u_{i,j}^{n}}{\\Delta t/2} = \\alpha (\\hat\\delta_x^2 u_{i,j}^{n+1/2} + \\hat \\delta_y^2 u_{i,j}^{n})\n",
    "\\label{eq:passo1}\\tag{1.1}\n",
    "\\end{equation}\n",
    "\n",
    "_Passo 2_:\n",
    "\\begin{equation}\n",
    "\\frac {u_{i,j}^{n+1} - u_{i,j}^{n+1/2}}{\\Delta t/2} = \\alpha (\\hat\\delta_x^2 u_{i,j}^{n+1/2} + \\hat \\delta_y^2 u_{i,j}^{n+1})\n",
    "\\label{eq:passo2}\\tag{1.2}\n",
    "\\end{equation}\n",
    "\n",
    "Como resultado do \"splitting\" que é utilizado neste algoritmo, apenas sistemas tridiagonais de equações lineares algébricas devem ser resolvidos. Durante o _Passo 1_, é resolvida uma matriz tridiagonal para cada linha $j$ de pontos da grade, e durante o _Passo 2_, é resolvida uma matriz tridiagonal para cada linha $i$ de pontos da grade. Este procedimento é ilustrado na Figura 4.23. O método ADI é de segunda ordem de precisão com um T.E. de O($\\Delta t^2$, $\\Delta x^2$, $\\Delta y^2$). Ao examinar o fator de amplificação\n",
    "\n",
    "\\begin{equation}\n",
    "G = \\frac{[1-r_x(1-cos \\beta x)][1-r_y(1-cos \\beta y)]}{[1+r_x(1-cos \\beta x)][1+r_x(1-cos \\beta x)]}\n",
    "\\label{eq:fator_amplificacao}\\tag{1.3}\n",
    "\\end{equation}\n",
    "\n",
    "onde\n",
    "\n",
    "\\begin{equation}\n",
    "r_x = \\alpha \\Delta t / (\\Delta x)^2 \\\\\n",
    "r_y = \\alpha \\Delta t / (\\Delta y)^2 \\\\\n",
    "\\beta_x = k_m \\Delta x \\\\\n",
    "\\beta_y = k_m \\Delta y\n",
    "\\end{equation}"
   ]
  },
  {
   "cell_type": "markdown",
   "id": "1ef31fd8-c4d2-4b1c-a640-10bf7134ddb2",
   "metadata": {},
   "source": [
    "## <center>Passo 1</center>\n",
    "O primeiro passo é abrir as equações $\\hat \\delta x^2 u_{i,j}^{n+1/2}$ e $\\hat \\delta y^2 u_{i,j}^{n}$ em ([1.1](#mjx-eqn-eq:passo1)) e ([1.2](#mjx-eqn-eq:passo2)) para entender o funcionamento. \n",
    "\n",
    "Sabendo que \n",
    "\n",
    "\\begin{equation}\n",
    "\\hat \\delta _x^2 u_{i,j}^{n}= \\frac{u_{i+1,j}^{n} - 2u_{i,j}^{n} + u_{i-1,j}^{n}}{\\Delta x^2} = \\frac{\\delta_x^2 u_{i,j}^{n}}{\\Delta x^2}\n",
    "\\label{eq:deltahatx}\\tag{1.7}\n",
    "\\end{equation}\n",
    "\n",
    "\\begin{equation}\n",
    "\\hat \\delta _y^2 u_{i,j}^{n}= \\frac{u_{i,j+1}^{n} - 2u_{i,j}^{n} + u_{i,j-1}^{n}}{\\Delta y^2} = \\frac{\\delta_y^2 u_{i,j}^{n}}{\\Delta y^2}\n",
    "\\label{deltahaty}\\tag{1.8}\n",
    "\\end{equation}\n",
    "\n",
    "então\n",
    "\n",
    "\\begin{equation}\n",
    "\\hat \\delta _y^2 u_{i,j}^{n} = \\frac{u_{i,j+1}^{n} - 2u_{i,j}^{n} + u_{i,j-1}^{n}}{\\Delta y^2} = \\frac{\\delta_y^2 u_{i,j}^{n}}{\\Delta y^2}\n",
    "\\end{equation}\n",
    "\n",
    "\\begin{equation}\n",
    "\\hat \\delta _y^2 u_{i,j}^{n+1/2} = \\frac{u_{i,j+1}^{n+1/2} - 2u_{i,j}^{n+1/2} + u_{i,j-1}^{n+1/2}}{\\Delta y^2}\n",
    "\\end{equation}\n",
    "\n",
    "\\begin{equation}\n",
    "\\hat \\delta _y^2 u_{i,j}^{n+1/2} = \\frac{u_{i,j+1}^{n+1/2} - 2u_{i,j}^{n+1/2} + u_{i,j-1}^{n+1/2}}{\\Delta y^2}\n",
    "\\end{equation}\n",
    "\n",
    "então podemos escrever ([1.1](#mjx-eqn-eq:passo1)) \n",
    "\n",
    "\\begin{equation}\n",
    "\\frac {u_{i,j}^{n+1/2} - u_{i,j}^{n}}{\\Delta t/2} = \\alpha (\\frac{u_{i+1,j}^{n+1/2} - 2u_{i,j}^{n+1/2} + u_{i-1,j}^{n+1/2}}{\\Delta x^2} + \\frac{u_{i,j+1}^{n} - 2u_{i,j}^{n} + u_{i,j-1}^{n}}{\\Delta y^2})\n",
    "\\end{equation}\n",
    "\n",
    "Os passos seguintes são apenas manipulações algebricas\n",
    "\n",
    "<center>$u_{i,j}^{n+1/2} - u_{i,j}^{n} = \\alpha \\frac{\\Delta t}{2} (\\frac{u_{i+1,j}^{n+1/2} - 2u_{i,j}^{n+1/2} + u_{i-1,j}^{n+1/2}}{\\Delta x^2} + \\frac{u_{i,j+1}^{n} - 2u_{i,j}^{n} + u_{i,j-1}^{n}}{\\Delta y^2})$\n",
    "    \n",
    "<center>$ - u_{i,j}^{n} = \\alpha \\frac{\\Delta t}{2} (\\frac{u_{i+1,j}^{n+1/2} - 2u_{i,j}^{n+1/2} + u_{i-1,j}^{n+1/2}}{\\Delta x^2} + \\frac{u_{i,j+1}^{n} - 2u_{i,j}^{n} + u_{i,j-1}^{n}}{\\Delta y^2}) - u_{i,j}^{n+1/2}$\n",
    "   \n",
    "<center>$ u_{i,j}^{n} = u_{i,j}^{n+1/2} - \\alpha \\frac{\\Delta t}{2} (\\frac{u_{i+1,j}^{n+1/2} - 2u_{i,j}^{n+1/2} + u_{i-1,j}^{n+1/2}}{\\Delta x^2} + \\frac{u_{i,j+1}^{n} - 2u_{i,j}^{n} + u_{i,j-1}^{n}}{\\Delta y^2})$\n",
    "    \n",
    "tomando\n",
    "$a = \\alpha \\frac{\\Delta t}{2\\Delta x^2}$\n",
    "$b = \\alpha \\frac{\\Delta t}{2\\Delta y^2}$\n",
    "temos\n",
    "    \n",
    "temos:\n",
    "    \n",
    "$$\n",
    "u_{i,j}^{n} = u_{i,j}^{n+1/2} - a (u_{i+1,j}^{n+1/2} - 2u_{i,j}^{n+1/2} + u_{i-1,j}^{n+1/2}) + b(u_{i,j+1}^{n} - 2u_{i,j}^{n} + u_{i,j-1}^{n})\n",
    "$$\n",
    "    \n",
    "para i = 1 e j = 1\n",
    "\n",
    "$$\n",
    "u_{1,1}^{n} = \\mathbf {u_{1,1}^{n+1/2}} - a (\\mathbf {u_{2,1}^{n+1/2}} - 2\\mathbf {u_{1,1}^{n+1/2}} + u_{0,1}^{n+1/2}) + b(u_{1,2}^{n} - 2u_{1,1}^{n} + u_{1,0}^{n})\n",
    "$$\n",
    "    \n",
    "para i = 2 e j = 1\n",
    "    \n",
    "$$\n",
    "u_{2,1}^{n} = \\mathbf {u_{2,1}^{n+1/2} - a (u_{3,1}^{n+1/2} - 2u_{2,1}^{n+1/2} + u_{1,1}^{n+1/2})} + b(u_{2,2}^{n} - 2u_{2,1}^{n} + u_{2,0}^{n})\n",
    "$$\n",
    "    \n",
    "para i = 3 e j = 1\n",
    "    \n",
    "$$\n",
    "u_{3,1}^{n} = \\mathbf {u_{3,1}^{n+1/2}} - a (u_{4,1}^{n+1/2} - \\mathbf {2u_{3,1}^{n+1/2}} + \\mathbf {u_{2,1}^{n+1/2}}) + b(u_{3,2}^{n} - 2u_{3,1}^{n} + u_{3,0}^{n})\n",
    "$$\n",
    "    \n",
    "Isolando os termos conhecidos\n",
    "    \n",
    "$$ - \\mathbf {u_{1,1}^{n+1/2}} + a (\\mathbf {u_{2,1}^{n+1/2}} - 2\\mathbf {u_{1,1}^{n+1/2}})= -u_{1,1}^{n} - a (u_{0,1}^{n+1/2}) + b(u_{1,2}^{n} - 2u_{1,1}^{n} + u_{1,0}^{n})\n",
    "$$\n",
    "        \n",
    "$$  - \\mathbf {u_{2,1}^{n+1/2} + a (u_{3,1}^{n+1/2} - 2u_{2,1}^{n+1/2} + u_{1,1}^{n+1/2})}= -u_{2,1}^{n} + b(u_{2,2}^{n} - 2u_{2,1}^{n} + u_{2,0}^{n})\n",
    "$$\n",
    "        \n",
    "$$  - \\mathbf {u_{3,1}^{n+1/2}} + a (- \\mathbf {2u_{3,1}^{n+1/2}} + \\mathbf {u_{2,1}^{n+1/2}})= -u_{3,1}^{n} - a u_{4,1}^{n+1/2} + b(u_{3,2}^{n} - 2u_{3,1}^{n} + u_{3,0}^{n})\n",
    "$$\n",
    "         \n",
    "$$\n",
    "    \\begin{bmatrix}\n",
    "    -1-2a  & a &  0 \\\\\n",
    "    a &  -1-2a & a \\\\\n",
    "    0  & a &  -1-2a \\\\\n",
    "    \\end{bmatrix}\n",
    "    \\begin{bmatrix}\n",
    "    U_{1,1}^{n+1/2} \\\\\n",
    "    U_{2,1}^{n+1/2} \\\\\n",
    "    U_{3,1}^{n+1/2} \\\\\n",
    "    \\end{bmatrix}\n",
    "    = \n",
    "    \\begin{bmatrix}\n",
    "    -u_{1,1}^{n} - a (u_{0,1}^{n+1/2}) + b(u_{1,2}^{n} - 2u_{1,1}^{n} + u_{1,0}^{n}) \\\\\n",
    "    -u_{2,1}^{n} + b(u_{2,2}^{n} - 2u_{2,1}^{n} + u_{2,0}^{n}) \\\\\n",
    "    -u_{3,1}^{n} - a u_{4,1}^{n+1/2} + b(u_{3,2}^{n} - 2u_{3,1}^{n} + u_{3,0}^{n}) \\\\\n",
    "    \\end{bmatrix}\n",
    "$$"
   ]
  },
  {
   "cell_type": "markdown",
   "id": "962f8ce2-7cc7-4ecd-b371-13f218eca37c",
   "metadata": {},
   "source": [
    "## <center> Passo 2</center>\n",
    "\n",
    "\\begin{equation}\\frac {u_{i,j}^{n+1} - u_{i,j}^{n+1/2}}{\\Delta t/2} = \\alpha (\\hat\\delta_x^2 u_{i,j}^{n+1/2} + \\hat \\delta_y^2 u_{i,j}^{n+1})\n",
    "\\end{equation}"
   ]
  },
  {
   "cell_type": "markdown",
   "id": "0845d917-8d3b-4f9f-b5a4-beea895bd95b",
   "metadata": {},
   "source": [
    "sabendo que \n",
    "\n",
    "$$\\hat \\delta _x^2 u_{i,j}^{n+1/2} = \\frac{u_{i+1,j}^{n+1/2} - 2u_{i,j}^{n+1/2} + u_{i-1,j}^{n+1/2}}{\\Delta x^2}$$\n",
    "\n",
    "$$\\hat \\delta _y^2 u_{i,j}^{n+1}= \\frac{u_{i,j+1}^{n+1} - 2u_{i,j}^{n+1} + u_{i,j-1}^{n+1}}{\\Delta y^2}$$"
   ]
  },
  {
   "cell_type": "markdown",
   "id": "a91e54e4-c7d7-4050-801a-4f739e43a992",
   "metadata": {},
   "source": [
    "Substituindo na formula geral do passo 2, temos\n",
    "\n"
   ]
  },
  {
   "cell_type": "markdown",
   "id": "cb8fd344-c087-4986-bad1-562f4d199147",
   "metadata": {},
   "source": [
    "<center>$\\frac {u_{i,j}^{n+1} - u_{i,j}^{n+1/2}}{\\Delta t/2} = \\alpha (\\frac{u_{i+1,j}^{n+1/2} - 2u_{i,j}^{n+1/2} + u_{i-1,j}^{n+1/2}}{\\Delta x^2} + \\frac{u_{i,j+1}^{n+1} - 2u_{i,j}^{n+1} + u_{i,j-1}^{n+1}}{\\Delta y^2})$"
   ]
  },
  {
   "cell_type": "markdown",
   "id": "674710c2-1192-4099-94e2-a93bded8ea6d",
   "metadata": {},
   "source": [
    "<center>$u_{i,j}^{n+1} - u_{i,j}^{n+1/2} = \\alpha \\frac{\\Delta t}{2}  (\\frac{u_{i+1,j}^{n+1/2} - 2u_{i,j}^{n+1/2} + u_{i-1,j}^{n+1/2}}{\\Delta x^2} + \\frac{u_{i,j+1}^{n+1} - 2u_{i,j}^{n+1} + u_{i,j-1}^{n+1}}{\\Delta y^2})$"
   ]
  },
  {
   "cell_type": "markdown",
   "id": "8b54e685-99e0-49cf-964f-2058aefe322e",
   "metadata": {},
   "source": [
    "<center>$ - u_{i,j}^{n+1/2} = - u_{i,j}^{n+1} + \\alpha \\frac{\\Delta t}{2}  (\\frac{u_{i+1,j}^{n+1/2} - 2u_{i,j}^{n+1/2} + u_{i-1,j}^{n+1/2}}{\\Delta x^2} + \\frac{u_{i,j+1}^{n+1} - 2u_{i,j}^{n+1} + u_{i,j-1}^{n+1}}{\\Delta y^2})$"
   ]
  },
  {
   "cell_type": "markdown",
   "id": "b2000ef6-63ba-40d2-b266-1f185f48355c",
   "metadata": {},
   "source": [
    "<center>$ u_{i,j}^{n+1/2} = u_{i,j}^{n+1} - \\alpha \\frac{\\Delta t}{2}  (\\frac{u_{i+1,j}^{n+1/2} - 2u_{i,j}^{n+1/2} + u_{i-1,j}^{n+1/2}}{\\Delta x^2} + \\frac{u_{i,j+1}^{n+1} - 2u_{i,j}^{n+1} + u_{i,j-1}^{n+1}}{\\Delta y^2})$"
   ]
  },
  {
   "cell_type": "markdown",
   "id": "f4801167-e669-44bb-a588-94e4d4fe4c7b",
   "metadata": {},
   "source": [
    "### tomando\n",
    "### $a = \\alpha \\frac{\\Delta t}{2\\Delta x^2}$\n",
    "\n",
    "### $b = \\alpha \\frac{\\Delta t}{2\\Delta y^2}$"
   ]
  },
  {
   "cell_type": "markdown",
   "id": "e6a113ee-4cba-4ce4-8f94-2090403e383d",
   "metadata": {},
   "source": [
    "<center>$ u_{i,j}^{n+1/2} = u_{i,j}^{n+1} - a(u_{i+1,j}^{n+1/2} - 2u_{i,j}^{n+1/2} + u_{i-1,j}^{n+1/2}) + b(u_{i,j+1}^{n+1} - 2u_{i,j}^{n+1} + u_{i,j-1}^{n+1})$"
   ]
  },
  {
   "cell_type": "markdown",
   "id": "ba46f385-0248-431f-88ff-320bb194795f",
   "metadata": {},
   "source": [
    "para i = 1 e j = 1 ponto 1\n",
    "\n",
    "<center>$ u_{1,1}^{n+1/2} = u_{1,1}^{n+1} - a(u_{2,1}^{n+1/2} - 2u_{1,1}^{n+1/2} + u_{0,1}^{n+1/2}) + b(u_{1,2}^{n+1} - 2u_{1,1}^{n+1} + u_{1,0}^{n+1})$"
   ]
  },
  {
   "cell_type": "markdown",
   "id": "c9e0402b-d4e3-472d-91fc-6a8eb79342f2",
   "metadata": {},
   "source": [
    "para i = 1 e j = 2 ponto 2\n",
    "\n",
    "<center>$ u_{1,2}^{n+1/2} = u_{1,2}^{n+1} - a(u_{2,2}^{n+1/2} - 2u_{1,2}^{n+1/2} + u_{0,2}^{n+1/2}) + b(u_{1,3}^{n+1} - 2u_{1,2}^{n+1} + u_{1,1}^{n+1})$"
   ]
  },
  {
   "cell_type": "markdown",
   "id": "97bc41bc-834d-4c51-9980-76d1f7cbe9cc",
   "metadata": {},
   "source": [
    "para i = 1 e j = 3 ponto 3\n",
    "\n",
    "<center>$ u_{1,3}^{n+1/2} = u_{1,3}^{n+1} - a(u_{2,3}^{n+1/2} - 2u_{1,3}^{n+1/2} + u_{0,3}^{n+1/2}) + b(u_{1,4}^{n+1} - 2u_{1,3}^{n+1} + u_{1,2}^{n+1})$"
   ]
  },
  {
   "cell_type": "markdown",
   "id": "4ddff53c-5b6c-4b87-aa60-76b62889ecfd",
   "metadata": {},
   "source": [
    "marcando os termos desconhecidos nas 3 equações\n",
    "\n",
    "<center>$ u_{1,1}^{n+1/2} = \\mathbf{u_{1,1}^{n+1}} - a(u_{2,1}^{n+1/2} - 2u_{1,1}^{n+1/2} + u_{0,1}^{n+1/2}) + b(\\mathbf{u_{1,2}^{n+1}} - 2\\mathbf{u_{1,1}^{n+1}} + u_{1,0}^{n+1})$\n",
    "\n",
    "<center>$ u_{1,2}^{n+1/2} = \\mathbf{u_{1,2}^{n+1}} - a(u_{2,2}^{n+1/2} - 2u_{1,2}^{n+1/2} + u_{0,2}^{n+1/2}) + b(\\mathbf{u_{1,3}^{n+1}} - \\mathbf{2u_{1,2}^{n+1}} + \\mathbf{u_{1,1}^{n+1}})$\n",
    "\n",
    "<center>$ u_{1,3}^{n+1/2} = \\mathbf{u_{1,3}^{n+1}} - a(u_{2,3}^{n+1/2} - 2u_{1,3}^{n+1/2} + u_{0,3}^{n+1/2}) + b(u_{1,4}^{n+1} - 2\\mathbf{u_{1,3}^{n+1}} + \\mathbf{u_{1,2}^{n+1}})$"
   ]
  },
  {
   "cell_type": "markdown",
   "id": "404bad4b-c0ba-46e5-9455-82adbfe9013c",
   "metadata": {},
   "source": [
    "marcando os termos desconhecidos nas 3 equações\n",
    "\n",
    "<center>$ - \\mathbf{u_{1,1}^{n+1}} -b(\\mathbf{u_{1,2}^{n+1}} - 2\\mathbf{u_{1,1}^{n+1}}) = - u_{1,1}^{n+1/2} - a(u_{2,1}^{n+1/2} - 2u_{1,1}^{n+1/2} + u_{0,1}^{n+1/2}) + b(u_{1,0}^{n+1})$\n",
    "\n",
    "<center>$ - \\mathbf{u_{1,2}^{n+1}} - b(\\mathbf{u_{1,3}^{n+1}} - \\mathbf{2u_{1,2}^{n+1}} + \\mathbf{u_{1,1}^{n+1}})= - u_{1,2}^{n+1/2} - a(u_{2,2}^{n+1/2} - 2u_{1,2}^{n+1/2} + u_{0,2}^{n+1/2})$\n",
    "\n",
    "<center>$ - \\mathbf{u_{1,3}^{n+1}} - b(- 2\\mathbf{u_{1,3}^{n+1}} + \\mathbf{u_{1,2}^{n+1}}) = - u_{1,3}^{n+1/2} - a(u_{2,3}^{n+1/2} - 2u_{1,3}^{n+1/2} + u_{0,3}^{n+1/2}) + b(u_{1,4}^{n+1})$"
   ]
  },
  {
   "cell_type": "markdown",
   "id": "a5722f0f-b78a-49eb-9ac6-a690934be981",
   "metadata": {},
   "source": [
    "$$\n",
    "    \\begin{bmatrix}\n",
    "    -1+2b & -b &  0 \\\\\n",
    "    -b &  -1+2b & -b \\\\\n",
    "    0  & -b &  -1+2b \\\\\n",
    "    \\end{bmatrix}\n",
    "    \\begin{bmatrix}\n",
    "    U_{1,1}^{n+1} \\\\\n",
    "    U_{1,2}^{n+1} \\\\\n",
    "    U_{1,3}^{n+1} \\\\\n",
    "    \\end{bmatrix}\n",
    "    = \n",
    "    \\begin{bmatrix}\n",
    "    -u_{1,1}^{n+1/2} - a(u_{2,1}^{n+1/2} - 2u_{1,1}^{n+1/2} + u_{0,1}^{n+1/2}) + bu_{1,0}^{n+1} \\\\\n",
    "    -u_{1,2}^{n+1/2} - a(u_{2,2}^{n+1/2} - 2u_{1,2}^{n+1/2} + u_{0,2}^{n+1/2}) \\\\\n",
    "    -u_{1,3}^{n+1/2} - a(u_{2,3}^{n+1/2} - 2u_{1,3}^{n+1/2} + u_{0,3}^{n+1/2}) + bu_{1,4}^{n+1}\\\\\n",
    "    \\end{bmatrix}\n",
    "$$"
   ]
  },
  {
   "cell_type": "markdown",
   "id": "61cacffa-15a8-4e36-9e71-67e331f92568",
   "metadata": {},
   "source": [
    "### Questão 1 da lista 6\n",
    "Resolva a equação 2D-permanente do calor em um quadrado unitário, $0 < x < 1, 0 < y < 1$, por diferenças finitas usando uma malha com $\\Delta x = \\Delta y = 0.05$. Estabeleça um **_critério de convergência_** e obtenha (ilustre em um gráfico) a distribuição de temperatura. Compare a temperatura no centro com a solução exata. Use as seguintes condições de contorno:\n",
    "\n",
    "\\begin{equation}\n",
    "T(0,y) = T(1,y) = 0\n",
    "\\label{eq:contorno1}\\tag{1.4}\n",
    "\\end{equation}\n",
    "  \n",
    "\\begin{equation} \n",
    "\\frac{\\partial T}{\\partial y} |_{y=0} = 0\n",
    "\\label{eq:contorno2}\\tag{1.5}\n",
    "\\end{equation}  \n",
    "\n",
    "\\begin{equation}\n",
    "T(x,1) = sin(\\pi y)\n",
    "\\label{eq:contorno3}\\tag{1.6}\n",
    "\\end{equation}\n",
    "\n"
   ]
  },
  {
   "cell_type": "code",
   "execution_count": 1,
   "id": "0f10b8a9-784d-4d68-8051-f95e6bc74ba5",
   "metadata": {},
   "outputs": [
    {
     "data": {
      "image/png": "[encoded data removed]",
      "text/plain": [
       "<Figure size 432x288 with 1 Axes>"
      ]
     },
     "metadata": {
      "needs_background": "light"
     },
     "output_type": "display_data"
    },
    {
     "data": {
      "image/png": "[encoded data removed]",
      "text/plain": [
       "<Figure size 432x288 with 1 Axes>"
      ]
     },
     "metadata": {
      "needs_background": "light"
     },
     "output_type": "display_data"
    },
    {
     "data": {
      "image/png": "[encoded data removed]",
      "text/plain": [
       "<Figure size 432x288 with 1 Axes>"
      ]
     },
     "metadata": {
      "needs_background": "light"
     },
     "output_type": "display_data"
    },
    {
     "data": {
      "image/png": "[encoded data removed]",
      "text/plain": [
       "<Figure size 432x288 with 1 Axes>"
      ]
     },
     "metadata": {
      "needs_background": "light"
     },
     "output_type": "display_data"
    },
    {
     "data": {
      "image/png": "[encoded data removed]",
      "text/plain": [
       "<Figure size 432x288 with 1 Axes>"
      ]
     },
     "metadata": {
      "needs_background": "light"
     },
     "output_type": "display_data"
    },
    {
     "data": {
      "image/png": "[encoded data removed]",
      "text/plain": [
       "<Figure size 432x288 with 1 Axes>"
      ]
     },
     "metadata": {
      "needs_background": "light"
     },
     "output_type": "display_data"
    },
    {
     "data": {
      "image/png": "[encoded data removed]",
      "text/plain": [
       "<Figure size 432x288 with 1 Axes>"
      ]
     },
     "metadata": {
      "needs_background": "light"
     },
     "output_type": "display_data"
    },
    {
     "data": {
      "image/png": "[encoded data removed]",
      "text/plain": [
       "<Figure size 432x288 with 1 Axes>"
      ]
     },
     "metadata": {
      "needs_background": "light"
     },
     "output_type": "display_data"
    },
    {
     "data": {
      "image/png": "[encoded data removed]",
      "text/plain": [
       "<Figure size 432x288 with 1 Axes>"
      ]
     },
     "metadata": {
      "needs_background": "light"
     },
     "output_type": "display_data"
    },
    {
     "data": {
      "image/png": "[encoded data removed]",
      "text/plain": [
       "<Figure size 432x288 with 1 Axes>"
      ]
     },
     "metadata": {
      "needs_background": "light"
     },
     "output_type": "display_data"
    }
   ],
   "source": [
    "from mpl_toolkits.mplot3d import Axes3D\n",
    "from mpl_toolkits import mplot3d\n",
    "import numpy as np\n",
    "import matplotlib.pyplot as plt\n",
    "import matplotlib.pyplot as plt\n",
    "from mpl_toolkits.mplot3d import Axes3D\n",
    "\n",
    "l_y = 1\n",
    "l_x = 1\n",
    "delta_x = 0.1\n",
    "delta_y = 0.1\n",
    "quantidade_de_iteracao = 10\n",
    "\n",
    "y = np.arange(0, l_y + delta_y, delta_y)\n",
    "x = np.arange(0, l_x + delta_x, delta_x)\n",
    "\n",
    "quantidade_de_pontos_y = len(y)\n",
    "quantidade_de_pontos_x = len(x)\n",
    "\n",
    "# Definindo a dimensão da matriz, -2 dois, porque leva em consideracação os pontos de contorno\n",
    "# eles não são contados na matriz A, pois sao conhecidos.\n",
    "quantidade_linhas_matriz_A_1 = quantidade_de_pontos_x - 2\n",
    "quantidade_linhas_matriz_A_2 = quantidade_de_pontos_y - 2\n",
    "quantidade_colunas_matriz_A_1 = quantidade_de_pontos_x - 2\n",
    "quantidade_colunas_matriz_A_2 = quantidade_de_pontos_y - 2\n",
    "\n",
    "# definindo os elementos do sistema Ax=C\n",
    "beta = delta_x / delta_y\n",
    "a = 1 / (2 * (1 + beta ** 2))\n",
    "b = (beta ** 2) / (2 * (1 + beta ** 2))\n",
    "\n",
    "# Criação da matriz A\n",
    "A_1 = np.zeros((quantidade_linhas_matriz_A_1 + 1, quantidade_colunas_matriz_A_1 + 1))\n",
    "A_2 = np.zeros((quantidade_linhas_matriz_A_2 + 1, quantidade_colunas_matriz_A_2 + 1))\n",
    "C_1 = np.zeros(quantidade_linhas_matriz_A_1)\n",
    "C_2 = np.zeros(quantidade_linhas_matriz_A_2)\n",
    "\n",
    "# Construção da matriz A\n",
    "for i in range(0, quantidade_linhas_matriz_A_1):\n",
    "    A_1[i, i - 1] = -a\n",
    "    A_1[i, i] = 1\n",
    "    A_1[i, i + 1] = -a\n",
    "A_1 = np.delete(A_1, (-1), axis=0)\n",
    "A_1 = np.delete(A_1, (-1), axis=1)\n",
    "\n",
    "# Construção da matriz A\n",
    "for i in range(0, quantidade_linhas_matriz_A_2):\n",
    "    A_2[i, i - 1] = -a\n",
    "    A_2[i, i] = 1\n",
    "    A_2[i, i + 1] = -a\n",
    "A_2 = np.delete(A_2, (-1), axis=0)\n",
    "A_2 = np.delete(A_2, (-1), axis=1)\n",
    "\n",
    "# u = np.zeros((quantidade_de_iteracao, quantidade_de_pontos_y, quantidade_de_pontos_y, quantidade_de_pontos_x))\n",
    "u_old = np.zeros((quantidade_de_pontos_y, quantidade_de_pontos_x))\n",
    "u_new = np.zeros((quantidade_de_pontos_y, quantidade_de_pontos_x))\n",
    "\n",
    "# chute inicial que é a média\n",
    "u_old[:, :] = np.mean(np.sin(x * np.pi))\n",
    "u_new = u_old\n",
    "# u[0] = u_old\n",
    "\n",
    "# Condições de contorno\n",
    "u_old[0, :] = 0\n",
    "u_old[:, 0] = 0\n",
    "u_old[:, -1] = 0\n",
    "u_old[-1, :] = np.sin(x * np.pi)\n",
    "\n",
    "for n in range(0, quantidade_de_iteracao):\n",
    "    cs = plt.contourf(x, y, u_new[:, :])\n",
    "    cs.cmap.set_over('red')\n",
    "    cs.cmap.set_under('blue')\n",
    "    plt.pause(1e-10)\n",
    "    \n",
    "    if n % 2 != 0:\n",
    "        # por coluna\n",
    "        for j in range(1, quantidade_de_pontos_x - 1):\n",
    "            C_2[:] = b * (u_old[1:-1, j + 1] + u_old[1:-1, j - 1])\n",
    "\n",
    "            C_2[0] = C_2[0] + a * (u_old[0, j])\n",
    "            C_2[-1] = C_2[-1] + a * (u_old[-1, j])\n",
    "\n",
    "            u_new[1:-1, j] = np.linalg.solve(A_2, C_2)\n",
    "            u_old = u_new  \n",
    "    else:\n",
    "        # por linhas\n",
    "        for j in range(1, quantidade_de_pontos_y - 1):\n",
    "            C_1[:] = b * (u_old[j + 1, 1:-1] + u_old[j - 1, 1:-1])\n",
    "            C_1[0] = C_1[0] + a * (u_old[j, 0])\n",
    "            C_1[-1] = C_1[-1] + a * (u_old[j, -1])\n",
    "\n",
    "            u_new[j, 1:-1] = np.linalg.solve(A_1, C_1)\n",
    "            u_old = u_new \n",
    "plt.show()"
   ]
  },
  {
   "cell_type": "code",
   "execution_count": null,
   "id": "143c3a9c-741e-474d-9d10-512ca033bb8d",
   "metadata": {},
   "outputs": [],
   "source": []
  }
 ],
 "metadata": {
  "kernelspec": {
   "display_name": "Python 3 (ipykernel)",
   "language": "python",
   "name": "python3"
  },
  "language_info": {
   "codemirror_mode": {
    "name": "ipython",
    "version": 3
   },
   "file_extension": ".py",
   "mimetype": "text/x-python",
   "name": "python",
   "nbconvert_exporter": "python",
   "pygments_lexer": "ipython3",
   "version": "3.10.6"
  }
 },
 "nbformat": 4,
 "nbformat_minor": 5
}
