{
 "cells": [
  {
   "cell_type": "code",
   "execution_count": 2,
   "id": "9f465b91-a4f6-4e16-a6cd-e801470db1dc",
   "metadata": {},
   "outputs": [],
   "source": [
    "from mpl_toolkits.mplot3d import Axes3D\n",
    "from mpl_toolkits import mplot3d\n",
    "import numpy as np\n",
    "import matplotlib.pyplot as plt\n",
    "import matplotlib.pyplot as plt\n",
    "from mpl_toolkits.mplot3d import Axes3D"
   ]
  },
  {
   "cell_type": "code",
   "execution_count": 11,
   "id": "5c7bec88-eb90-441c-b71d-fe4fb1f8d88c",
   "metadata": {},
   "outputs": [
    {
     "data": {
      "text/plain": [
       "<Figure size 1100x700 with 0 Axes>"
      ]
     },
     "metadata": {},
     "output_type": "display_data"
    }
   ],
   "source": [
    "from mpl_toolkits.mplot3d import Axes3D\n",
    "from mpl_toolkits import mplot3d\n",
    "import numpy as np\n",
    "import matplotlib.pyplot as plt\n",
    "import matplotlib.pyplot as plt\n",
    "from mpl_toolkits.mplot3d import Axes3D\n",
    "\n",
    "l_y = 1\n",
    "l_x = 1\n",
    "delta_x = 0.1\n",
    "delta_y = 0.1\n",
    "\n",
    "y = np.arange(0, l_y + delta_y, delta_y)\n",
    "x = np.arange(0, l_x + delta_x, delta_x)\n",
    "\n",
    "quantidade_de_iteracao = 1000\n",
    "quantidade_de_pontos_y = len(y)\n",
    "quantidade_de_pontos_x = len(x)\n",
    "\n",
    "u_old = np.zeros((quantidade_de_pontos_y, quantidade_de_pontos_x))\n",
    "u_new = np.zeros((quantidade_de_pontos_y, quantidade_de_pontos_x))\n",
    "u_new_corrigido = np.zeros((quantidade_de_pontos_y, quantidade_de_pontos_x))\n",
    "\n",
    "# chute inicial que é a média\n",
    "u_old[:, :] = np.mean(np.sin(x * np.pi))\n",
    "\n",
    "# condições de contorno\n",
    "constante = 0\n",
    "u_old[0, :] = constante\n",
    "u_old[:, 0] = 0\n",
    "u_old[:, -1] = 0\n",
    "u_old[-1, :] = np.sin(x * np.pi)\n",
    "\n",
    "# Recebe iteração dos valores k+1. é -2 porque os contornos se repetem.\n",
    "u_new[:, :] = u_old[:, :]\n",
    "u_new_corrigido[:, :] = u_old[:, :]\n",
    "\n",
    "beta = delta_x / delta_y\n",
    "\n",
    "# sigma\n",
    "omega = 1\n",
    "\n",
    "# PLACA.round(2)\n",
    "fig = plt.figure(figsize=(11, 7), dpi=100)\n",
    "for n in range(0, quantidade_de_iteracao):\n",
    "    for i in range(1, quantidade_de_pontos_y - 1):\n",
    "        for j in range(1, quantidade_de_pontos_x - 1):\n",
    "            u_new[i, j] = (u_old[i + 1, j] + u_new[i - 1, j] + beta ** 2 * (u_old[i, j + 1] + u_new[i, j - 1])) / (\n",
    "                        2 * (1 + beta ** 2))\n",
    "            u_new_corrigido = u_new_corrigido + 1.99 * (u_new - u_new_corrigido)\n",
    "            u_old = u_new_corrigido\n",
    "\n",
    "    cs = plt.contourf(x,y,u_new_corrigido)\n",
    "    cs.cmap.set_over('red')\n",
    "    cs.cmap.set_under('blue')\n",
    "    plt.pause(0.1)\n",
    "plt.colorbar()\n",
    "\n",
    "plt.show()\n"
   ]
  },
  {
   "cell_type": "code",
   "execution_count": 10,
   "id": "02ce38bc-e5d7-4c27-8211-4016246a840f",
   "metadata": {},
   "outputs": [
    {
     "data": {
      "text/plain": [
       "array([[   0. ,    0. ,    0. ,    0. ,    0. ,    0. ,    0. ,    0. ,\n",
       "           0. ],\n",
       "       [   0. ,    5.7,    8. ,    5.7,   -0.1,   -5.6,   -8.2,   -5.7,\n",
       "           0. ],\n",
       "       [   0. ,   14.9,   21.2,   14.9,   -0. ,  -14.9,  -21.3,  -14.9,\n",
       "           0. ],\n",
       "       [   0. ,   33.2,   46.8,   33.1,    0.1,  -33.5,  -46.7,  -33.5,\n",
       "           0. ],\n",
       "       [   0. ,   70.7,  100. ,   70.7,    0. ,  -70.7, -100. ,  -70.7,\n",
       "          -0. ]])"
      ]
     },
     "execution_count": 10,
     "metadata": {},
     "output_type": "execute_result"
    }
   ],
   "source": [
    "u.round(1)"
   ]
  },
  {
   "cell_type": "code",
   "execution_count": null,
   "id": "4101bebd-7e8d-400c-8c9b-a80290f51491",
   "metadata": {},
   "outputs": [],
   "source": []
  }
 ],
 "metadata": {
  "kernelspec": {
   "display_name": "Python 3 (ipykernel)",
   "language": "python",
   "name": "python3"
  },
  "language_info": {
   "codemirror_mode": {
    "name": "ipython",
    "version": 3
   },
   "file_extension": ".py",
   "mimetype": "text/x-python",
   "name": "python",
   "nbconvert_exporter": "python",
   "pygments_lexer": "ipython3",
   "version": "3.10.6"
  }
 },
 "nbformat": 4,
 "nbformat_minor": 5
}
