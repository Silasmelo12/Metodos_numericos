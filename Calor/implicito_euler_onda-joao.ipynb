{
 "cells": [
  {
   "cell_type": "code",
   "execution_count": 6,
   "id": "f3349bee-a679-405e-b423-2c862d4f9eef",
   "metadata": {},
   "outputs": [],
   "source": [
    "import numpy as np\n",
    "import matplotlib.pyplot as plt "
   ]
  },
  {
   "cell_type": "code",
   "execution_count": 11,
   "id": "63766009",
   "metadata": {
    "scrolled": true
   },
   "outputs": [
    {
     "data": {
      "image/png": "[encoded data removed]",
      "text/plain": [
       "<Figure size 432x288 with 1 Axes>"
      ]
     },
     "metadata": {
      "needs_background": "light"
     },
     "output_type": "display_data"
    }
   ],
   "source": [
    "delta_x = 1\n",
    "quant_pontos = 41\n",
    "\n",
    "l = quant_pontos*delta_x-1\n",
    "t = 18\n",
    "\n",
    "delta_t = 1\n",
    "c = 1\n",
    "\n",
    "'''\n",
    "    Linspace é muito parecida, mas com uma pequena diferença. \n",
    "    Linspace retorna números espaçados de modo uniforme em um intervalo. \n",
    "    Dessa forma, dado um ponto inicial e de parada, \n",
    "    assim como a quantidade de valores, linspace irá distribuí-los\n",
    "    uniformemente para você em uma matriz NumPy. Isso é especialmente \n",
    "    útil para visualizações de dados e declaração de eixos durante a plotagem.\n",
    "'''\n",
    "\n",
    "x = np.linspace(0, l, quant_pontos)\n",
    "\n",
    "# quantidade de passos de tempo\n",
    "quant_tempo = int(t/delta_t)\n",
    "\n",
    "# numero de courant NI\n",
    "v = c*(delta_t/delta_x)\n",
    "\n",
    "# dimensão da matriz A\n",
    "quant_linha_A  = quant_pontos-2\n",
    "quant_coluna_A = quant_pontos-2\n",
    "\n",
    "# criação das variáveis para solução do sistema. criando tudo zero.\n",
    "A     = np.zeros((quant_linha_A,quant_coluna_A))\n",
    "C     = np.zeros(quant_linha_A)\n",
    "u_old = np.zeros(quant_pontos)\n",
    "u_new = np.zeros(quant_pontos)\n",
    "a     = np.zeros(quant_coluna_A-1)\n",
    "b     = np.zeros(quant_coluna_A-1)\n",
    "d     = np.zeros(quant_coluna_A)\n",
    "\n",
    "# substituindo os zeros pelo valor devido.\n",
    "a[:] = v/2\n",
    "b[:] = -v/2\n",
    "d[:] = 1\n",
    "\n",
    "# condição inicial\n",
    "indice = 0\n",
    "for i in x:\n",
    "    if i <= 10.:\n",
    "        u_old[indice] = 1\n",
    "    else:\n",
    "        u_old[indice] = 0\n",
    "    indice+=1\n",
    "\n",
    "# construção da matriz A tridiagonal\n",
    "for i in range(0,quant_linha_A):\n",
    "    A[i,i]   = d[i]\n",
    "\n",
    "for i in range(1,quant_linha_A):\n",
    "    A[i-1,i]   = a[i-2]\n",
    "    A[i,i-1] = b[i-2]\n",
    "\n",
    "# Solução do esquema\n",
    "for i in range(1,quant_tempo):\n",
    "    # atualização do vetor C\n",
    "    C[:] = u_old[1:-1]\n",
    "    # o valor do C1 é C1-b1*U0 porque o contorno é conhecido, então u0 deve ficar em C \n",
    "    # Assim também como o Cm.\n",
    "    C[0]  = C[0]  - b[0] *u_old[0]\n",
    "    C[-1] = C[-1] - b[-1]*u_old[-1]\n",
    "\n",
    "    # chama um solver de sistema.\n",
    "\n",
    "    u_new = np.linalg.solve(A,C)\n",
    "    #print(\"linalg anterior: \",u_new)\n",
    "    #u_new = thomas(A,C)\n",
    "    # Atualiza a solução old.\n",
    "    u_old[1:-1] = u_new\n",
    "\n",
    "plt.plot(u_new);"
   ]
  },
  {
   "cell_type": "code",
   "execution_count": 8,
   "id": "403afb9a",
   "metadata": {},
   "outputs": [
    {
     "ename": "SyntaxError",
     "evalue": "invalid syntax (2554196376.py, line 23)",
     "output_type": "error",
     "traceback": [
      "\u001b[0;36m  File \u001b[0;32m\"/tmp/ipykernel_14104/2554196376.py\"\u001b[0;36m, line \u001b[0;32m23\u001b[0m\n\u001b[0;31m    aa =\u001b[0m\n\u001b[0m         ^\u001b[0m\n\u001b[0;31mSyntaxError\u001b[0m\u001b[0;31m:\u001b[0m invalid syntax\n"
     ]
    }
   ],
   "source": [
    "def thomas(A, C):\n",
    "    lin = len(A)\n",
    "    col = len(A)\n",
    "    # algoritmo de Thomas\n",
    "    linal = np.linalg.solve(A, C)\n",
    "    A[0, 1] = A[0, 1] / A[0, 0]\n",
    "    for i in range(1, lin - 1):\n",
    "        A[i, i + 1] = A[i, i + 1] / (A[i, i] - (A[i, i - 1] * A[i - 1, i]))\n",
    "        A[i, i - 1] = 0\n",
    "    A[-1, -2] = 0\n",
    "    C[0] = C[0] / A[0, 0]\n",
    "    for i in range(1, lin):\n",
    "        C[i] = (C[i] - A[i, i - 1] * C[i - 1]) / (A[i, i] - (A[i, i - 1] * A[i - 1, i]))\n",
    "\n",
    "    u_t = np.zeros(lin)\n",
    "\n",
    "    u_t[-1] = C[-1]\n",
    "    for j in range(lin - 2, -1, -1):\n",
    "        # u_num[1,j+1] = (C[j]-A[j,j+1]-u_num[1,j+2])/A[j,j]\n",
    "        #print(j)\n",
    "        u_t[j] = C[j] - A[j, j + 1] * u_t[j + 1]\n",
    "\n",
    "    aa = \n",
    "    \n",
    "    aa[:] = linal[:]\n",
    "    print(\"linalg: \", aa.round(3))\n",
    "    print(\"thomas: \", u_t.round(3))\n",
    "\n",
    "    return u_t"
   ]
  },
  {
   "cell_type": "code",
   "execution_count": 9,
   "id": "67d8906f-aecc-4173-a5bb-ded5e7ec962f",
   "metadata": {},
   "outputs": [],
   "source": [
    "def thomas(A, C):\n",
    "    lin = len(A)\n",
    "    col = len(A)\n",
    "    # algoritmo de Thomas\n",
    "    A[0, 1] = A[0, 1] / A[0, 0]\n",
    "    for i in range(1, lin - 1):\n",
    "        A[i, i + 1] = A[i, i + 1] / (A[i, i] - (A[i, i - 1] * A[i - 1, i]))\n",
    "        A[i, i - 1] = 0\n",
    "    A[-1, -2] = 0\n",
    "    C[0] = C[0] / A[0, 0]\n",
    "    for i in range(1, lin):\n",
    "        C[i] = (C[i] - A[i, i - 1] * C[i - 1]) / (A[i, i] - (A[i, i - 1] * A[i - 1, i]))\n",
    "\n",
    "    u_t = np.zeros(lin)\n",
    "\n",
    "    u_t[-1] = C[-1]\n",
    "    for j in range(lin - 2, -1, -1):\n",
    "        # u_num[1,j+1] = (C[j]-A[j,j+1]-u_num[1,j+2])/A[j,j]\n",
    "        #print(j)\n",
    "        u_t[j] = C[j] - A[j, j + 1] * u_t[j + 1]\n",
    "\n",
    "    #print(A)\n",
    "    aa = u_t\n",
    "    linal = np.linalg.solve(A, C)\n",
    "    aa[:] = linal[:]\n",
    "    print(\"linalg: \", aa.round(3))\n",
    "    print(\"thomas: \", u_t.round(3))\n",
    "\n",
    "    return u_t"
   ]
  },
  {
   "cell_type": "code",
   "execution_count": null,
   "id": "a90d27d4-2c6a-41ba-a039-5104c698cad3",
   "metadata": {},
   "outputs": [],
   "source": []
  },
  {
   "cell_type": "code",
   "execution_count": null,
   "id": "0610762c",
   "metadata": {},
   "outputs": [],
   "source": []
  }
 ],
 "metadata": {
  "kernelspec": {
   "display_name": "Python 3 (ipykernel)",
   "language": "python",
   "name": "python3"
  },
  "language_info": {
   "codemirror_mode": {
    "name": "ipython",
    "version": 3
   },
   "file_extension": ".py",
   "mimetype": "text/x-python",
   "name": "python",
   "nbconvert_exporter": "python",
   "pygments_lexer": "ipython3",
   "version": "3.10.6"
  }
 },
 "nbformat": 4,
 "nbformat_minor": 5
}
