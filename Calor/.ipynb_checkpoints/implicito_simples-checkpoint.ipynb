{
 "cells": [
  {
   "cell_type": "code",
   "execution_count": 2,
   "id": "403afb9a",
   "metadata": {},
   "outputs": [],
   "source": [
    "def thomas(A, C):\n",
    "    lin = len(A)\n",
    "    col = len(A)\n",
    "    # algoritmo de Thomas\n",
    "    A[0, 1] = A[0, 1] / A[0, 0]\n",
    "    for i in range(1, lin - 1):\n",
    "        A[i, i + 1] = A[i, i + 1] / (A[i, i] - (A[i, i - 1] * A[i - 1, i]))\n",
    "        A[i, i - 1] = 0\n",
    "    A[-1, -2] = 0\n",
    "    C[0] = C[0] / A[0, 0]\n",
    "    for i in range(1, lin):\n",
    "        C[i] = (C[i] - A[i, i - 1] * C[i - 1]) / (A[i, i] - (A[i, i - 1] * A[i - 1, i]))\n",
    "\n",
    "    u_t = np.zeros(lin)\n",
    "\n",
    "    u_t[-1] = C[-1]\n",
    "    for j in range(lin - 2, -1, -1):\n",
    "        # u_num[1,j+1] = (C[j]-A[j,j+1]-u_num[1,j+2])/A[j,j]\n",
    "        #print(j)\n",
    "        u_t[j] = C[j] - A[j, j + 1] * u_t[j + 1]\n",
    "\n",
    "    #print(A)\n",
    "    aa = u_t\n",
    "    linal = np.linalg.solve(A, C)\n",
    "    aa[:] = linal[:]\n",
    "    print(\"linalg: \", aa.round(3))\n",
    "    print(\"thomas: \", u_t.round(3))\n",
    "\n",
    "    return u_t"
   ]
  },
  {
   "cell_type": "code",
   "execution_count": 3,
   "id": "63766009",
   "metadata": {},
   "outputs": [
    {
     "name": "stdout",
     "output_type": "stream",
     "text": [
      "linalg:  [19.325 34.879 46.947 54.418 56.561 53.168 44.573 31.632 15.766]\n",
      "thomas:  [19.325 34.879 46.947 54.418 56.561 53.168 44.573 31.632 15.766]\n"
     ]
    }
   ],
   "source": [
    "import numpy as np\n",
    "import matplotlib.pyplot as plt \n",
    "\n",
    "l = 1\n",
    "t = 0.5\n",
    "delta_x = 0.1\n",
    "delta_t = 0.01\n",
    "difusividade_termica = 0.2\n",
    "\n",
    "x = np.arange(0, l + delta_x, delta_x)\n",
    "t = np.arange(0, 1 + delta_t, delta_t)\n",
    "\n",
    "num_tempo = len(t)\n",
    "num_pontos = len(x)\n",
    "#print(\"numero de ponrtos implicito: \", num_pontos)\n",
    "\n",
    "u_num = np.zeros((num_tempo, num_pontos))\n",
    "\n",
    "col = num_pontos - 2\n",
    "lin = num_pontos - 2\n",
    "\n",
    "C = np.zeros(col)\n",
    "A = np.zeros(col)\n",
    "u = np.zeros(col)\n",
    "\n",
    "lamb = (delta_t / (delta_x**2)) * difusividade_termica\n",
    "\n",
    "# CONDIÇÕES INICIAIS\n",
    "u_num[0, :] = 100 * np.sin(np.pi * x / l)\n",
    "u_num[0, num_pontos - 1] = 0\n",
    "u_num[:, 0] = 0\n",
    "u_num[:, num_pontos - 1] = 0\n",
    "\n",
    "# MATRIZ A TRIDIAGONAL DO SISTEMA Ax = C\n",
    "A = np.zeros((lin, col))\n",
    "\n",
    "# ELEMENTOS DE A\n",
    "a = -lamb\n",
    "b = -lamb\n",
    "d = 1+2*lamb\n",
    "\n",
    "# VETOR C INICIAL\n",
    "C[0] = u_num[0, 1] - b * u_num[0, 0]\n",
    "C[-1] = u_num[0, -2] - a * u_num[1, - 1]\n",
    "C[:] = u_num[0, 1:-1]\n",
    "\n",
    "\n",
    "# CONSTRUÇÃO DA MATRIZ A\n",
    "A[0, 0] = d\n",
    "A[0, 1] = a\n",
    "\n",
    "for i in range(1, lin - 1):\n",
    "    A[i, i] = d\n",
    "    A[i, i - 1] = b\n",
    "    A[i, i + 1] = a\n",
    "A[lin - 1, col - 1] = d\n",
    "A[lin - 1, col - 2] = b\n",
    "\n",
    "# CHAMA O ALGORITMO DE THOMAS\n",
    "u_t = thomas(A, C)"
   ]
  },
  {
   "cell_type": "code",
   "execution_count": null,
   "id": "0f70e4d6",
   "metadata": {},
   "outputs": [],
   "source": []
  }
 ],
 "metadata": {
  "kernelspec": {
   "display_name": "Python 3 (ipykernel)",
   "language": "python",
   "name": "python3"
  },
  "language_info": {
   "codemirror_mode": {
    "name": "ipython",
    "version": 3
   },
   "file_extension": ".py",
   "mimetype": "text/x-python",
   "name": "python",
   "nbconvert_exporter": "python",
   "pygments_lexer": "ipython3",
   "version": "3.10.6"
  }
 },
 "nbformat": 4,
 "nbformat_minor": 5
}
