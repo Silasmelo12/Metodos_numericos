{
 "cells": [
  {
   "cell_type": "markdown",
   "id": "61cacffa-15a8-4e36-9e71-67e331f92568",
   "metadata": {},
   "source": [
    "Resolva a equação 2D-permanente do calor em um quadrado unitário, $0 < x < 1, 0 < y < 1$, por diferenças finitas usando uma malha com $\\Delta x = \\Delta y = 0.05$. Estabeleça um **_critério de convergência_** e obtenha (ilustre em um gráfico) a distribuição de temperatura. Compare a temperatura no centro com a solução exata. Use as seguintes condições de contorno:\n",
    "$$ \n",
    "\\begin{align} \\label{eqCondicaoDeContorno1}\\tag{1.1}\n",
    "T(0,y) = T(1,y) = 0\n",
    "\\end{align}\n",
    "$$ \n",
    "$$ \n",
    "\\begin{align} \\label{eqCondicaoDeContorno2}\\tag{1.2}\n",
    "T(x,1) = sin(\\pi y)\n",
    "\\end{align}\n",
    "$$\n",
    "$$ \n",
    "\\begin{align} \\label{eqCondicaoDeContorno3}\\tag{1.3}\n",
    "T(x,1) = sin(\\pi x)\n",
    "\\end{align}\n",
    "$$\n",
    "\n",
    "See (\\ref{eqCondicaoDeContorno2}) and (\\ref{eqCondicaoDeContorno3})"
   ]
  },
  {
   "cell_type": "markdown",
   "id": "d7f92d7f-f48c-4d91-9a1a-c4b21192cd31",
   "metadata": {},
   "source": []
  },
  {
   "cell_type": "markdown",
   "id": "30ff8188-63fe-4d78-b2ee-c22f0d5c55e5",
   "metadata": {},
   "source": []
  },
  {
   "cell_type": "markdown",
   "id": "be1cc4ab-32ed-48bf-8565-d3d4fe83c5af",
   "metadata": {},
   "source": []
  },
  {
   "cell_type": "markdown",
   "id": "ae963ad4-a803-470e-ab4d-2363370c6c9e",
   "metadata": {},
   "source": [
    "See (\\ref{eqCondicaoDeContorno_2}) and (\\ref{eqCondicaoDeContorno_3})"
   ]
  },
  {
   "cell_type": "markdown",
   "id": "1ef31fd8-c4d2-4b1c-a640-10bf7134ddb2",
   "metadata": {},
   "source": [
    "# <center>Passo 1</center>"
   ]
  },
  {
   "cell_type": "markdown",
   "id": "db3e4b64-c289-4448-96b5-eed21ec16ce8",
   "metadata": {},
   "source": [
    "# <center>$\\frac {u_{i,j}^{n+1/2} - u_{i,j}^{n}}{\\Delta t/2} = \\alpha (\\hat\\delta_x^2 u_{i,j}^{n+1/2} + \\hat \\delta_y^2 u_{i,j}^{n})$"
   ]
  },
  {
   "cell_type": "markdown",
   "id": "8672bc11-31a6-4bab-9700-97d6cb1849a3",
   "metadata": {},
   "source": [
    "sabendo que \n",
    "\n",
    "$\\hat \\delta _x^2 u_{i,j}^{n}= \\frac{u_{i+1,j}^{n} - 2u_{i,j}^{n} + u_{i-1,j}^{n}}{\\Delta x^2} = \\frac{\\delta_x^2 u_{i,j}^{n}}{\\Delta x^2} $\n",
    "\n",
    "$\\hat \\delta _y^2 u_{i,j}^{n}= \\frac{u_{i,j+1}^{n} - 2u_{i,j}^{n} + u_{i,j-1}^{n}}{\\Delta y^2} = \\frac{\\delta_y^2 u_{i,j}^{n}}{\\Delta y^2} $"
   ]
  },
  {
   "cell_type": "markdown",
   "id": "f04fd994-7bc8-4bde-ae2d-11ef95a33cbe",
   "metadata": {},
   "source": []
  },
  {
   "cell_type": "markdown",
   "id": "f4ca7675-23c4-4329-906f-bb064a9c83c2",
   "metadata": {},
   "source": [
    "<center> $\\hat \\delta _y^2 u_{i,j}^{n} = \\frac{u_{i,j+1}^{n} - 2u_{i,j}^{n} + u_{i,j-1}^{n}}{\\Delta y^2} = \\frac{\\delta_y^2 u_{i,j}^{n}}{\\Delta y^2} $"
   ]
  },
  {
   "cell_type": "code",
   "execution_count": null,
   "id": "14c9c392-bd37-4f63-8f72-b81ac49e327f",
   "metadata": {},
   "outputs": [],
   "source": []
  },
  {
   "cell_type": "markdown",
   "id": "58222658-677c-4fc2-a070-3ee02e91c067",
   "metadata": {},
   "source": [
    "<center> $\\hat \\delta _x^2 u_{i,j}^{n+1/2} = \\frac{u_{i+1,j}^{n+1/2} - 2u_{i,j}^{n+1/2} + u_{i-1,j}^{n+1/2}}{\\Delta x^2}$"
   ]
  },
  {
   "cell_type": "markdown",
   "id": "83386574-6836-4590-85d1-686bc65bd1cd",
   "metadata": {},
   "source": [
    "<center> $\\hat \\delta _y^2 u_{i,j}^{n+1/2} = \\frac{u_{i,j+1}^{n+1/2} - 2u_{i,j}^{n+1/2} + u_{i,j-1}^{n+1/2}}{\\Delta y^2}$"
   ]
  },
  {
   "cell_type": "markdown",
   "id": "a0a27339-1c24-40f5-8d10-02d4dc7b2a40",
   "metadata": {},
   "source": [
    "<center>$\\frac {u_{i,j}^{n+1/2} - u_{i,j}^{n}}{\\Delta t/2} = \\alpha (\\frac{u_{i+1,j}^{n+1/2} - 2u_{i,j}^{n+1/2} + u_{i-1,j}^{n+1/2}}{\\Delta x^2} + \\frac{u_{i,j+1}^{n} - 2u_{i,j}^{n} + u_{i,j-1}^{n}}{\\Delta y^2})$"
   ]
  },
  {
   "cell_type": "markdown",
   "id": "ddb45d63-ab40-4d82-817a-5bb48b159626",
   "metadata": {},
   "source": [
    "<center>$u_{i,j}^{n+1/2} - u_{i,j}^{n} = \\alpha \\frac{\\Delta t}{2} (\\frac{u_{i+1,j}^{n+1/2} - 2u_{i,j}^{n+1/2} + u_{i-1,j}^{n+1/2}}{\\Delta x^2} + \\frac{u_{i,j+1}^{n} - 2u_{i,j}^{n} + u_{i,j-1}^{n}}{\\Delta y^2})$"
   ]
  },
  {
   "cell_type": "markdown",
   "id": "02fa3f83-0dfa-465d-8cd1-10a61268dd5b",
   "metadata": {},
   "source": [
    "<center>$ - u_{i,j}^{n} = \\alpha \\frac{\\Delta t}{2} (\\frac{u_{i+1,j}^{n+1/2} - 2u_{i,j}^{n+1/2} + u_{i-1,j}^{n+1/2}}{\\Delta x^2} + \\frac{u_{i,j+1}^{n} - 2u_{i,j}^{n} + u_{i,j-1}^{n}}{\\Delta y^2}) - u_{i,j}^{n+1/2}$"
   ]
  },
  {
   "cell_type": "markdown",
   "id": "b7bc1f30-733d-4e07-a4d3-ab5845a5a93a",
   "metadata": {},
   "source": [
    "<center>$ u_{i,j}^{n} = u_{i,j}^{n+1/2} - \\alpha \\frac{\\Delta t}{2} (\\frac{u_{i+1,j}^{n+1/2} - 2u_{i,j}^{n+1/2} + u_{i-1,j}^{n+1/2}}{\\Delta x^2} + \\frac{u_{i,j+1}^{n} - 2u_{i,j}^{n} + u_{i,j-1}^{n}}{\\Delta y^2})$"
   ]
  },
  {
   "cell_type": "markdown",
   "id": "5d0a7e2e-0c99-46e7-8f1a-cd94cc6cfd43",
   "metadata": {},
   "source": [
    "### tomando\n",
    "### $a = \\alpha \\frac{\\Delta t}{2\\Delta x^2}$\n",
    "\n",
    "### $b = \\alpha \\frac{\\Delta t}{2\\Delta y^2}$"
   ]
  },
  {
   "cell_type": "code",
   "execution_count": null,
   "id": "7eacac13-e60b-4073-9fcc-b5c9c858bdcc",
   "metadata": {},
   "outputs": [],
   "source": []
  },
  {
   "cell_type": "markdown",
   "id": "c9261e8c-8f99-45b2-b4ab-00ba9ed39ec8",
   "metadata": {},
   "source": [
    "Substituindo temos: <center>$ u_{i,j}^{n} = u_{i,j}^{n+1/2} - a (u_{i+1,j}^{n+1/2} - 2u_{i,j}^{n+1/2} + u_{i-1,j}^{n+1/2}) + b(u_{i,j+1}^{n} - 2u_{i,j}^{n} + u_{i,j-1}^{n})$"
   ]
  },
  {
   "cell_type": "markdown",
   "id": "25042475-e01c-445e-8278-75ea601d30f6",
   "metadata": {},
   "source": [
    "para i = e 1 j = 1"
   ]
  },
  {
   "cell_type": "markdown",
   "id": "7ff7cc96-d0a1-4be1-b8c7-b4ff61df2335",
   "metadata": {},
   "source": [
    "<center>$ u_{1,1}^{n} = \\mathbf {u_{1,1}^{n+1/2}} - a (\\mathbf {u_{2,1}^{n+1/2}} - 2\\mathbf {u_{1,1}^{n+1/2}} + u_{0,1}^{n+1/2}) + b(u_{1,2}^{n} - 2u_{1,1}^{n} + u_{1,0}^{n})$"
   ]
  },
  {
   "cell_type": "markdown",
   "id": "d398b1af-dd9e-4ba9-8534-d00bb9a62ad0",
   "metadata": {},
   "source": [
    "para i = 2 e j = 1"
   ]
  },
  {
   "cell_type": "markdown",
   "id": "2ed40ae1-0bac-4014-b7b7-e3828058bb33",
   "metadata": {},
   "source": [
    "<center>$ u_{2,1}^{n} = \\mathbf {u_{2,1}^{n+1/2} - a (u_{3,1}^{n+1/2} - 2u_{2,1}^{n+1/2} + u_{1,1}^{n+1/2})} + b(u_{2,2}^{n} - 2u_{2,1}^{n} + u_{2,0}^{n})$"
   ]
  },
  {
   "cell_type": "markdown",
   "id": "af620d87-35c2-487f-a244-9aa882ff4169",
   "metadata": {},
   "source": [
    "para i = 3 e j = 1"
   ]
  },
  {
   "cell_type": "markdown",
   "id": "97d17d74-2c91-426b-8081-34d52a6b5cbf",
   "metadata": {},
   "source": [
    "<center>$ u_{3,1}^{n} = \\mathbf {u_{3,1}^{n+1/2}} - a (u_{4,1}^{n+1/2} - \\mathbf {2u_{3,1}^{n+1/2}} + \\mathbf {u_{2,1}^{n+1/2}}) + b(u_{3,2}^{n} - 2u_{3,1}^{n} + u_{3,0}^{n})$"
   ]
  },
  {
   "cell_type": "markdown",
   "id": "07640381-1f20-4b6a-b3b7-5282f271a73d",
   "metadata": {},
   "source": [
    "### Isolando os termos conhecidos"
   ]
  },
  {
   "cell_type": "markdown",
   "id": "88c257e4-a5ba-46c2-aa41-09aa22847b0c",
   "metadata": {},
   "source": [
    "<center>$  - \\mathbf {u_{1,1}^{n+1/2}} + a (\\mathbf {u_{2,1}^{n+1/2}} - 2\\mathbf {u_{1,1}^{n+1/2}})= -u_{1,1}^{n} - a (u_{0,1}^{n+1/2}) + b(u_{1,2}^{n} - 2u_{1,1}^{n} + u_{1,0}^{n})$"
   ]
  },
  {
   "cell_type": "markdown",
   "id": "0b6c7feb-c99b-4c00-9015-ecf21e6d81b4",
   "metadata": {},
   "source": [
    "<center>$  - \\mathbf {u_{2,1}^{n+1/2} + a (u_{3,1}^{n+1/2} - 2u_{2,1}^{n+1/2} + u_{1,1}^{n+1/2})}= -u_{2,1}^{n} + b(u_{2,2}^{n} - 2u_{2,1}^{n} + u_{2,0}^{n})$"
   ]
  },
  {
   "cell_type": "markdown",
   "id": "b9dfdbe7-8da8-43b5-93d3-66c63497aba2",
   "metadata": {},
   "source": [
    "<center>$  - \\mathbf {u_{3,1}^{n+1/2}} + a (- \\mathbf {2u_{3,1}^{n+1/2}} + \\mathbf {u_{2,1}^{n+1/2}})= -u_{3,1}^{n} - a u_{4,1}^{n+1/2} + b(u_{3,2}^{n} - 2u_{3,1}^{n} + u_{3,0}^{n})$"
   ]
  },
  {
   "cell_type": "markdown",
   "id": "e7a7a3db-942b-4af9-8a43-cccaa8aa448c",
   "metadata": {},
   "source": [
    "$$\n",
    "    \\begin{bmatrix}\n",
    "    -1-2a  & a &  0 \\\\\n",
    "    a &  -1-2a & a \\\\\n",
    "    0  & a &  -1-2a \\\\\n",
    "    \\end{bmatrix}\n",
    "    \\begin{bmatrix}\n",
    "    U_{1,1}^{n+1} \\\\\n",
    "    U_{2,1}^{n+1} \\\\\n",
    "    U_{3,1}^{n+1} \\\\\n",
    "    \\end{bmatrix}\n",
    "    = \n",
    "    \\begin{bmatrix}\n",
    "    -u_{1,1}^{n} - a (u_{0,1}^{n+1/2}) + b(u_{1,2}^{n} - 2u_{1,1}^{n} + u_{1,0}^{n}) \\\\\n",
    "    -u_{2,1}^{n} + b(u_{2,2}^{n} - 2u_{2,1}^{n} + u_{2,0}^{n}) \\\\\n",
    "    -u_{3,1}^{n} - a u_{4,1}^{n+1/2} + b(u_{3,2}^{n} - 2u_{3,1}^{n} + u_{3,0}^{n}) \\\\\n",
    "    \\end{bmatrix}\n",
    "$$"
   ]
  },
  {
   "cell_type": "markdown",
   "id": "6c11fa8c-0f86-4514-90ab-e9ecc5ab2d88",
   "metadata": {},
   "source": [
    "# <center> Passo 2</center> "
   ]
  },
  {
   "cell_type": "markdown",
   "id": "962f8ce2-7cc7-4ecd-b371-13f218eca37c",
   "metadata": {},
   "source": [
    "# <center>$\\frac {u_{i,j}^{n+1} - u_{i,j}^{n+1/2}}{\\Delta t/2} = \\alpha (\\hat\\delta_x^2 u_{i,j}^{n+1/2} + \\hat \\delta_y^2 u_{i,j}^{n+1})$"
   ]
  },
  {
   "cell_type": "markdown",
   "id": "0845d917-8d3b-4f9f-b5a4-beea895bd95b",
   "metadata": {},
   "source": [
    "sabendo que \n",
    "\n",
    "$\\hat \\delta _x^2 u_{i,j}^{n+1/2} = \\frac{u_{i+1,j}^{n+1/2} - 2u_{i,j}^{n+1/2} + u_{i-1,j}^{n+1/2}}{\\Delta x^2}$\n",
    "\n",
    "$\\hat \\delta _y^2 u_{i,j}^{n+1}= \\frac{u_{i,j+1}^{n+1} - 2u_{i,j}^{n+1} + u_{i,j-1}^{n+1}}{\\Delta y^2}$"
   ]
  },
  {
   "cell_type": "markdown",
   "id": "a91e54e4-c7d7-4050-801a-4f739e43a992",
   "metadata": {},
   "source": [
    "Substituindo na formula geral do passo 2, temos\n",
    "\n"
   ]
  },
  {
   "cell_type": "markdown",
   "id": "cb8fd344-c087-4986-bad1-562f4d199147",
   "metadata": {},
   "source": [
    "<center>$\\frac {u_{i,j}^{n+1} - u_{i,j}^{n+1/2}}{\\Delta t/2} = \\alpha (\\frac{u_{i+1,j}^{n+1/2} - 2u_{i,j}^{n+1/2} + u_{i-1,j}^{n+1/2}}{\\Delta x^2} + \\frac{u_{i,j+1}^{n+1} - 2u_{i,j}^{n+1} + u_{i,j-1}^{n+1}}{\\Delta y^2})$"
   ]
  },
  {
   "cell_type": "markdown",
   "id": "674710c2-1192-4099-94e2-a93bded8ea6d",
   "metadata": {},
   "source": [
    "<center>$u_{i,j}^{n+1} - u_{i,j}^{n+1/2} = \\alpha \\frac{\\Delta t}{2}  (\\frac{u_{i+1,j}^{n+1/2} - 2u_{i,j}^{n+1/2} + u_{i-1,j}^{n+1/2}}{\\Delta x^2} + \\frac{u_{i,j+1}^{n+1} - 2u_{i,j}^{n+1} + u_{i,j-1}^{n+1}}{\\Delta y^2})$"
   ]
  },
  {
   "cell_type": "markdown",
   "id": "8b54e685-99e0-49cf-964f-2058aefe322e",
   "metadata": {},
   "source": [
    "<center>$ - u_{i,j}^{n+1/2} = - u_{i,j}^{n+1} + \\alpha \\frac{\\Delta t}{2}  (\\frac{u_{i+1,j}^{n+1/2} - 2u_{i,j}^{n+1/2} + u_{i-1,j}^{n+1/2}}{\\Delta x^2} + \\frac{u_{i,j+1}^{n+1} - 2u_{i,j}^{n+1} + u_{i,j-1}^{n+1}}{\\Delta y^2})$"
   ]
  },
  {
   "cell_type": "markdown",
   "id": "b2000ef6-63ba-40d2-b266-1f185f48355c",
   "metadata": {},
   "source": [
    "<center>$ u_{i,j}^{n+1/2} = u_{i,j}^{n+1} - \\alpha \\frac{\\Delta t}{2}  (\\frac{u_{i+1,j}^{n+1/2} - 2u_{i,j}^{n+1/2} + u_{i-1,j}^{n+1/2}}{\\Delta x^2} + \\frac{u_{i,j+1}^{n+1} - 2u_{i,j}^{n+1} + u_{i,j-1}^{n+1}}{\\Delta y^2})$"
   ]
  },
  {
   "cell_type": "markdown",
   "id": "f4801167-e669-44bb-a588-94e4d4fe4c7b",
   "metadata": {},
   "source": [
    "### tomando\n",
    "### $a = \\alpha \\frac{\\Delta t}{2\\Delta x^2}$\n",
    "\n",
    "### $b = \\alpha \\frac{\\Delta t}{2\\Delta y^2}$"
   ]
  },
  {
   "cell_type": "markdown",
   "id": "e6a113ee-4cba-4ce4-8f94-2090403e383d",
   "metadata": {},
   "source": [
    "<center>$ u_{i,j}^{n+1/2} = u_{i,j}^{n+1} - a(u_{i+1,j}^{n+1/2} - 2u_{i,j}^{n+1/2} + u_{i-1,j}^{n+1/2}) + b(u_{i,j+1}^{n+1} - 2u_{i,j}^{n+1} + u_{i,j-1}^{n+1})$"
   ]
  },
  {
   "cell_type": "markdown",
   "id": "ba46f385-0248-431f-88ff-320bb194795f",
   "metadata": {},
   "source": [
    "para i = 1 e j = 1 ponto 1\n",
    "\n",
    "<center>$ u_{1,1}^{n+1/2} = u_{1,1}^{n+1} - a(u_{2,1}^{n+1/2} - 2u_{1,1}^{n+1/2} + u_{0,1}^{n+1/2}) + b(u_{1,2}^{n+1} - 2u_{1,1}^{n+1} + u_{1,0}^{n+1})$"
   ]
  },
  {
   "cell_type": "markdown",
   "id": "c9e0402b-d4e3-472d-91fc-6a8eb79342f2",
   "metadata": {},
   "source": [
    "para i = 1 e j = 2 ponto 2\n",
    "\n",
    "<center>$ u_{1,2}^{n+1/2} = u_{1,2}^{n+1} - a(u_{2,2}^{n+1/2} - 2u_{1,2}^{n+1/2} + u_{0,2}^{n+1/2}) + b(u_{1,3}^{n+1} - 2u_{1,2}^{n+1} + u_{1,1}^{n+1})$"
   ]
  },
  {
   "cell_type": "markdown",
   "id": "97bc41bc-834d-4c51-9980-76d1f7cbe9cc",
   "metadata": {},
   "source": [
    "para i = 1 e j = 3 ponto 3\n",
    "\n",
    "<center>$ u_{1,3}^{n+1/2} = u_{1,3}^{n+1} - a(u_{2,3}^{n+1/2} - 2u_{1,3}^{n+1/2} + u_{0,3}^{n+1/2}) + b(u_{1,4}^{n+1} - 2u_{1,3}^{n+1} + u_{1,2}^{n+1})$"
   ]
  },
  {
   "cell_type": "markdown",
   "id": "4ddff53c-5b6c-4b87-aa60-76b62889ecfd",
   "metadata": {},
   "source": [
    "marcando os termos desconhecidos nas 3 equações\n",
    "\n",
    "<center>$ u_{1,1}^{n+1/2} = \\mathbf{u_{1,1}^{n+1}} - a(u_{2,1}^{n+1/2} - 2u_{1,1}^{n+1/2} + u_{0,1}^{n+1/2}) + b(\\mathbf{u_{1,2}^{n+1}} - 2\\mathbf{u_{1,1}^{n+1}} + u_{1,0}^{n+1})$\n",
    "\n",
    "<center>$ u_{1,2}^{n+1/2} = \\mathbf{u_{1,2}^{n+1}} - a(u_{2,2}^{n+1/2} - 2u_{1,2}^{n+1/2} + u_{0,2}^{n+1/2}) + b(\\mathbf{u_{1,3}^{n+1}} - \\mathbf{2u_{1,2}^{n+1}} + \\mathbf{u_{1,1}^{n+1}})$\n",
    "\n",
    "<center>$ u_{1,3}^{n+1/2} = \\mathbf{u_{1,3}^{n+1}} - a(u_{2,3}^{n+1/2} - 2u_{1,3}^{n+1/2} + u_{0,3}^{n+1/2}) + b(u_{1,4}^{n+1} - 2\\mathbf{u_{1,3}^{n+1}} + \\mathbf{u_{1,2}^{n+1}})$"
   ]
  },
  {
   "cell_type": "markdown",
   "id": "404bad4b-c0ba-46e5-9455-82adbfe9013c",
   "metadata": {},
   "source": [
    "marcando os termos desconhecidos nas 3 equações\n",
    "\n",
    "<center>$ - \\mathbf{u_{1,1}^{n+1}} -b(\\mathbf{u_{1,2}^{n+1}} - 2\\mathbf{u_{1,1}^{n+1}}) = - u_{1,1}^{n+1/2} - a(u_{2,1}^{n+1/2} - 2u_{1,1}^{n+1/2} + u_{0,1}^{n+1/2}) + b(u_{1,0}^{n+1})$\n",
    "\n",
    "<center>$ - \\mathbf{u_{1,2}^{n+1}} - b(\\mathbf{u_{1,3}^{n+1}} - \\mathbf{2u_{1,2}^{n+1}} + \\mathbf{u_{1,1}^{n+1}})= - u_{1,2}^{n+1/2} - a(u_{2,2}^{n+1/2} - 2u_{1,2}^{n+1/2} + u_{0,2}^{n+1/2})$\n",
    "\n",
    "<center>$ - \\mathbf{u_{1,3}^{n+1}} - b(- 2\\mathbf{u_{1,3}^{n+1}} + \\mathbf{u_{1,2}^{n+1}}) = - u_{1,3}^{n+1/2} - a(u_{2,3}^{n+1/2} - 2u_{1,3}^{n+1/2} + u_{0,3}^{n+1/2}) + b(u_{1,4}^{n+1})$"
   ]
  },
  {
   "cell_type": "markdown",
   "id": "a5722f0f-b78a-49eb-9ac6-a690934be981",
   "metadata": {},
   "source": [
    "$$\n",
    "    \\begin{bmatrix}\n",
    "    -1+2b & -b &  0 \\\\\n",
    "    -b &  -1+2b & -b \\\\\n",
    "    0  & -b &  -1+2b \\\\\n",
    "    \\end{bmatrix}\n",
    "    \\begin{bmatrix}\n",
    "    U_{1,1}^{n+1} \\\\\n",
    "    U_{1,2}^{n+1} \\\\\n",
    "    U_{1,3}^{n+1} \\\\\n",
    "    \\end{bmatrix}\n",
    "    = \n",
    "    \\begin{bmatrix}\n",
    "    -u_{1,1}^{n+1/2} - a(u_{2,1}^{n+1/2} - 2u_{1,1}^{n+1/2} + u_{0,1}^{n+1/2}) + bu_{1,0}^{n+1} \\\\\n",
    "    -u_{1,2}^{n+1/2} - a(u_{2,2}^{n+1/2} - 2u_{1,2}^{n+1/2} + u_{0,2}^{n+1/2}) \\\\\n",
    "    -u_{1,3}^{n+1/2} - a(u_{2,3}^{n+1/2} - 2u_{1,3}^{n+1/2} + u_{0,3}^{n+1/2}) + bu_{1,4}^{n+1}\\\\\n",
    "    \\end{bmatrix}\n",
    "$$"
   ]
  },
  {
   "cell_type": "code",
   "execution_count": null,
   "id": "0f10b8a9-784d-4d68-8051-f95e6bc74ba5",
   "metadata": {},
   "outputs": [],
   "source": [
    "from mpl_toolkits.mplot3d import Axes3D\n",
    "from mpl_toolkits import mplot3d\n",
    "import numpy as np\n",
    "import matplotlib.pyplot as plt\n",
    "import matplotlib.pyplot as plt\n",
    "from mpl_toolkits.mplot3d import Axes3D\n",
    "\n",
    "l_y = 1\n",
    "l_x = 1\n",
    "delta_x = 0.1\n",
    "delta_y = 0.1\n",
    "quantidade_de_iteracao = 10\n",
    "\n",
    "y = np.arange(0, l_y + delta_y, delta_y)\n",
    "x = np.arange(0, l_x + delta_x, delta_x)\n",
    "\n",
    "quantidade_de_pontos_y = len(y)\n",
    "quantidade_de_pontos_x = len(x)\n",
    "\n",
    "# Definindo a dimensão da matriz, -2 dois, porque leva em consideracação os pontos de contorno\n",
    "# eles não são contados na matriz A, pois sao conhecidos.\n",
    "quantidade_linhas_matriz_A_1 = quantidade_de_pontos_x - 2\n",
    "quantidade_linhas_matriz_A_2 = quantidade_de_pontos_y - 2\n",
    "quantidade_colunas_matriz_A_1 = quantidade_de_pontos_x - 2\n",
    "quantidade_colunas_matriz_A_2 = quantidade_de_pontos_y - 2\n",
    "\n",
    "# definindo os elementos do sistema Ax=C\n",
    "beta = delta_x / delta_y\n",
    "a = 1 / (2 * (1 + beta ** 2))\n",
    "b = (beta ** 2) / (2 * (1 + beta ** 2))\n",
    "\n",
    "# Criação da matriz A\n",
    "A_1 = np.zeros((quantidade_linhas_matriz_A_1 + 1, quantidade_colunas_matriz_A_1 + 1))\n",
    "A_2 = np.zeros((quantidade_linhas_matriz_A_2 + 1, quantidade_colunas_matriz_A_2 + 1))\n",
    "C_1 = np.zeros(quantidade_linhas_matriz_A_1)\n",
    "C_2 = np.zeros(quantidade_linhas_matriz_A_2)\n",
    "\n",
    "# Construção da matriz A\n",
    "for i in range(0, quantidade_linhas_matriz_A_1):\n",
    "    A_1[i, i - 1] = -a\n",
    "    A_1[i, i] = 1\n",
    "    A_1[i, i + 1] = -a\n",
    "A_1 = np.delete(A_1, (-1), axis=0)\n",
    "A_1 = np.delete(A_1, (-1), axis=1)\n",
    "\n",
    "# Construção da matriz A\n",
    "for i in range(0, quantidade_linhas_matriz_A_2):\n",
    "    A_2[i, i - 1] = -a\n",
    "    A_2[i, i] = 1\n",
    "    A_2[i, i + 1] = -a\n",
    "A_2 = np.delete(A_2, (-1), axis=0)\n",
    "A_2 = np.delete(A_2, (-1), axis=1)\n",
    "\n",
    "# u = np.zeros((quantidade_de_iteracao, quantidade_de_pontos_y, quantidade_de_pontos_y, quantidade_de_pontos_x))\n",
    "u_old = np.zeros((quantidade_de_pontos_y, quantidade_de_pontos_x))\n",
    "u_new = np.zeros((quantidade_de_pontos_y, quantidade_de_pontos_x))\n",
    "\n",
    "# chute inicial que é a média\n",
    "u_old[:, :] = np.mean(np.sin(x * np.pi))\n",
    "u_new = u_old\n",
    "# u[0] = u_old\n",
    "\n",
    "# Condições de contorno\n",
    "u_old[0, :] = 0\n",
    "u_old[:, 0] = 0\n",
    "u_old[:, -1] = 0\n",
    "u_old[-1, :] = np.sin(x * np.pi)\n",
    "\n",
    "for n in range(0, quantidade_de_iteracao):\n",
    "    cs = plt.contourf(x, y, u_new[:, :])\n",
    "    cs.cmap.set_over('red')\n",
    "    cs.cmap.set_under('blue')\n",
    "    plt.pause(1e-10)\n",
    "    if n % 2 != 0:\n",
    "\n",
    "        for j in range(1, quantidade_de_pontos_x - 1):\n",
    "            C_2[:] = b * (u_old[1:-1, j + 1] + u_old[1:-1, j - 1])\n",
    "\n",
    "            C_2[0] = C_2[0] + a * (u_old[0, j])\n",
    "            C_2[-1] = C_2[-1] + a * (u_old[-1, j])\n",
    "\n",
    "            u_new[1:-1, j] = np.linalg.solve(A_2, C_2)\n",
    "            u_old = u_new  # Passo 1\n",
    "    else:\n",
    "        for j in range(1, quantidade_de_pontos_y - 1):\n",
    "            C_1[:] = b * (u_old[j + 1, 1:-1] + u_old[j - 1, 1:-1])\n",
    "            C_1[0] = C_1[0] + a * (u_old[j, 0])\n",
    "            C_1[-1] = C_1[-1] + a * (u_old[j, -1])\n",
    "\n",
    "            u_new[j, 1:-1] = np.linalg.solve(A_1, C_1)\n",
    "            u_old = u_new  # Passo 1\n",
    "plt.show()"
   ]
  },
  {
   "cell_type": "code",
   "execution_count": null,
   "id": "143c3a9c-741e-474d-9d10-512ca033bb8d",
   "metadata": {},
   "outputs": [],
   "source": []
  }
 ],
 "metadata": {
  "kernelspec": {
   "display_name": "Python 3 (ipykernel)",
   "language": "python",
   "name": "python3"
  },
  "language_info": {
   "codemirror_mode": {
    "name": "ipython",
    "version": 3
   },
   "file_extension": ".py",
   "mimetype": "text/x-python",
   "name": "python",
   "nbconvert_exporter": "python",
   "pygments_lexer": "ipython3",
   "version": "3.10.6"
  }
 },
 "nbformat": 4,
 "nbformat_minor": 5
}
