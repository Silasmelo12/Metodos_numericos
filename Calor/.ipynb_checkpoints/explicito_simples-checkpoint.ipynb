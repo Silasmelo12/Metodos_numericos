{
 "cells": [
  {
   "cell_type": "code",
   "execution_count": 76,
   "id": "3463ee7d",
   "metadata": {},
   "outputs": [
    {
     "data": {
      "image/png": "[encoded data removed]",
      "text/plain": [
       "<Figure size 432x288 with 1 Axes>"
      ]
     },
     "metadata": {
      "needs_background": "light"
     },
     "output_type": "display_data"
    }
   ],
   "source": [
    "import numpy as np\n",
    "import matplotlib.pyplot as plt \n",
    "\n",
    "NP = 11\n",
    "L = 1\n",
    "DX = L/(NP-1)\n",
    "Alfa = 0.2\n",
    "t = 0.5\n",
    "DT = 0.01 \n",
    "NT = int(t/DT)\n",
    "V = Alfa * DT/(DX**2)\n",
    "x = np.arange (0,L+DX, DX)\n",
    "\n",
    "u_num = np.zeros ((NT,NP))\n",
    "\n",
    "u_num[0,:]    = 100*np.sin(np.pi*x/L)\n",
    "u_num[:, 0]   = 0 \n",
    "u_num[:, -1]  = 0\n",
    "\n",
    "for n in range (0, NT-1):\n",
    "    for j in range (1, NP-1):\n",
    "        u_num[n+1, j] = V * (u_num [n, j+1] - 2* u_num[n, j] + u_num [n, j-1]) + u_num [n, j]\n",
    "        \n",
    "plt.plot (u_num[10]);"
   ]
  },
  {
   "cell_type": "code",
   "execution_count": 75,
   "id": "be0ec01f",
   "metadata": {},
   "outputs": [
    {
     "data": {
      "text/plain": [
       "array([ 0.  , 26.91, 51.18, 70.45, 82.81, 87.07, 82.81, 70.45, 51.18,\n",
       "       26.91,  0.  ])"
      ]
     },
     "execution_count": 75,
     "metadata": {},
     "output_type": "execute_result"
    }
   ],
   "source": [
    "u_num[7,:].round(2)"
   ]
  },
  {
   "cell_type": "code",
   "execution_count": null,
   "id": "68a5ab8b",
   "metadata": {},
   "outputs": [],
   "source": []
  }
 ],
 "metadata": {
  "kernelspec": {
   "display_name": "Python 3 (ipykernel)",
   "language": "python",
   "name": "python3"
  },
  "language_info": {
   "codemirror_mode": {
    "name": "ipython",
    "version": 3
   },
   "file_extension": ".py",
   "mimetype": "text/x-python",
   "name": "python",
   "nbconvert_exporter": "python",
   "pygments_lexer": "ipython3",
   "version": "3.10.6"
  }
 },
 "nbformat": 4,
 "nbformat_minor": 5
}
