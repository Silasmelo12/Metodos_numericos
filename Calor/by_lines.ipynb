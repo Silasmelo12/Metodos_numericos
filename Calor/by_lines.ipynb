{
 "cells": [
  {
   "cell_type": "markdown",
   "id": "66eeba6b-4650-4e74-ad26-ef3feba75661",
   "metadata": {},
   "source": [
    "$a = \\frac {1}{2*(1+\\beta^2)}$\n",
    "\n",
    "$b = \\frac {\\beta^2}{2*(1+\\beta^2)}$"
   ]
  },
  {
   "cell_type": "markdown",
   "id": "af463d22-fcb4-4476-b6f8-1bb4ae717edb",
   "metadata": {},
   "source": [
    "### $U_{i,j}^{k+1} = a(U_{i+1,j}^{k+1} + U_{i-1,j}^{k+1}) + b*(U_{i,j+1}^{k} + U_{i,j-1}^{k+1})$"
   ]
  },
  {
   "cell_type": "markdown",
   "id": "55318c32-1ebf-463f-bfe6-36a778952436",
   "metadata": {},
   "source": [
    "ponto 1 Para $i = 1$ e $j = 1$"
   ]
  },
  {
   "cell_type": "markdown",
   "id": "e3d9f773-db30-44d5-95a0-2aa5ef85210d",
   "metadata": {},
   "source": [
    "### $U_{1,1}^{k+1} = a(U_{2,1}^{k+1} + U_{0,1}^{k+1})a + b*(U_{1,2}^{k} + U_{1,0}^{k+1})$"
   ]
  },
  {
   "cell_type": "markdown",
   "id": "9cbd3da5-bd0d-4d0b-adc9-a0fc0c0f109f",
   "metadata": {},
   "source": [
    "ponto 2 Para $i = 2$ e $j = 1$"
   ]
  },
  {
   "cell_type": "markdown",
   "id": "b78784f8-ca73-4470-9439-4d9a42a61095",
   "metadata": {},
   "source": [
    "$U_{2,1}^{k+1} = a(U_{3,1}^{k+1} + U_{1,1}^{k+1}) + b*(U_{2,2}^{k} + U_{2,0}^{k+1})$"
   ]
  },
  {
   "cell_type": "markdown",
   "id": "9e38d849-1d48-4363-95d1-77af45703cd9",
   "metadata": {},
   "source": [
    "ponto 3 Para $i = 3$ e $j = 1$"
   ]
  },
  {
   "cell_type": "markdown",
   "id": "785d65cd-1757-45e4-8e8a-a96f0d05fd04",
   "metadata": {},
   "source": [
    "$U_{3,1}^{k+1} = a(U_{4,1}^{k+1} + U_{2,1}^{k+1}) + b*(U_{3,2}^{k} + U_{3,0}^{k+1})$"
   ]
  },
  {
   "cell_type": "markdown",
   "id": "682b1912-02b1-4251-9da0-bc78935ba714",
   "metadata": {},
   "source": [
    "ponto 4 Para $i = 1$ e $j = 2$"
   ]
  },
  {
   "cell_type": "markdown",
   "id": "5e193507-a9f6-413c-8c7f-8c41353bd237",
   "metadata": {},
   "source": [
    "$U_{1,2}^{k+1} = a(U_{2,2}^{k+1} + U_{0,2}^{k+1}) + b*(U_{1,3}^{k} + U_{1,1}^{k+1})$"
   ]
  },
  {
   "cell_type": "markdown",
   "id": "8532e845-f10f-4eb4-bbba-eeba400009f9",
   "metadata": {},
   "source": [
    "ponto 5 Para $i = 2$ e $j = 2$"
   ]
  },
  {
   "cell_type": "markdown",
   "id": "644baf3e-2bd1-4aba-b743-1dc920284388",
   "metadata": {},
   "source": [
    "$U_{2,2}^{k+1} = a(U_{3,2}^{k+1} + U_{1,2}^{k+1}) + b*(U_{2,3}^{k} + U_{2,1}^{k+1})$"
   ]
  },
  {
   "cell_type": "markdown",
   "id": "6a965702-0acd-402f-ae10-2011d83957b8",
   "metadata": {},
   "source": [
    "ponto 6 Para $i = 3$ e $j = 2$"
   ]
  },
  {
   "cell_type": "markdown",
   "id": "3c334151-a246-4f35-8591-c355485b3472",
   "metadata": {},
   "source": [
    "$U_{3,2}^{k+1} = a(U_{4,2}^{k+1} + U_{2,2}^{k+1}) + b*(U_{3,3}^{k} + U_{3,1}^{k+1})$"
   ]
  },
  {
   "cell_type": "markdown",
   "id": "4080334d-f684-48bd-8e07-1ef5741b28ed",
   "metadata": {},
   "source": [
    "ponto 7 Para $i = 1$ e $j = 3$"
   ]
  },
  {
   "cell_type": "markdown",
   "id": "29f3c657-5733-4fa2-a4ef-587d10b4a50f",
   "metadata": {},
   "source": [
    "$U_{1,3}^{k+1} = a(U_{2,3}^{k+1} + U_{0,3}^{k+1}) + b*(U_{1,4}^{k} + U_{1,2}^{k+1})$"
   ]
  },
  {
   "cell_type": "markdown",
   "id": "ace80760-d040-41a7-8cd5-c067a6550198",
   "metadata": {},
   "source": [
    "ponto 8 Para $i = 2$ e $j = 3$"
   ]
  },
  {
   "cell_type": "markdown",
   "id": "626b77bd-e1ae-437b-b7a7-0e5bc6d1cc1d",
   "metadata": {},
   "source": [
    "$U_{2,3}^{k+1} = a(U_{3,3}^{k+1} + U_{1,3}^{k+1}) + b*(U_{2,4}^{k} + U_{2,2}^{k+1})$"
   ]
  },
  {
   "cell_type": "markdown",
   "id": "c09f5177-18b4-48cf-9aa4-824d9bcaf228",
   "metadata": {},
   "source": [
    "ponto 9 Para $i = 3$ e $j = 3$"
   ]
  },
  {
   "cell_type": "markdown",
   "id": "c7080274-7e36-4c06-8da5-5aa1b2230994",
   "metadata": {},
   "source": [
    "$U_{2,3}^{k+1} = a(U_{3,3}^{k+1} + U_{1,3}^{k+1}) + b*(U_{2,4}^{k} + U_{2,2}^{k+1})$"
   ]
  },
  {
   "cell_type": "markdown",
   "id": "9fdc8603-c6a1-4c8c-a5a2-4d4214956a1c",
   "metadata": {},
   "source": [
    "todas as equações fica assim:"
   ]
  },
  {
   "cell_type": "markdown",
   "id": "f72d58cf-50e3-4519-91df-d6aa8d45ecb1",
   "metadata": {},
   "source": [
    "$U_{1,1}^{k+1} = a(U_{2,1}^{k+1} + U_{0,1}^{k+1}) + b*(U_{1,2}^{k} + U_{1,0}^{k+1})$\n",
    "\n",
    "$U_{2,1}^{k+1} = a(U_{3,1}^{k+1} + U_{1,1}^{k+1}) + b*(U_{2,2}^{k} + U_{2,0}^{k+1})$\n",
    "\n",
    "$U_{3,1}^{k+1} = a(U_{4,1}^{k+1} + U_{2,1}^{k+1}) + b*(U_{3,2}^{k} + U_{3,0}^{k+1})$\n",
    "\n",
    "$U_{1,2}^{k+1} = a(U_{2,2}^{k+1} + U_{0,2}^{k+1}) + b*(U_{1,3}^{k} + U_{1,1}^{k+1})$\n",
    "\n",
    "$U_{2,2}^{k+1} = a(U_{3,2}^{k+1} + U_{1,2}^{k+1}) + b*(U_{2,3}^{k} + U_{2,1}^{k+1})$\n",
    "\n",
    "$U_{3,2}^{k+1} = a(U_{4,2}^{k+1} + U_{2,2}^{k+1}) + b*(U_{3,3}^{k} + U_{3,1}^{k+1})$\n",
    "\n",
    "$U_{1,3}^{k+1} = a(U_{2,3}^{k+1} + U_{0,3}^{k+1}) + b*(U_{1,4}^{k} + U_{1,2}^{k+1})$\n",
    "\n",
    "$U_{2,3}^{k+1} = a(U_{3,3}^{k+1} + U_{1,3}^{k+1}) + b*(U_{2,4}^{k} + U_{2,2}^{k+1})$\n",
    "\n",
    "$U_{2,3}^{k+1} = a(U_{3,3}^{k+1} + U_{1,3}^{k+1}) + b*(U_{2,4}^{k} + U_{2,2}^{k+1})$"
   ]
  },
  {
   "cell_type": "markdown",
   "id": "199547df-6913-46de-abac-90c4ff3fc231",
   "metadata": {},
   "source": [
    "### marcando os termos desconhecidos"
   ]
  },
  {
   "cell_type": "markdown",
   "id": "a6a2501c-d390-48cb-aac2-db05d8172f5e",
   "metadata": {},
   "source": [
    "$\\mathbf {U_{1,1}^{k+1} - aU_{2,1}^{k+1} } = a(U_{0,1}^{k+1}) + b*(U_{1,2}^{k} + U_{1,0}^{k+1})$\n",
    "\n",
    "$\\mathbf {U_{2,1}^{k+1} - a(U_{3,1}^{k+1} + U_{1,1}^{k+1})} = b*(U_{2,2}^{k} + U_{2,0}^{k+1})$\n",
    "\n",
    "$\\mathbf {U_{3,1}^{k+1} - aU_{2,1}^{k+1}}= a(U_{4,1}^{k+1}) + b*(U_{3,2}^{k} + U_{3,0}^{k+1})$\n",
    "\n",
    "$\\mathbf {U_{1,2}^{k+1} - aU_{2,2}^{k+1} - bU_{1,1}^{k+1} }= a(U_{0,2}^{k+1}) + b*(U_{1,3}^{k})$\n",
    "\n",
    "$\\mathbf {U_{2,2}^{k+1} - a(U_{3,2}^{k+1} + U_{1,2}^{k+1}) - bU_{2,1}^{k+1} }=  b*(U_{2,3}^{k})$\n",
    "\n",
    "$\\mathbf{ U_{3,2}^{k+1} - aU_{2,2}^{k+1} - bU_{3,1}^{k+1} }= a(U_{4,2}^{k+1}) + b*(U_{3,3}^{k})$\n",
    "\n",
    "$\\mathbf {U_{1,3}^{k+1} - aU_{2,3}^{k+1} - bU_{1,2}^{k+1} }= a(U_{0,3}^{k+1}) + b*(U_{1,4}^{k})$\n",
    "\n",
    "$\\mathbf {U_{2,3}^{k+1} - a(U_{3,3}^{k+1} + U_{1,3}^{k+1}) - bU_{2,2}^{k+1} }= b*(U_{2,4}^{k})$\n",
    "\n",
    "$\\mathbf {U_{3,3}^{k+1} - a(U_{2,3}^{k+1}) - bU_{3,2}^{k+1}} =aU_{4,3}^{k+1} b*(U_{3,4}^{k})$"
   ]
  },
  {
   "cell_type": "markdown",
   "id": "5d384ca0-b3b2-472d-9d1f-12350f977fa8",
   "metadata": {},
   "source": [
    "Dessa forma não dá certo, pois nunca será uma matriz tridiagonal, porém, podemos resolver linha a linha.\n",
    "Devemos fazer uma linha por vez"
   ]
  },
  {
   "cell_type": "markdown",
   "id": "412a2104-308b-4bc1-b721-0dfb5f2efbff",
   "metadata": {},
   "source": [
    "A primeira fica assim:"
   ]
  },
  {
   "cell_type": "markdown",
   "id": "34ef665d-bb22-4f5d-8cfb-57e65660b00b",
   "metadata": {},
   "source": [
    "$U_{1,1}^{k+1} - a(U_{2,1}^{k+1} = a(U_{0,1}^{k+1}) + b*(U_{1,2}^{k} + U_{1,0}^{k+1})$\n",
    "\n",
    "$U_{2,1}^{k+1} - a(U_{3,1}^{k+1} + U_{1,1}^{k+1}) = b*(U_{2,2}^{k} + U_{2,0}^{k+1})$\n",
    "\n",
    "$U_{3,1}^{k+1} - aU_{2,1}^{k+1}= a(U_{4,1}^{k+1}) + b*(U_{3,2}^{k} + U_{3,0}^{k+1})$"
   ]
  },
  {
   "cell_type": "markdown",
   "id": "73c6598f-3289-4520-937a-4668d2a78b9c",
   "metadata": {},
   "source": [
    "### $$\n",
    "\\left(\n",
    "\\begin{array}{ll}\n",
    "1  & -a &  0 \\\\\n",
    "-a &  1 & -a \\\\\n",
    "0  & -a &  1 \\\\\n",
    "\\end{array}\n",
    "\\right)\n",
    "\\left(\n",
    "\\begin{array}{ll}\n",
    "U_{1,1}^{k+1} \\\\\n",
    "U_{2,1}^{k+1} \\\\\n",
    "U_{3,1}^{k+1} \\\\\n",
    "\\end{array}\n",
    "\\right)\n",
    "= \n",
    "\\left(\n",
    "\\begin{array}{ll}\n",
    "b*(U_{1,2}^{k} + U_{1,0}^{k+1}) + aU_{0,1}^{k+1} \\\\\n",
    "b*(U_{2,2}^{k} + U_{2,0}^{k+1}) \\\\\n",
    "b*(U_{3,2}^{k} + U_{3,0}^{k+1}) + a(U_{4,1}^{k+1}) \\\\\n",
    "\\end{array}\n",
    "\\right)\n",
    "$$"
   ]
  },
  {
   "cell_type": "markdown",
   "id": "24a9c50f-8962-409d-bdf5-d219ca291ae6",
   "metadata": {},
   "source": [
    "A segunda fica assim:"
   ]
  },
  {
   "cell_type": "markdown",
   "id": "4cb188c9-9c14-4efd-a4f6-7207def9dcee",
   "metadata": {},
   "source": [
    "$U_{1,2}^{k+1} - aU_{2,2}^{k+1} - bU_{1,1}^{k+1} = a(U_{0,2}^{k+1}) + b*(U_{1,3}^{k})$\n",
    "\n",
    "$U_{2,2}^{k+1} - a(U_{3,2}^{k+1} + U_{1,2}^{k+1}) - bU_{2,1}^{k+1} =  b*(U_{2,3}^{k})$\n",
    "\n",
    "$U_{3,2}^{k+1} - aU_{2,2}^{k+1} - bU_{3,1}^{k+1} = a(U_{4,2}^{k+1}) + b*(U_{3,3}^{k})$"
   ]
  },
  {
   "cell_type": "markdown",
   "id": "8244525c-2f58-49e1-a2c4-00f2db9e0c4c",
   "metadata": {},
   "source": [
    "### $\n",
    "\\left(\n",
    "\\begin{array}{ll}\n",
    "1  & -a &  0 \\\\\n",
    "-a &  1 & -a \\\\\n",
    "0  & -a &  1 \\\\\n",
    "\\end{array}\n",
    "\\right)\n",
    "\\left(\n",
    "\\begin{array}{ll}\n",
    "U_{1,2}^{k+1} \\\\\n",
    "U_{2,2}^{k+1} \\\\\n",
    "U_{3,2}^{k+1} \\\\\n",
    "\\end{array}\n",
    "\\right)\n",
    "= \n",
    "\\left(\n",
    "\\begin{array}{ll}\n",
    "a(U_{0,2}^{k+1}) + b*(U_{1,3}^{k}) \\\\\n",
    "b*(U_{2,3}^{k}) \\\\\n",
    "a(U_{4,2}^{k+1}) + b*(U_{3,3}^{k}) \\\\\n",
    "\\end{array}\n",
    "\\right)\n",
    "$"
   ]
  },
  {
   "cell_type": "markdown",
   "id": "160f78eb-b3b2-4086-95cc-162a7c157c99",
   "metadata": {},
   "source": [
    "A terceira fica assim:"
   ]
  },
  {
   "cell_type": "markdown",
   "id": "6d7a6a1c-bbf2-4498-897b-715933c0395f",
   "metadata": {},
   "source": [
    "$U_{1,3}^{k+1} - aU_{2,3}^{k+1} - bU_{1,2}^{k+1}= a(U_{0,3}^{k+1}) + b*(U_{1,4}^{k})$\n",
    "\n",
    "$U_{2,3}^{k+1} - a(U_{3,3}^{k+1} + U_{1,3}^{k+1}) - bU_{2,2}^{k+1} = b*(U_{2,4}^{k})$\n",
    "\n",
    "$U_{3,3}^{k+1} - a(U_{2,3}^{k+1}) - bU_{3,2}^{k+1} = aU_{4,3}^{k+1} b*(U_{3,4}^{k})$"
   ]
  },
  {
   "cell_type": "markdown",
   "id": "9f684c18-d881-457a-a057-fd4bc9fdca89",
   "metadata": {},
   "source": [
    "### $\n",
    "\\left(\n",
    "\\begin{array}{ll}\n",
    "1  & -a &  0 \\\\\n",
    "-a &  1 & -a \\\\\n",
    "0  & -a &  1 \\\\\n",
    "\\end{array}\n",
    "\\right)\n",
    "\\left(\n",
    "\\begin{array}{ll}\n",
    "U_{1,3}^{k+1} \\\\\n",
    "U_{2,3}^{k+1} \\\\\n",
    "U_{3,3}^{k+1} \\\\\n",
    "\\end{array}\n",
    "\\right)\n",
    "= \n",
    "\\left(\n",
    "\\begin{array}{ll}\n",
    "a(U_{0,3}^{k+1}) + b*(U_{1,4}^{k}) \\\\\n",
    "b*(U_{2,4}^{k}) \\\\\n",
    "aU_{4,3}^{k+1} b*(U_{3,4}^{k}) \\\\\n",
    "\\end{array}\n",
    "\\right)\n",
    "$"
   ]
  },
  {
   "cell_type": "code",
   "execution_count": 1,
   "id": "2f086c60-fdab-4189-b59b-1bf112ec6ee2",
   "metadata": {},
   "outputs": [],
   "source": [
    "from mpl_toolkits.mplot3d import Axes3D\n",
    "from mpl_toolkits import mplot3d\n",
    "import numpy as np\n",
    "import matplotlib.pyplot as plt\n",
    "import matplotlib.pyplot as plt\n",
    "from mpl_toolkits.mplot3d import Axes3D"
   ]
  },
  {
   "cell_type": "code",
   "execution_count": 58,
   "id": "e2dd12c1-bdfd-4965-8bbd-3b5fa4c59605",
   "metadata": {},
   "outputs": [
    {
     "data": {
      "text/plain": [
       "\"\\nfor n in range(0, quantidade_de_iteracao):\\n    for j in range(1, quantidade_de_pontos_y - 1):\\n        cs = plt.contourf(x, y, u[n, j][:, :])\\n\\n        cs.cmap.set_over('red')\\n        cs.cmap.set_under('blue')\\n        plt.pause(0.000000001)\\n        #plt.show()\\n\""
      ]
     },
     "execution_count": 58,
     "metadata": {},
     "output_type": "execute_result"
    }
   ],
   "source": [
    "from mpl_toolkits.mplot3d import Axes3D\n",
    "from mpl_toolkits import mplot3d\n",
    "import numpy as np\n",
    "import matplotlib.pyplot as plt\n",
    "import matplotlib.pyplot as plt\n",
    "from mpl_toolkits.mplot3d import Axes3D\n",
    "\n",
    "l_y = 1\n",
    "l_x = 1\n",
    "delta_x = 0.01\n",
    "delta_y = 0.05\n",
    "quantidade_de_iteracao = 10\n",
    "\n",
    "y = np.arange(0, l_y + delta_y, delta_y)\n",
    "x = np.arange(0, l_x + delta_x, delta_x)\n",
    "\n",
    "quantidade_de_pontos_y = len(y)\n",
    "quantidade_de_pontos_x = len(x)\n",
    "\n",
    "# Definindo a dimensão da matriz, -2 dois, porque leva em consideracação os pontos de contorno\n",
    "# eles não são contados na matriz A, pois sao conhecidos.\n",
    "quantidade_linhas_matriz_A = quantidade_de_pontos_x - 2\n",
    "quantidade_colunas_matriz_A = quantidade_de_pontos_x - 2\n",
    "\n",
    "# definindo os elementos do sistema Ax=C\n",
    "beta = delta_x / delta_y\n",
    "a = 1 / (2 * (1 + beta ** 2))\n",
    "b = (beta ** 2) / (2 * (1 + beta ** 2))\n",
    "\n",
    "# Criação da matriz A\n",
    "A = np.zeros((quantidade_linhas_matriz_A + 1, quantidade_colunas_matriz_A + 1))\n",
    "C = np.zeros(quantidade_linhas_matriz_A)\n",
    "\n",
    "# Construção da matriz A\n",
    "for i in range(0, quantidade_linhas_matriz_A):\n",
    "    A[i, i - 1] = -a\n",
    "    A[i, i] = 1\n",
    "    A[i, i + 1] = -a\n",
    "A = np.delete(A, (-1), axis=0)\n",
    "A = np.delete(A, (-1), axis=1)\n",
    "\n",
    "u = np.zeros((quantidade_de_iteracao, quantidade_de_pontos_y, quantidade_de_pontos_y, quantidade_de_pontos_x))\n",
    "u_old = np.zeros((quantidade_de_pontos_y, quantidade_de_pontos_x))\n",
    "u_new = np.zeros((quantidade_de_pontos_y, quantidade_de_pontos_x))\n",
    "\n",
    "# chute inicial que é a média\n",
    "u_old[:, :] = np.mean(np.sin(x * np.pi))\n",
    "u_new = u_old\n",
    "u[0] = u_old\n",
    "\n",
    "# Condições de contorno\n",
    "u_old[0, :] = 0\n",
    "u_old[:, 0] = 0\n",
    "u_old[:, -1] = 0\n",
    "u_old[-1, :] = np.sin(x * np.pi)\n",
    "\n",
    "# Solução numérica\n",
    "for n in range(0, quantidade_de_iteracao):\n",
    "    for j in range(1, quantidade_de_pontos_y - 1):\n",
    "        C[:]  = b * (u_old[j + 1, 1:-1] + u_old[j - 1, 1:-1])\n",
    "        C[0]  = C[0]  + a * (u_old[j, 0])\n",
    "        C[-1] = C[-1] + a * (u_old[j,-1])\n",
    "\n",
    "        u_new[j, 1:-1] = np.linalg.solve(A, C)\n",
    "        u[n, j][:, :] = u_new\n",
    "        u_old = u_new\n",
    "\n",
    "'''\n",
    "for n in range(0, quantidade_de_iteracao):\n",
    "    for j in range(1, quantidade_de_pontos_y - 1):\n",
    "        cs = plt.contourf(x, y, u[n, j][:, :])\n",
    "\n",
    "        cs.cmap.set_over('red')\n",
    "        cs.cmap.set_under('blue')\n",
    "        plt.pause(0.000000001)\n",
    "        #plt.show()\n",
    "'''"
   ]
  },
  {
   "cell_type": "code",
   "execution_count": 60,
   "id": "f12ed623-55dc-483b-b43d-7160b5a34695",
   "metadata": {},
   "outputs": [
    {
     "data": {
      "image/png": "[encoded data removed]",
      "text/plain": [
       "<Figure size 1100x700 with 1 Axes>"
      ]
     },
     "metadata": {
      "needs_background": "light"
     },
     "output_type": "display_data"
    }
   ],
   "source": [
    "fig = plt.figure(figsize=(11, 7), dpi=100);\n",
    "\n",
    "cs = plt.contourf(x,y,u_new);\n",
    "cs.cmap.set_over('red');\n",
    "cs.cmap.set_under('blue');\n",
    "plt.pause(0.1);\n",
    "plt.show();\n"
   ]
  }
 ],
 "metadata": {
  "kernelspec": {
   "display_name": "Python 3 (ipykernel)",
   "language": "python",
   "name": "python3"
  },
  "language_info": {
   "codemirror_mode": {
    "name": "ipython",
    "version": 3
   },
   "file_extension": ".py",
   "mimetype": "text/x-python",
   "name": "python",
   "nbconvert_exporter": "python",
   "pygments_lexer": "ipython3",
   "version": "3.10.6"
  }
 },
 "nbformat": 4,
 "nbformat_minor": 5
}
