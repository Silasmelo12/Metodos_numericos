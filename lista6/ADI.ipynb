{
 "cells": [
  {
   "cell_type": "markdown",
   "id": "1ef31fd8-c4d2-4b1c-a640-10bf7134ddb2",
   "metadata": {},
   "source": [
    "# <center>Passo 1</center>"
   ]
  },
  {
   "cell_type": "markdown",
   "id": "db3e4b64-c289-4448-96b5-eed21ec16ce8",
   "metadata": {},
   "source": [
    "# <center>$\\frac {u_{i,j}^{n+1/2} - u_{i,j}^{n}}{\\Delta t/2} = \\alpha (\\hat\\delta_x^2 u_{i,j}^{n+1/2} + \\hat \\delta_y^2 u_{i,j}^{n})$"
   ]
  },
  {
   "cell_type": "markdown",
   "id": "8672bc11-31a6-4bab-9700-97d6cb1849a3",
   "metadata": {},
   "source": [
    "sabendo que \n",
    "\n",
    "$\\hat \\delta _x^2 u_{i,j}^{n}= \\frac{u_{i+1,j}^{n} - 2u_{i,j}^{n} + u_{i-1,j}^{n}}{\\Delta x^2} = \\frac{\\delta_x^2 u_{i,j}^{n}}{\\Delta x^2} $\n",
    "\n",
    "$\\hat \\delta _y^2 u_{i,j}^{n}= \\frac{u_{i,j+1}^{n} - 2u_{i,j}^{n} + u_{i,j-1}^{n}}{\\Delta y^2} = \\frac{\\delta_y^2 u_{i,j}^{n}}{\\Delta y^2} $"
   ]
  },
  {
   "cell_type": "markdown",
   "id": "f04fd994-7bc8-4bde-ae2d-11ef95a33cbe",
   "metadata": {},
   "source": []
  },
  {
   "cell_type": "markdown",
   "id": "f4ca7675-23c4-4329-906f-bb064a9c83c2",
   "metadata": {},
   "source": [
    "<center> $\\hat \\delta _y^2 u_{i,j}^{n} = \\frac{u_{i,j+1}^{n} - 2u_{i,j}^{n} + u_{i,j-1}^{n}}{\\Delta y^2} = \\frac{\\delta_y^2 u_{i,j}^{n}}{\\Delta y^2} $"
   ]
  },
  {
   "cell_type": "code",
   "execution_count": null,
   "id": "14c9c392-bd37-4f63-8f72-b81ac49e327f",
   "metadata": {},
   "outputs": [],
   "source": []
  },
  {
   "cell_type": "markdown",
   "id": "58222658-677c-4fc2-a070-3ee02e91c067",
   "metadata": {},
   "source": [
    "<center> $\\hat \\delta _x^2 u_{i,j}^{n+1/2} = \\frac{u_{i+1,j}^{n+1/2} - 2u_{i,j}^{n+1/2} + u_{i-1,j}^{n+1/2}}{\\Delta x^2}$"
   ]
  },
  {
   "cell_type": "markdown",
   "id": "83386574-6836-4590-85d1-686bc65bd1cd",
   "metadata": {},
   "source": [
    "<center> $\\hat \\delta _y^2 u_{i,j}^{n+1/2} = \\frac{u_{i,j+1}^{n+1/2} - 2u_{i,j}^{n+1/2} + u_{i,j-1}^{n+1/2}}{\\Delta y^2}$"
   ]
  },
  {
   "cell_type": "markdown",
   "id": "a0a27339-1c24-40f5-8d10-02d4dc7b2a40",
   "metadata": {},
   "source": [
    "<center>$\\frac {u_{i,j}^{n+1/2} - u_{i,j}^{n}}{\\Delta t/2} = \\alpha (\\frac{u_{i+1,j}^{n+1/2} - 2u_{i,j}^{n+1/2} + u_{i-1,j}^{n+1/2}}{\\Delta x^2} + \\frac{u_{i,j+1}^{n} - 2u_{i,j}^{n} + u_{i,j-1}^{n}}{\\Delta y^2})$"
   ]
  },
  {
   "cell_type": "markdown",
   "id": "ddb45d63-ab40-4d82-817a-5bb48b159626",
   "metadata": {},
   "source": [
    "<center>$u_{i,j}^{n+1/2} - u_{i,j}^{n} = \\alpha \\frac{\\Delta t}{2} (\\frac{u_{i+1,j}^{n+1/2} - 2u_{i,j}^{n+1/2} + u_{i-1,j}^{n+1/2}}{\\Delta x^2} + \\frac{u_{i,j+1}^{n} - 2u_{i,j}^{n} + u_{i,j-1}^{n}}{\\Delta y^2})$"
   ]
  },
  {
   "cell_type": "markdown",
   "id": "02fa3f83-0dfa-465d-8cd1-10a61268dd5b",
   "metadata": {},
   "source": [
    "<center>$ - u_{i,j}^{n} = \\alpha \\frac{\\Delta t}{2} (\\frac{u_{i+1,j}^{n+1/2} - 2u_{i,j}^{n+1/2} + u_{i-1,j}^{n+1/2}}{\\Delta x^2} + \\frac{u_{i,j+1}^{n} - 2u_{i,j}^{n} + u_{i,j-1}^{n}}{\\Delta y^2}) - u_{i,j}^{n+1/2}$"
   ]
  },
  {
   "cell_type": "markdown",
   "id": "b7bc1f30-733d-4e07-a4d3-ab5845a5a93a",
   "metadata": {},
   "source": [
    "<center>$ u_{i,j}^{n} = u_{i,j}^{n+1/2} - \\alpha \\frac{\\Delta t}{2} (\\frac{u_{i+1,j}^{n+1/2} - 2u_{i,j}^{n+1/2} + u_{i-1,j}^{n+1/2}}{\\Delta x^2} + \\frac{u_{i,j+1}^{n} - 2u_{i,j}^{n} + u_{i,j-1}^{n}}{\\Delta y^2})$"
   ]
  },
  {
   "cell_type": "markdown",
   "id": "5d0a7e2e-0c99-46e7-8f1a-cd94cc6cfd43",
   "metadata": {},
   "source": [
    "### tomando\n",
    "### $a = \\alpha \\frac{\\Delta t}{2\\Delta x^2}$\n",
    "\n",
    "### $b = \\alpha \\frac{\\Delta t}{2\\Delta y^2}$"
   ]
  },
  {
   "cell_type": "code",
   "execution_count": null,
   "id": "7eacac13-e60b-4073-9fcc-b5c9c858bdcc",
   "metadata": {},
   "outputs": [],
   "source": []
  },
  {
   "cell_type": "markdown",
   "id": "c9261e8c-8f99-45b2-b4ab-00ba9ed39ec8",
   "metadata": {},
   "source": [
    "Substituindo temos: <center>$ u_{i,j}^{n} = u_{i,j}^{n+1/2} - a (u_{i+1,j}^{n+1/2} - 2u_{i,j}^{n+1/2} + u_{i-1,j}^{n+1/2}) + b(u_{i,j+1}^{n} - 2u_{i,j}^{n} + u_{i,j-1}^{n})$"
   ]
  },
  {
   "cell_type": "markdown",
   "id": "25042475-e01c-445e-8278-75ea601d30f6",
   "metadata": {},
   "source": [
    "para i = e 1 j = 1"
   ]
  },
  {
   "cell_type": "markdown",
   "id": "7ff7cc96-d0a1-4be1-b8c7-b4ff61df2335",
   "metadata": {},
   "source": [
    "<center>$ u_{1,1}^{n} = \\mathbf {u_{1,1}^{n+1/2}} - a (\\mathbf {u_{2,1}^{n+1/2}} - 2\\mathbf {u_{1,1}^{n+1/2}} + u_{0,1}^{n+1/2}) + b(u_{1,2}^{n} - 2u_{1,1}^{n} + u_{1,0}^{n})$"
   ]
  },
  {
   "cell_type": "markdown",
   "id": "d398b1af-dd9e-4ba9-8534-d00bb9a62ad0",
   "metadata": {},
   "source": [
    "para i = 2 e j = 1"
   ]
  },
  {
   "cell_type": "markdown",
   "id": "2ed40ae1-0bac-4014-b7b7-e3828058bb33",
   "metadata": {},
   "source": [
    "<center>$ u_{2,1}^{n} = \\mathbf {u_{2,1}^{n+1/2} - a (u_{3,1}^{n+1/2} - 2u_{2,1}^{n+1/2} + u_{1,1}^{n+1/2})} + b(u_{2,2}^{n} - 2u_{2,1}^{n} + u_{2,0}^{n})$"
   ]
  },
  {
   "cell_type": "markdown",
   "id": "af620d87-35c2-487f-a244-9aa882ff4169",
   "metadata": {},
   "source": [
    "para i = 3 e j = 1"
   ]
  },
  {
   "cell_type": "markdown",
   "id": "97d17d74-2c91-426b-8081-34d52a6b5cbf",
   "metadata": {},
   "source": [
    "<center>$ u_{3,1}^{n} = \\mathbf {u_{3,1}^{n+1/2}} - a (u_{4,1}^{n+1/2} - \\mathbf {2u_{3,1}^{n+1/2}} + \\mathbf {u_{2,1}^{n+1/2}}) + b(u_{3,2}^{n} - 2u_{3,1}^{n} + u_{3,0}^{n})$"
   ]
  },
  {
   "cell_type": "markdown",
   "id": "07640381-1f20-4b6a-b3b7-5282f271a73d",
   "metadata": {},
   "source": [
    "### Isolando os termos conhecidos"
   ]
  },
  {
   "cell_type": "markdown",
   "id": "88c257e4-a5ba-46c2-aa41-09aa22847b0c",
   "metadata": {},
   "source": [
    "<center>$  - \\mathbf {u_{1,1}^{n+1/2}} + a (\\mathbf {u_{2,1}^{n+1/2}} - 2\\mathbf {u_{1,1}^{n+1/2}})= -u_{1,1}^{n} - a (u_{0,1}^{n+1/2}) + b(u_{1,2}^{n} - 2u_{1,1}^{n} + u_{1,0}^{n})$"
   ]
  },
  {
   "cell_type": "markdown",
   "id": "0b6c7feb-c99b-4c00-9015-ecf21e6d81b4",
   "metadata": {},
   "source": [
    "<center>$  - \\mathbf {u_{2,1}^{n+1/2} + a (u_{3,1}^{n+1/2} - 2u_{2,1}^{n+1/2} + u_{1,1}^{n+1/2})}= -u_{2,1}^{n} + b(u_{2,2}^{n} - 2u_{2,1}^{n} + u_{2,0}^{n})$"
   ]
  },
  {
   "cell_type": "markdown",
   "id": "b9dfdbe7-8da8-43b5-93d3-66c63497aba2",
   "metadata": {},
   "source": [
    "<center>$  - \\mathbf {u_{3,1}^{n+1/2}} + a (- \\mathbf {2u_{3,1}^{n+1/2}} + \\mathbf {u_{2,1}^{n+1/2}})= -u_{3,1}^{n} - a u_{4,1}^{n+1/2} + b(u_{3,2}^{n} - 2u_{3,1}^{n} + u_{3,0}^{n})$"
   ]
  },
  {
   "cell_type": "markdown",
   "id": "e7a7a3db-942b-4af9-8a43-cccaa8aa448c",
   "metadata": {},
   "source": [
    "$$\n",
    "\\begin{pmatrix}\n",
    "-1-2a  & a &  0 \\\\\n",
    "a &  -1-2a & a \\\\\n",
    "0  & a &  -1-2a \\\\\n",
    "\\end{pmatrix}\n",
    "\\begin{pmatrix}\n",
    "U_{1,1}^{n+1} \\\\\n",
    "U_{2,1}^{n+1} \\\\\n",
    "U_{3,1}^{n+1} \\\\\n",
    "\\end{pmatrix}\n",
    "= \n",
    "\\begin{pmatrix}\n",
    "-u_{1,1}^{n} - a (u_{0,1}^{n+1/2}) + b(u_{1,2}^{n} - 2u_{1,1}^{n} + u_{1,0}^{n}) \\\\\n",
    "-u_{2,1}^{n} + b(u_{2,2}^{n} - 2u_{2,1}^{n} + u_{2,0}^{n}) \\\\\n",
    "-u_{3,1}^{n} - a u_{4,1}^{n+1/2} + b(u_{3,2}^{n} - 2u_{3,1}^{n} + u_{3,0}^{n}) \\\\\n",
    "\\end{pmatrix}\n",
    "$$"
   ]
  },
  {
   "cell_type": "markdown",
   "id": "6c11fa8c-0f86-4514-90ab-e9ecc5ab2d88",
   "metadata": {},
   "source": [
    "# <center> Passo 2</center> "
   ]
  },
  {
   "cell_type": "markdown",
   "id": "962f8ce2-7cc7-4ecd-b371-13f218eca37c",
   "metadata": {},
   "source": [
    "# <center>$\\frac {u_{i,j}^{n+1} - u_{i,j}^{n+1/2}}{\\Delta t/2} = \\alpha (\\hat\\delta_x^2 u_{i,j}^{n+1/2} + \\hat \\delta_y^2 u_{i,j}^{n+1})$"
   ]
  },
  {
   "cell_type": "markdown",
   "id": "0845d917-8d3b-4f9f-b5a4-beea895bd95b",
   "metadata": {},
   "source": [
    "sabendo que \n",
    "\n",
    "$\\hat \\delta _x^2 u_{i,j}^{n+1/2} = \\frac{u_{i+1,j}^{n+1/2} - 2u_{i,j}^{n+1/2} + u_{i-1,j}^{n+1/2}}{\\Delta x^2}$\n",
    "\n",
    "$\\hat \\delta _y^2 u_{i,j}^{n+1}= \\frac{u_{i,j+1}^{n+1} - 2u_{i,j}^{n+1} + u_{i,j-1}^{n+1}}{\\Delta y^2}$"
   ]
  },
  {
   "cell_type": "markdown",
   "id": "a91e54e4-c7d7-4050-801a-4f739e43a992",
   "metadata": {},
   "source": [
    "Substituindo na formula geral do passo 2, temos\n",
    "\n"
   ]
  },
  {
   "cell_type": "markdown",
   "id": "cb8fd344-c087-4986-bad1-562f4d199147",
   "metadata": {},
   "source": [
    "<center>$\\frac {u_{i,j}^{n+1} - u_{i,j}^{n+1/2}}{\\Delta t/2} = \\alpha (\\frac{u_{i+1,j}^{n+1/2} - 2u_{i,j}^{n+1/2} + u_{i-1,j}^{n+1/2}}{\\Delta x^2} + \\frac{u_{i,j+1}^{n+1} - 2u_{i,j}^{n+1} + u_{i,j-1}^{n+1}}{\\Delta y^2})$"
   ]
  },
  {
   "cell_type": "markdown",
   "id": "674710c2-1192-4099-94e2-a93bded8ea6d",
   "metadata": {},
   "source": [
    "<center>$u_{i,j}^{n+1} - u_{i,j}^{n+1/2} = \\alpha \\frac{\\Delta t}{2}  (\\frac{u_{i+1,j}^{n+1/2} - 2u_{i,j}^{n+1/2} + u_{i-1,j}^{n+1/2}}{\\Delta x^2} + \\frac{u_{i,j+1}^{n+1} - 2u_{i,j}^{n+1} + u_{i,j-1}^{n+1}}{\\Delta y^2})$"
   ]
  },
  {
   "cell_type": "markdown",
   "id": "8b54e685-99e0-49cf-964f-2058aefe322e",
   "metadata": {},
   "source": [
    "<center>$ - u_{i,j}^{n+1/2} = - u_{i,j}^{n+1} + \\alpha \\frac{\\Delta t}{2}  (\\frac{u_{i+1,j}^{n+1/2} - 2u_{i,j}^{n+1/2} + u_{i-1,j}^{n+1/2}}{\\Delta x^2} + \\frac{u_{i,j+1}^{n+1} - 2u_{i,j}^{n+1} + u_{i,j-1}^{n+1}}{\\Delta y^2})$"
   ]
  },
  {
   "cell_type": "markdown",
   "id": "b2000ef6-63ba-40d2-b266-1f185f48355c",
   "metadata": {},
   "source": [
    "<center>$ u_{i,j}^{n+1/2} = u_{i,j}^{n+1} - \\alpha \\frac{\\Delta t}{2}  (\\frac{u_{i+1,j}^{n+1/2} - 2u_{i,j}^{n+1/2} + u_{i-1,j}^{n+1/2}}{\\Delta x^2} + \\frac{u_{i,j+1}^{n+1} - 2u_{i,j}^{n+1} + u_{i,j-1}^{n+1}}{\\Delta y^2})$"
   ]
  },
  {
   "cell_type": "markdown",
   "id": "f4801167-e669-44bb-a588-94e4d4fe4c7b",
   "metadata": {},
   "source": [
    "### tomando\n",
    "### $a = \\alpha \\frac{\\Delta t}{2\\Delta x^2}$\n",
    "\n",
    "### $b = \\alpha \\frac{\\Delta t}{2\\Delta y^2}$"
   ]
  },
  {
   "cell_type": "markdown",
   "id": "e6a113ee-4cba-4ce4-8f94-2090403e383d",
   "metadata": {},
   "source": [
    "<center>$ u_{i,j}^{n+1/2} = u_{i,j}^{n+1} - a(u_{i+1,j}^{n+1/2} - 2u_{i,j}^{n+1/2} + u_{i-1,j}^{n+1/2}) + b(u_{i,j+1}^{n+1} - 2u_{i,j}^{n+1} + u_{i,j-1}^{n+1})$"
   ]
  },
  {
   "cell_type": "markdown",
   "id": "ba46f385-0248-431f-88ff-320bb194795f",
   "metadata": {},
   "source": [
    "para i = 1 e j = 1 ponto 1\n",
    "\n",
    "<center>$ u_{1,1}^{n+1/2} = u_{1,1}^{n+1} - a(u_{2,1}^{n+1/2} - 2u_{1,1}^{n+1/2} + u_{0,1}^{n+1/2}) + b(u_{1,2}^{n+1} - 2u_{1,1}^{n+1} + u_{1,0}^{n+1})$"
   ]
  },
  {
   "cell_type": "markdown",
   "id": "c9e0402b-d4e3-472d-91fc-6a8eb79342f2",
   "metadata": {},
   "source": [
    "para i = 1 e j = 2 ponto 2\n",
    "\n",
    "<center>$ u_{1,2}^{n+1/2} = u_{1,2}^{n+1} - a(u_{2,2}^{n+1/2} - 2u_{1,2}^{n+1/2} + u_{0,2}^{n+1/2}) + b(u_{1,3}^{n+1} - 2u_{1,2}^{n+1} + u_{1,1}^{n+1})$"
   ]
  },
  {
   "cell_type": "markdown",
   "id": "97bc41bc-834d-4c51-9980-76d1f7cbe9cc",
   "metadata": {},
   "source": [
    "para i = 1 e j = 3 ponto 3\n",
    "\n",
    "<center>$ u_{1,3}^{n+1/2} = u_{1,3}^{n+1} - a(u_{2,3}^{n+1/2} - 2u_{1,3}^{n+1/2} + u_{0,3}^{n+1/2}) + b(u_{1,4}^{n+1} - 2u_{1,3}^{n+1} + u_{1,2}^{n+1})$"
   ]
  },
  {
   "cell_type": "markdown",
   "id": "4ddff53c-5b6c-4b87-aa60-76b62889ecfd",
   "metadata": {},
   "source": [
    "marcando os termos desconhecidos nas 3 equações\n",
    "\n",
    "<center>$ u_{1,1}^{n+1/2} = \\mathbf{u_{1,1}^{n+1}} - a(u_{2,1}^{n+1/2} - 2u_{1,1}^{n+1/2} + u_{0,1}^{n+1/2}) + b(\\mathbf{u_{1,2}^{n+1}} - 2\\mathbf{u_{1,1}^{n+1}} + u_{1,0}^{n+1})$\n",
    "\n",
    "<center>$ u_{1,2}^{n+1/2} = \\mathbf{u_{1,2}^{n+1}} - a(u_{2,2}^{n+1/2} - 2u_{1,2}^{n+1/2} + u_{0,2}^{n+1/2}) + b(\\mathbf{u_{1,3}^{n+1}} - \\mathbf{2u_{1,2}^{n+1}} + \\mathbf{u_{1,1}^{n+1}})$\n",
    "\n",
    "<center>$ u_{1,3}^{n+1/2} = \\mathbf{u_{1,3}^{n+1}} - a(u_{2,3}^{n+1/2} - 2u_{1,3}^{n+1/2} + u_{0,3}^{n+1/2}) + b(u_{1,4}^{n+1} - 2\\mathbf{u_{1,3}^{n+1}} + \\mathbf{u_{1,2}^{n+1}})$"
   ]
  },
  {
   "cell_type": "markdown",
   "id": "404bad4b-c0ba-46e5-9455-82adbfe9013c",
   "metadata": {},
   "source": [
    "marcando os termos desconhecidos nas 3 equações\n",
    "\n",
    "<center>$ - \\mathbf{u_{1,1}^{n+1}} -b(\\mathbf{u_{1,2}^{n+1}} - 2\\mathbf{u_{1,1}^{n+1}}) = - u_{1,1}^{n+1/2} - a(u_{2,1}^{n+1/2} - 2u_{1,1}^{n+1/2} + u_{0,1}^{n+1/2}) + b(u_{1,0}^{n+1})$\n",
    "\n",
    "<center>$ - \\mathbf{u_{1,2}^{n+1}} - b(\\mathbf{u_{1,3}^{n+1}} - \\mathbf{2u_{1,2}^{n+1}} + \\mathbf{u_{1,1}^{n+1}})= - u_{1,2}^{n+1/2} - a(u_{2,2}^{n+1/2} - 2u_{1,2}^{n+1/2} + u_{0,2}^{n+1/2})$\n",
    "\n",
    "<center>$ - \\mathbf{u_{1,3}^{n+1}} - b(- 2\\mathbf{u_{1,3}^{n+1}} + \\mathbf{u_{1,2}^{n+1}}) = - u_{1,3}^{n+1/2} - a(u_{2,3}^{n+1/2} - 2u_{1,3}^{n+1/2} + u_{0,3}^{n+1/2}) + b(u_{1,4}^{n+1})$"
   ]
  },
  {
   "cell_type": "markdown",
   "id": "a5722f0f-b78a-49eb-9ac6-a690934be981",
   "metadata": {},
   "source": [
    "$$\n",
    "\\begin{pmatrix}\n",
    "-1+2b & -b &  0 \\\\\n",
    "-b &  -1+2b & -b \\\\\n",
    "0  & -b &  -1+2b \\\\\n",
    "\\end{pmatrix}\n",
    "\\begin{pmatrix}\n",
    "U_{1,1}^{n+1} \\\\\n",
    "U_{1,2}^{n+1} \\\\\n",
    "U_{1,3}^{n+1} \\\\\n",
    "\\end{pmatrix}\n",
    "= \n",
    "\\begin{pmatrix}\n",
    "-u_{1,1}^{n+1/2} - a(u_{2,1}^{n+1/2} - 2u_{1,1}^{n+1/2} + u_{0,1}^{n+1/2}) + bu_{1,0}^{n+1} \\\\\n",
    "-u_{1,2}^{n+1/2} - a(u_{2,2}^{n+1/2} - 2u_{1,2}^{n+1/2} + u_{0,2}^{n+1/2}) \\\\\n",
    "-u_{1,3}^{n+1/2} - a(u_{2,3}^{n+1/2} - 2u_{1,3}^{n+1/2} + u_{0,3}^{n+1/2}) + bu_{1,4}^{n+1}\\\\\n",
    "\\end{pmatrix}\n",
    "$$"
   ]
  },
  {
   "cell_type": "code",
   "execution_count": null,
   "id": "0f10b8a9-784d-4d68-8051-f95e6bc74ba5",
   "metadata": {},
   "outputs": [],
   "source": []
  }
 ],
 "metadata": {
  "kernelspec": {
   "display_name": "Python 3 (ipykernel)",
   "language": "python",
   "name": "python3"
  },
  "language_info": {
   "codemirror_mode": {
    "name": "ipython",
    "version": 3
   },
   "file_extension": ".py",
   "mimetype": "text/x-python",
   "name": "python",
   "nbconvert_exporter": "python",
   "pygments_lexer": "ipython3",
   "version": "3.10.6"
  }
 },
 "nbformat": 4,
 "nbformat_minor": 5
}
