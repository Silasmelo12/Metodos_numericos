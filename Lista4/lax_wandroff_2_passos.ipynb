{
 "cells": [
  {
   "cell_type": "markdown",
   "id": "920a255e",
   "metadata": {},
   "source": [
    "# <center>Método de Lax-Wendroff de Dois Passos</center>\n",
    "Para equações não lineares, como as equações de escoamento invíscido, pode-se utilizar uma variação de dois passos do método original de Lax-Wendroff. Quando aplicado à equação de onda, esse método explícito de dois passos e três níveis de tempo se torna:\n",
    "\n",
    "Passo 1:\n",
    "\\begin{equation}\n",
    "u_{n+1/2, j+1/2} - \\frac{{(u_{j+1, n} + u_{n, j})}}{2} \\frac{{\\Delta t}}{{2 \\Delta x}} + c = 0\n",
    "\\tag{4.48}\n",
    "\\end{equation}\n",
    "\n",
    "Passo 2:\n",
    "\\begin{equation}\n",
    "u_{j, n+1} - \\frac{{u_{n, j}}}{2} + \\frac{{(u_{j+1, n+1/2} - u_{n, j+1/2})}}{2} \\frac{{\\Delta t}}{{\\Delta x}} + c = 0 \n",
    "\\tag{4.49}\n",
    "\\end{equation}\n",
    "\n",
    "Esse esquema é de segunda ordem de precisão, com um erro de truncamento (T.E.) de O(\\Delta x^2, \\Delta t^2) e é estável sempre que |ν| ≤ 1. O Passo 1 corresponde ao método de Lax aplicado no ponto médio (j+1/2) para meio passo de tempo, enquanto o Passo 2 representa o método leapfrog para a metade restante do passo de tempo.\n",
    "\n",
    "Quando aplicado à equação de onda linear, o esquema de dois passos de Lax-Wendroff é equivalente ao esquema original de Lax-Wendroff. Isso pode ser facilmente demonstrado substituindo a Equação 4.48 na Equação 4.49. Uma vez que os dois esquemas são equivalentes, segue-se que a equação modificada e o fator de amplificação são os mesmos para ambos os métodos."
   ]
  },
  {
   "cell_type": "markdown",
   "id": "d9bd6051-3d7a-4263-8ae2-59f301d238d8",
   "metadata": {},
   "source": []
  },
  {
   "cell_type": "markdown",
   "id": "52f577d2-0dec-4f15-ae00-a2237f92a545",
   "metadata": {},
   "source": [
    "# passo 1\n",
    "\n",
    "\\begin{equation}\n",
    "\\frac {u_{j+1/2}^{n+1/2} - (u_{j+1}^n+u_j^n)/2}{\\Delta t/2} + c\\frac {(u_{j+1}^{n} - u_{j}^n)}{\\Delta x} = 0\n",
    "\\end{equation}\n",
    "\n",
    "\\begin{equation}\n",
    "u_{j+1/2}^{n+1/2} - \\frac{u_{j+1}^n+u_j^n}{2} = - \\frac{\\Delta t}{2} c\\frac {(u_{j+1}^{n} - u_{j}^n)}{\\Delta x}\n",
    "\\end{equation}\n",
    "\n",
    "\\begin{equation}\n",
    "u_{j+1/2}^{n+1/2} = - \\frac{\\Delta t}{2 \\Delta x} c(u_{j+1}^{n} - u_{j}^n) + \\frac {(u_{j+1}^n+u_j^n)}{2}\n",
    "\\end{equation}\n",
    "\n",
    "tomando $v = \\frac{\\Delta t}{\\Delta x} c$ temos\n",
    " \n",
    "\\begin{equation}\n",
    "u_{j+1/2}^{n+1/2} = - \\frac {v}{2}(u_{j+1}^{n} - u_{j}^n) + \\frac {(u_{j+1}^n+u_j^n)}{2}\n",
    "\\end{equation}\n",
    "\n",
    "# passo 2\n",
    "\n",
    "\\begin{equation}\n",
    "\\frac {u_{j}^{n+1} - u_{j}^{n}}{\\Delta t} + c\\frac {(u_{j+1/2}^{n+1/2} - u_{j-1/2}^{n+1/2})}\\Delta x = 0\n",
    "\\end{equation}\n",
    "    \n",
    "\\begin{equation}\n",
    "\\frac {u_{j}^{n+1} - u_{j}^{n}}{\\Delta t} = - c\\frac {(u_{j+1/2}^{n+1/2} - u_{j-1/2}^{n+1/2})}{\\Delta x}\n",
    "\\end{equation}\n",
    "\n",
    "\\begin{equation}\n",
    "u_{j}^{n+1} - u_{j}^{n} = - \\frac{\\Delta t}{\\Delta x}c(u_{j+1/2}^{n+1/2} - u_{j-1/2}^{n+1/2})\n",
    "\\end{equation}\n",
    "    \n",
    "\\begin{equation}\n",
    "u_{j}^{n+1} - u_{j}^{n} = - v(u_{j+1/2}^{n+1/2} - u_{j-1/2}^{n+1/2})\n",
    "\\end{equation}\n",
    "    \n",
    "\\begin{equation}\n",
    "u_{j}^{n+1} = - v(u_{j+1/2}^{n+1/2} - u_{j-1/2}^{n+1/2}) + u_{j}^{n}\n",
    "\\end{equation}\n",
    "    \n",
    "# passo 1:   \n",
    "\n",
    "\\begin{equation}numero1\\_virtual = \\mathbf{u_{j-1/2}^{n+1/2} = - \\frac {v}{2}(u_{j}^{n} - u_{j-1}^n) + \\frac {(u_{j}^n+u_{j-1}^n)}{2}}\n",
    "\\end{equation}\n",
    "    \n",
    "# passo 1:   \n",
    "\n",
    "\\begin{equation}\n",
    "numero2\\_virtual = \\mathbf{u_{j+1/2}^{n+1/2} = - \\frac {v}{2}(u_{j+1}^{n} - u_{j}^n) + \\frac {(u_{j+1}^n+u_j^n)}{2}}\n",
    "\\end{equation}\n",
    "    \n",
    "# passo 2\n",
    "\n",
    "\\begin{equation}\n",
    "\\mathbf{u_{j}^{n+1} = - v(u_{j+1/2}^{n+1/2} - u_{j-1/2}^{n+1/2}) + u_{j}^{n}}\n",
    "\\end{equation}"
   ]
  },
  {
   "cell_type": "code",
   "execution_count": 1,
   "id": "bd9df411-14a7-4cfb-99fc-30d2463ff1fa",
   "metadata": {},
   "outputs": [
    {
     "data": {
      "image/png": "[encoded data removed]",
      "text/plain": [
       "<Figure size 432x288 with 1 Axes>"
      ]
     },
     "metadata": {
      "needs_background": "light"
     },
     "output_type": "display_data"
    }
   ],
   "source": [
    "# Método de Lax-Wendroff de Dois Passos\n",
    "\n",
    "import numpy as np\n",
    "import matplotlib.pyplot as plt\n",
    "\n",
    "l = 40\n",
    "delta_x = 1\n",
    "num_pontos = int(l / delta_x) + 1\n",
    "t_final = 18\n",
    "c = 1\n",
    "delta_t = 1\n",
    "a2 = int(t_final / delta_t)\n",
    "num_tempo = a2 + 1\n",
    "n = 3\n",
    "v = c * delta_t / delta_x\n",
    "\n",
    "x = np.arange(0, l+delta_x, delta_x)\n",
    "#x = np.linspace(0,l+delta_x,delta_x)\n",
    "\n",
    "num_pontos2 = num_pontos + 2\n",
    "\n",
    "u_num = np.zeros((num_tempo, num_pontos2))\n",
    "\n",
    "u_num[0, 1:num_pontos2 - 1] = np.sin((2 * n * np.pi * x) / l)\n",
    "u_num[0, 0] = u_num[0, num_pontos2 - 3]\n",
    "u_num[0, num_pontos2 - 1] = u_num[0, 2]\n",
    "\n",
    "v = (delta_t / delta_x) * c\n",
    "\n",
    "for n in range(0, num_tempo - 1):\n",
    "    for j in range(0, (num_pontos2 - 1)):\n",
    "        numero1_virtual = -v / 2 * (u_num[n, j] - u_num[n, j - 1]) + (u_num[n, j] + u_num[n, j - 1]) / 2\n",
    "        numero2_virtual = -v / 2 * (u_num[n, j + 1] - u_num[n, j]) + (u_num[n, j + 1] + u_num[n, j]) / 2\n",
    "\n",
    "        u_num[n + 1, j] = -v * (numero2_virtual - numero1_virtual) + u_num[n, j]\n",
    "\n",
    "        u_num[n, 0] = u_num[n, num_pontos2 - 3]\n",
    "        u_num[n, num_pontos2 - 1] = u_num[n, 2]\n",
    "\n",
    "plt.plot(x,u_num[6,1:-1]);"
   ]
  }
 ],
 "metadata": {
  "kernelspec": {
   "display_name": "Python 3 (ipykernel)",
   "language": "python",
   "name": "python3"
  },
  "language_info": {
   "codemirror_mode": {
    "name": "ipython",
    "version": 3
   },
   "file_extension": ".py",
   "mimetype": "text/x-python",
   "name": "python",
   "nbconvert_exporter": "python",
   "pygments_lexer": "ipython3",
   "version": "3.10.6"
  }
 },
 "nbformat": 4,
 "nbformat_minor": 5
}
