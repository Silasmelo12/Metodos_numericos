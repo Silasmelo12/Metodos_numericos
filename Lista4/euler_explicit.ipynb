{
 "cells": [
  {
   "cell_type": "markdown",
   "id": "7477e6c6-25bc-4610-8402-1d0c6fa2a50c",
   "metadata": {},
   "source": [
    "# <center>Método de Euler Explicito</center>\n",
    "\n",
    "\\begin{equation}\n",
    "\\frac{u_j^{n+1} - u_j^{n}}{\\Delta t} + c \\frac{u_{j+1}^{n} - u_j^n}{\\Delta x} = 0 \\\n",
    "\\end{equation}\n",
    "\n",
    "\\begin{equation}\n",
    "\\frac{u_j^{n+1} - u_j^{n}}{\\Delta t} + c \\frac{u_{j+1}^{n} - u_{j-1}^n}{2\\Delta x} = 0 \\\n",
    "\\end{equation}\n",
    "\n",
    "Os erros de truncamento (TEs) têm ordens $O[\\Delta t, \\Delta x]$ e $O[\\Delta t, (\\Delta x)^2]$, respectivamente. Referimo-nos a esses esquemas como sendo precisos de primeira ordem, uma vez que o termo de ordem mais baixa no TE é de primeira ordem, ou seja, $\\Delta t$ e $\\Delta x$ para a Equação 4.5 e $\\Delta t$ para a Equação 4.6. Esses esquemas são explícitos, pois apenas uma incógnita $u_j^{n+1}$ aparece em cada equação. Infelizmente, quando a análise de estabilidade de von Neumann é aplicada a esses esquemas, descobrimos que eles são incondicionalmente instáveis. Esses esquemas simples, portanto, mostram ser inúteis na resolução da equação de onda. Vamos agora analisar métodos que têm mais utilidade.\n",
    "\n",
    "Isolando a variável desconhecida em\n",
    "\n",
    "\\begin{equation}\n",
    "\\frac{{u_{j}^{n+1} - u_{j}^{n}}}{{\\Delta t}} + c\\frac{{u_{j+1}^{n} - u_{j-1}^{n}}}{{2\\Delta x}} = 0 \\quad\n",
    "\\tag{4.6}\n",
    "\\end{equation}\n",
    "\n",
    "temos\n",
    "\n",
    "\\begin{equation}\n",
    "{u_{j}^{n+1} = u_{j}^{n}} - c\\frac{\\Delta t}{2\\Delta x}\\left(u_{j+1}^{n} - u_{j-1}^{n}\\right) \\quad\n",
    "\\end{equation}\n",
    "\n",
    "tomando $v = c\\frac{\\Delta t}{\\Delta x}$\n",
    "\n",
    "\\begin{equation}\n",
    "u_{j}^{n+1} = u_{j}^{n} - \\frac{v}{2}\\left(u_{j+1}^{n} - u_{j-1}^{n}\\right)\n",
    "\\end{equation}\n",
    "\n",
    "Isolando a variável desconhecida em\n",
    "\n",
    "\\begin{equation}\n",
    "\\frac{{u_{j}^{n+1} - u_{j}^{n}}}{{\\Delta t}} + c\\frac{{u_{j+1}^{n} - u_{j}^{n}}}{{\\Delta x}} = 0 \\quad c > 0 \n",
    "\\tag{4.5}\n",
    "\\end{equation}\n",
    "\n",
    "tomando $v = c\\frac{\\Delta t}{\\Delta x}$\n",
    "\n",
    "\\begin{equation}\n",
    "u_{j}^{n+1} = u_{j}^{n} - v\\left(u_{j+1}^{n} - u_{j}^{n}\\right)\n",
    "\\end{equation}"
   ]
  },
  {
   "cell_type": "markdown",
   "id": "06576d6f",
   "metadata": {},
   "source": [
    "# Questão 5 da lista 4. \n",
    "\n",
    "Resolva, numericamente, a equação da onda:\n",
    "\n",
    "\\begin{equation}\n",
    "u_t + u_x = 0, \\quad 0 \\leq x \\leq L\n",
    "\\end{equation}\n",
    "\n",
    "Submetida à condição inicial:\n",
    "\n",
    "\\begin{equation}\n",
    "u(x, 0) = \\sin\\left(\\frac{2n\\pi x}{L}\\right)\n",
    "\\end{equation}\n",
    "\n",
    "e às **condições de contorno periódicas**, utilizando os seguintes esquemas de diferenças finitas:\n",
    "\n",
    "1. ~~Upstream~~\n",
    "2. ~~Lax~~\n",
    "3. ~~Leap Frog~~\n",
    "4. ~~Lax-Wendroff~~\n",
    "5. ~~MacCormack~~\n",
    "6. ~~Lax-Wendroff de 2 passos~~\n",
    "7. ~~Upwind de 2ª Ordem~~\n",
    "8. ~~Trapezoidal (Time Centered Implicit)~~\n",
    "9. ~~Warming-Kutler-Lomax~~\n",
    "10. ~~Rusanov ($\\omega = 3$)~~\n",
    "11. **Euler Explícito**\n",
    "\n",
    "Escolha uma malha com 41 pontos e $\\Delta x = 1$ (logo,  $L = 40$) e calcule para  $t = 18.$ Resolva este problema para  $n = 3$ e $\\nu = 1$, $\\nu = 0.6$ e $\\nu = 0.3$ e compare graficamente com a solução exata.\n",
    "\n",
    "\n",
    "Determine $\\beta$  para  $n = 3$ e calcule os erros na amplitude e na fase para o esquema com $\\nu = 0.6$.\n",
    "Compare estes erros com os que aparecem nos gráficos.\n"
   ]
  },
  {
   "cell_type": "code",
   "execution_count": 28,
   "id": "8867ed42-a8f5-4bd9-aa56-016565a2e74c",
   "metadata": {},
   "outputs": [
    {
     "data": {
      "text/plain": [
       "[<matplotlib.lines.Line2D at 0x7f8bfa58c520>]"
      ]
     },
     "execution_count": 28,
     "metadata": {},
     "output_type": "execute_result"
    },
    {
     "data": {
      "image/png": "[encoded data removed]",
      "text/plain": [
       "<Figure size 432x288 with 1 Axes>"
      ]
     },
     "metadata": {
      "needs_background": "light"
     },
     "output_type": "display_data"
    }
   ],
   "source": [
    "# importes\n",
    "import numpy as np\n",
    "import matplotlib.pyplot as plt\n",
    "\n",
    "# dados iniciais\n",
    "l = 40\n",
    "delta_x = 1\n",
    "num_pontos = 41\n",
    "t_final = 18\n",
    "c = 1\n",
    "delta_t = 0.1 \n",
    "n = 3\n",
    "x = np.arange(0, num_pontos, delta_x)\n",
    "t = np.arange(0, t_final, delta_t)\n",
    "num_tempo = len(t)\n",
    "'''\n",
    "    criando uma matriz para conter todas as soluções, onde a linha é o tempo\n",
    "    e as colunas é cada ponto do domínio.\n",
    "'''\n",
    "u_num = np.zeros((num_tempo, num_pontos))\n",
    "\n",
    "# definindo a condição inicial na linha 0\n",
    "u_num[0, :] = np.sin(2 * n * np.pi * x / l)\n",
    "\n",
    "# definindo o valor de v\n",
    "v = (delta_t / delta_x) * c\n",
    "\n",
    "# solução numérica. o indice i percorre as linhas, equanto o j percorre as colunas\n",
    "\n",
    "for i in range(1, num_tempo - 1):\n",
    "    for j in range(0, num_pontos - 1):\n",
    "        u_num[i, j] = u_num[i - 1, j] - v * (u_num[i - 1, j + 1] - u_num[i - 1, j])\n",
    "    u_num[i, num_pontos - 1] = u_num[i, 0]\n",
    "plt.plot(u_num[i,:])\n",
    "    #plt.show()\n",
    "    # print(u_num[i, j + 1])"
   ]
  }
 ],
 "metadata": {
  "kernelspec": {
   "display_name": "Python 3 (ipykernel)",
   "language": "python",
   "name": "python3"
  },
  "language_info": {
   "codemirror_mode": {
    "name": "ipython",
    "version": 3
   },
   "file_extension": ".py",
   "mimetype": "text/x-python",
   "name": "python",
   "nbconvert_exporter": "python",
   "pygments_lexer": "ipython3",
   "version": "3.10.6"
  }
 },
 "nbformat": 4,
 "nbformat_minor": 5
}
