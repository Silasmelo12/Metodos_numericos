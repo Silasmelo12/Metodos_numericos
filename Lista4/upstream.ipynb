{
 "cells": [
  {
   "cell_type": "markdown",
   "id": "c9033dab",
   "metadata": {},
   "source": [
    "# <center>Upstream</center>\n",
    "O método simples de Euler, Equação 4.5, pode ser tornar estável substituindo a diferença de espaço para frente por uma diferença de espaço para trás, desde que a velocidade da onda c seja positiva. Se a velocidade da onda for negativa, uma diferença para frente deve ser usada para garantir a estabilidade. Esse ponto é discutido mais detalhadamente no final desta seção. Para uma velocidade de onda positiva, o seguinte algoritmo resulta:\n",
    "\\begin{equation}\n",
    "\\frac{u_{j}^{n+1} - u_{j}^{n}}{\\Delta t} + c \\frac{u_{j}^{n} - u_{j-1}^{n}}{\\Delta x} = 0, \\quad c > 0\n",
    "\\end{equation}\n",
    "Este é um método de primeira ordem com precisão, com erros de truncamento de O[Δt, Δx]. A análise de estabilidade de von Neumann mostra que este método é estável, desde que:\n",
    "\\begin{equation}\n",
    "0 \\leq \\nu \\leq 1, \\quad \\text{onde} \\quad \\nu = \\frac{c \\Delta t}{\\Delta x}\n",
    "\\end{equation}"
   ]
  },
  {
   "cell_type": "markdown",
   "id": "9aa5cf6b",
   "metadata": {},
   "source": [
    "# Questão 5 da lista 4. \n",
    "\n",
    "Resolva, numericamente, a equação da onda:\n",
    "\n",
    "\\begin{equation}\n",
    "u_t + u_x = 0, \\quad 0 \\leq x \\leq L\n",
    "\\end{equation}\n",
    "\n",
    "Submetida à condição inicial:\n",
    "\n",
    "\\begin{equation}\n",
    "u(x, 0) = \\sin\\left(\\frac{2n\\pi x}{L}\\right)\n",
    "\\end{equation}\n",
    "\n",
    "e às **condições de contorno periódicas**, utilizando os seguintes esquemas de diferenças finitas:\n",
    "\n",
    "1. **Upstream**\n",
    "2. ~~Lax~~\n",
    "3. ~~Leap Frog~~\n",
    "4. ~~Lax-Wendroff~~\n",
    "5. ~~MacCormack~~\n",
    "6. ~~Lax-Wendroff de 2 passos~~\n",
    "7. ~~Upwind de 2ª Ordem~~\n",
    "8. ~~Trapezoidal (Time Centered Implicit)~~\n",
    "9. ~~Warming-Kutler-Lomax~~\n",
    "10. ~~Rusanov ($\\omega = 3$)~~\n",
    "11. ~~Euler Explícito~~\n",
    "\n",
    "Escolha uma malha com 41 pontos e $\\Delta x = 1$ (logo,  $L = 40$) e calcule para  $t = 18.$ Resolva este problema para  $n = 3$ e $\\nu = 1$, $\\nu = 0.6$ e $\\nu = 0.3$ e compare graficamente com a solução exata.\n",
    "\n",
    "\n",
    "Determine $\\beta$  para  $n = 3$ e calcule os erros na amplitude e na fase para o esquema com $\\nu = 0.6$.\n",
    "Compare estes erros com os que aparecem nos gráficos.\n"
   ]
  },
  {
   "cell_type": "code",
   "execution_count": 11,
   "id": "56eb7590-76ec-4de8-a4c4-20e1a05b59ba",
   "metadata": {},
   "outputs": [
    {
     "data": {
      "text/plain": [
       "[<matplotlib.lines.Line2D at 0x7f6befe3c670>]"
      ]
     },
     "execution_count": 11,
     "metadata": {},
     "output_type": "execute_result"
    },
    {
     "data": {
      "image/png": "[encoded data removed]",
      "text/plain": [
       "<Figure size 432x288 with 1 Axes>"
      ]
     },
     "metadata": {
      "needs_background": "light"
     },
     "output_type": "display_data"
    }
   ],
   "source": [
    "# método de Lax\n",
    "import numpy as np\n",
    "import matplotlib.pyplot as plt\n",
    "\n",
    "# dados iniciais\n",
    "l = 40\n",
    "delta_x = 1\n",
    "num_pontos = 41\n",
    "t_final = 180\n",
    "c = 1\n",
    "delta_t = 0.1 \n",
    "n = 3\n",
    "x = np.arange(0, num_pontos, delta_x)\n",
    "t = np.arange(0, t_final, delta_t)\n",
    "num_tempo = len(t)\n",
    "\n",
    "\n",
    "u_num = np.zeros((num_tempo, num_pontos))\n",
    "u_num[0, :] = np.sin(2 * n * (np.pi * x / l))\n",
    "v = (delta_t / delta_x) * c\n",
    "\n",
    "for i in range(1, num_tempo):\n",
    "    for j in range(1, num_pontos):\n",
    "        u_num[i, j] = u_num[i - 1, j] - v * (u_num[i - 1, j] - u_num[i - 1, j - 1])\n",
    "    u_num[i, 0] = u_num[i, num_pontos - 1]\n",
    "\n",
    "plt.plot(u_num[-1,:]);"
   ]
  },
  {
   "cell_type": "code",
   "execution_count": null,
   "id": "2f907958-36ed-41d9-8646-59bd58bfcba8",
   "metadata": {},
   "outputs": [],
   "source": []
  },
  {
   "cell_type": "code",
   "execution_count": null,
   "id": "1ddfc97d",
   "metadata": {},
   "outputs": [],
   "source": []
  }
 ],
 "metadata": {
  "kernelspec": {
   "display_name": "Python 3 (ipykernel)",
   "language": "python",
   "name": "python3"
  },
  "language_info": {
   "codemirror_mode": {
    "name": "ipython",
    "version": 3
   },
   "file_extension": ".py",
   "mimetype": "text/x-python",
   "name": "python",
   "nbconvert_exporter": "python",
   "pygments_lexer": "ipython3",
   "version": "3.10.6"
  }
 },
 "nbformat": 4,
 "nbformat_minor": 5
}
