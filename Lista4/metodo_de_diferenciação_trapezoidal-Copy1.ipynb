{
 "cells": [
  {
   "cell_type": "markdown",
   "id": "8d96cf48",
   "metadata": {},
   "source": [
    "# <center>Método Implícito Centrado no Tempo (Método de Diferenciação Trapezoidal)</center>\n",
    "\n",
    "Os métodos apresentados até agora para resolver a equação da onda têm sido precisos de primeira ou segunda ordem. Apenas um pequeno número de métodos de terceira ordem apareceu na literatura. Rusanov (1970) e Burstein e Mirin (1970) desenvolveram simultaneamente o seguinte método explícito de três etapas:\n",
    "\n",
    "Passo 1:\n",
    "\\begin{equation}\n",
    "u^{(1)}_{j+1/2} = \\frac{1}{2}\\left(u_{j+1}^n + u_{j}^n\\right) - \\frac{1}{3}\\nu\\left(u_{j+1}^n - u_{j}^n\\right)\n",
    "\\end{equation}\n",
    "\n",
    "Passo 2:\n",
    "\\begin{equation}\n",
    "u_j^{(2)} = u_{j}^n - \\nu \\frac{2}{3} \\left(u_{j+1/2}^{(1)} - u_{j-1/2}^{(1)}\\right)\n",
    "\\end{equation}\n",
    "\n",
    "Passo 3:\n",
    "\\begin{equation}\n",
    "u_{j+1}^n = u_{j}^n - \\frac{1}{24} \\nu \\left(-2u_{j+2}^n + 7u_{j+1}^n - 7u_{j-1}^n + 2u_{j-2}^n\\right) - \\frac{3}{8} \\nu \\left(u_{j+1}^{(2)} - u_{j-1}^(2)\\right) - \\frac{\\omega}{24} \\left(u_{j+2}^n - 4u_{j+1}^n + 6u_{j}^n - 4u_{j-1}^n + u_{j-2}^n\\right)\n",
    "\\end{equation}\n",
    "\n",
    "O Passo 3 contém o termo de diferença de quarta ordem\n",
    "\n",
    "\\begin{equation}\n",
    "\\delta_x^4 u_{j}^n = u_{j+2}^n - 4u_{j+1}^n + 6u_{j}^n - 4u_{j-1}^n + u_{j-2}^n \\approx (\\Delta x)^4 u_{xxxx}\n",
    "\\end{equation}\n",
    "\n",
    "que é multiplicado por um parâmetro livre $\\omega$. Esse termo foi adicionado para tornar o esquema estável. A necessidade desse termo é evidente quando examinamos os requisitos de estabilidade para o esquema:\n",
    "\n",
    "\\begin{equation}\n",
    "|\\nu| \\leq 1 \n",
    "\\end{equation}\n",
    "\\begin{equation}\n",
    "4\\nu^2 - \\nu^4 \\leq \\omega \\leq 3 \n",
    "\\tag{4.65}\n",
    "\\end{equation}\n",
    "\n",
    "Se o termo de diferença de quarta ordem não estivesse presente (ou seja, $\\omega = 0$), não poderíamos satisfazer a Equação 4.65 para $0 < \\nu \\leq 1$. A equação modificada para esse método é\n",
    "\n",
    "\\begin{equation}\n",
    "u_t + c u_x =  \\frac{c(\\Delta x)^3}{24} \\left( \\frac{\\omega}{\\nu} -4 \\nu + \\nu^3 \\right)u_{xxxx} + c\\left(\\frac{(\\Delta x)^4}{120}\\right)\\left(-5\\omega + 4 + 15\\nu^2 - 4\\nu^4\\right)u_{xxxxx} + \\dots \n",
    "\\tag{4.66}\n",
    "\\end{equation}\n",
    "\n",
    "Para reduzir a dissipação desse esquema, podemos fazer o coeficiente da quarta derivada igual a zero, definindo\n",
    "\\begin{equation}\n",
    "\\omega = 4\\nu^2 - \\nu^4 \n",
    "\\tag{4.67}\n",
    "\\end{equation}\n",
    "\n",
    "Da mesma forma, podemos reduzir o erro dispersivo definindo o coeficiente da quinta derivada como zero, o que nos dá\n",
    "\\begin{equation}\n",
    "\\omega = \\frac{(4\\nu^2 + 1)(4 - \\nu^2)}{5}\n",
    "\\tag{4.68}\n",
    "\\end{equation}"
   ]
  },
  {
   "cell_type": "code",
   "execution_count": 2,
   "id": "19368318",
   "metadata": {},
   "outputs": [],
   "source": [
    "from mpl_toolkits.mplot3d import Axes3D\n",
    "from mpl_toolkits import mplot3d\n",
    "import numpy as np\n",
    "import matplotlib.pyplot as plt\n",
    "from mpl_toolkits.mplot3d import Axes3D\n",
    "\n",
    "# dados iniciais\n",
    "l = 40\n",
    "delta_x = 1\n",
    "quantidade_de_pontos = 410\n",
    "t_final = 180\n",
    "c = 1\n",
    "delta_t = 0.1\n",
    "n = 3\n",
    "x = np.linspace(0, l, quantidade_de_pontos)\n",
    "t = np.arange(0, t_final+delta_t, delta_t)\n",
    "quantidade_de_passos_de_tempo = len(t)\n",
    "v = (delta_t / delta_x) * c\n",
    "\n",
    "\n"
   ]
  },
  {
   "cell_type": "code",
   "execution_count": 3,
   "id": "94c15dfe",
   "metadata": {},
   "outputs": [
    {
     "data": {
      "text/plain": [
       "0.1"
      ]
     },
     "execution_count": 3,
     "metadata": {},
     "output_type": "execute_result"
    }
   ],
   "source": [
    "v"
   ]
  },
  {
   "cell_type": "code",
   "execution_count": null,
   "id": "0e01b0b7",
   "metadata": {},
   "outputs": [],
   "source": []
  }
 ],
 "metadata": {
  "kernelspec": {
   "display_name": "Python 3 (ipykernel)",
   "language": "python",
   "name": "python3"
  },
  "language_info": {
   "codemirror_mode": {
    "name": "ipython",
    "version": 3
   },
   "file_extension": ".py",
   "mimetype": "text/x-python",
   "name": "python",
   "nbconvert_exporter": "python",
   "pygments_lexer": "ipython3",
   "version": "3.10.6"
  }
 },
 "nbformat": 4,
 "nbformat_minor": 5
}
