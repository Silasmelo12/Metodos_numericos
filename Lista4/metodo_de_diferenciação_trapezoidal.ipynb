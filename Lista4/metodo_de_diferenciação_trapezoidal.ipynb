{
 "cells": [
  {
   "cell_type": "markdown",
   "id": "8d96cf48",
   "metadata": {},
   "source": [
    "# <center>Método Implícito Centrado no Tempo (Método de Diferenciação Trapezoidal)</center>\n",
    "\n",
    "Um esquema implícito de segunda ordem de precisão pode ser obtido se as duas expansões de série de Taylor são subtraídas:\n",
    "$$\n",
    "\\begin{eqnarray} \n",
    "u_{j}^n  &=& u_{j}^n + \\Delta t(u_t)_j^n + \\frac{1}{2}(\\Delta t)^2(u_{tt})_j^n + \\frac{1}{6}(\\Delta t)^3(u_{ttt})_j^n + \\cdots \\\\\n",
    "\\tag{4.57}\n",
    "u_j^{n} &=& u_j^{n+1}- \\Delta t(u_t)_j^{n+1} + \\frac{1}{2}(\\Delta t)^2(u_{tt})_j^{n+1} - \\frac{1}{6}(\\Delta t)^3(u_{ttt})_j^{n+1} + \\cdots \\\\\n",
    "\\end{eqnarray}\n",
    "$$\n",
    "\n",
    "Em seguida, $(u_{tt})_j^{n+1}$ é substituído por: \n",
    "\n",
    "$$\n",
    "(u_{tt})_j^{n+1} = (u_{tt})_j^{n} + \\Delta t(u_{ttt})_{j}^{n} + \\cdots\n",
    "$$\n",
    "\n",
    "A expressão resultante torna-se: \n",
    "$$\n",
    "\\frac{u_j^{n+1}-u_j^{n}}{\\Delta t} = \\frac{1}{2}\\left[(u_t)^n + (u_t)^{n+1}\\right]_j + O\\left[\\left(\\Delta t\\right)^2\\right] \n",
    "\\tag{4.58}\n",
    "$$\n",
    "\n",
    "A diferenciação temporal nesta equação é conhecida como diferenciação trapezoidal ou diferenciação Crank-Nicolson. Ao substituir a equação de onda linear $u_t = -c u_x$, obtemos:\n",
    "\n",
    "$$\n",
    "\\frac{u_j^{n+1}-u_j^n}{\\Delta t} + \\frac{c}{2}(u_x^{n} + u_x^{,n+1}) = O((\\Delta t)^2) \\tag{4.59}\n",
    "$$\n",
    "\n",
    "E, finalmente, se os termos $u_x$ forem substituídos por diferenças centrais de segunda ordem, o método implícito centrado no tempo é obtido:\n",
    "\n",
    "$$\n",
    "u_j^{n+1} = u_j^{n} - \\frac{\\nu}{4} \\left(u_{j+1}^{n+1} + u_{j+1}^n - u_{j-1}^{n+1} - u_{j-1}^{n}\\right) \\tag{4.60}\n",
    "$$\n",
    "\n",
    "$j = 1, \\ 2 \\ \\text{e} \\ 3$ e marcando os termos conhecidos de vermelho, temos:\n",
    "\n",
    "$$\n",
    "u_1^{n+1} = \\color{red}{u_1^{n}} - \\frac{\\nu}{4} \\left(u_{2}^{n+1} + \\color{red}{u_{2}^n} - \\color{red}{u_{0}^{n+1}} - \\color{red}{u_{0}^{n}}\\right) \n",
    "$$\n",
    "\n",
    "$$\n",
    "u_2^{n+1} = \\color{red}{u_2^{n}} - \\frac{\\nu}{4} \\left(u_{3}^{n+1} + \\color{red}{u_{3}^n} - u_{1}^{n+1} - \\color{red}{u_{1}^{n}}\\right) \n",
    "$$\n",
    "\n",
    "$$\n",
    "u_3^{n+1} = \\color{red}{u_3^{n}} - \\frac{\\nu}{4} \\left(\\color{red}{u_{4}^{n+1}} + \\color{red}{u_{4}^n} - u_{2}^{n+1} - \\color{red}{u_{2}^{n}}\\right) \n",
    "$$\n",
    "\n",
    "Isolando os termos conhecidos para o lado direito e os desconhecidos para a esquerda\n",
    "\n",
    "$$\n",
    "\\begin{eqnarray}\n",
    "u_1^{n+1} + \\frac{\\nu}{4}u_{2}^{n+1} &=& \\color{red}{u_1^{n}} - \\frac{\\nu}{4} \\left(\\color{red}{u_{2}^n} - \\color{red}{u_{0}^{n+1}} - \\color{red}{u_{0}^{n}}\\right) \\\\\n",
    "u_2^{n+1} + \\frac{\\nu}{4} \\left(u_{3}^{n+1} - u_{1}^{n+1} \\right) &=& \\color{red}{u_2^{n}} - \\frac{\\nu}{4} \\left(\\color{red}{u_{3}^n} - \\color{red}{u_{1}^{n}}\\right) \\\\\n",
    "u_3^{n+1} - \\frac{\\nu}{4}u_{2}^{n+1} &=& \\color{red}{u_3^{n}} - \\frac{\\nu}{4} \\left(\\color{red}{u_{4}^{n+1}} + \\color{red}{u_{4}^n} - \\color{red}{u_{2}^{n}}\\right)\n",
    "\\end{eqnarray}\n",
    "$$\n",
    "\n",
    "Transformando em matriz\n",
    "\n",
    "$$\n",
    "    \\begin{bmatrix}\n",
    "    1    & v/4  &  0 \\\\\n",
    "    -v/4 & 1    & v/4 \\\\\n",
    "    0    & -v/4 &  1 \\\\\n",
    "    \\end{bmatrix}\n",
    "    \\begin{bmatrix}\n",
    "    u_{1}^{n+1} \\\\\n",
    "    u_{2}^{n+1} \\\\\n",
    "    u_{3}^{n+1} \\\\\n",
    "    \\end{bmatrix}\n",
    "    = \n",
    "    \\begin{bmatrix}\n",
    "    \\color{red}{u_1^{n}} - \\frac{\\nu}{4} \\left(\\color{red}{u_{2}^n} - \\color{red}{u_{0}^{n+1}} - \\color{red}{u_{0}^{n}}\\right) \\\\\n",
    "    \\color{red}{u_2^{n}} - \\frac{\\nu}{4} \\left(\\color{red}{u_{3}^n} - \\color{red}{u_{1}^{n}}\\right) \\\\\n",
    "    \\color{red}{u_3^{n}} - \\frac{\\nu}{4} \\left(\\color{red}{u_{4}^{n+1}} + \\color{red}{u_{4}^n} - \\color{red}{u_{2}^{n}}\\right) \\\\\n",
    "    \\end{bmatrix}\n",
    "$$"
   ]
  },
  {
   "cell_type": "code",
   "execution_count": 42,
   "id": "19368318",
   "metadata": {},
   "outputs": [
    {
     "data": {
      "image/png": "[encoded data removed]",
      "text/plain": [
       "<Figure size 432x288 with 1 Axes>"
      ]
     },
     "metadata": {
      "needs_background": "light"
     },
     "output_type": "display_data"
    }
   ],
   "source": [
    "from mpl_toolkits.mplot3d import Axes3D\n",
    "from mpl_toolkits import mplot3d\n",
    "import numpy as np\n",
    "import matplotlib.pyplot as plt\n",
    "from mpl_toolkits.mplot3d import Axes3D\n",
    "\n",
    "# dados iniciais\n",
    "l = 40\n",
    "delta_x = 1\n",
    "quantidade_de_pontos = 410\n",
    "t_final = 180\n",
    "c = 1\n",
    "delta_t = 0.1\n",
    "n = 3\n",
    "x = np.linspace(0, l, quantidade_de_pontos)\n",
    "t = np.arange(0, t_final+delta_t, delta_t)\n",
    "quantidade_de_passos_de_tempo = len(t)\n",
    "v = (delta_t / delta_x) * c\n",
    "\n",
    "linhas  = quantidade_de_pontos - 2\n",
    "colunas = quantidade_de_pontos - 2\n",
    "\n",
    "u_num = np.zeros((quantidade_de_passos_de_tempo + 4, quantidade_de_pontos))\n",
    "u_old = np.zeros(quantidade_de_pontos)\n",
    "u_new = np.zeros(quantidade_de_pontos)\n",
    "\n",
    "A = np.zeros((linhas + 1, colunas + 1))\n",
    "C = np.zeros(linhas)\n",
    "\n",
    "u_old[:] = np.sin(2*n*np.pi * x / l)\n",
    "u_num[0, :] = u_old\n",
    "u_new[:] = u_old\n",
    "\n",
    "for i in range(0,linhas):\n",
    "    A[i,i]   = 1\n",
    "    A[i,i+1] = v/4\n",
    "    A[i,i-1] = -v/4\n",
    "    \n",
    "A = np.delete(A, (-1), axis=0)\n",
    "A = np.delete(A, (-1), axis=1)\n",
    "\n",
    "#u_new[0] = u_new[-2]\n",
    "#u_new[-1] = u_new[1]\n",
    "\n",
    "for n in range(0, quantidade_de_passos_de_tempo - 1):\n",
    "    C[:] = u_old[1:-1] - (v/4) * (u_old[2:]-u_old[0:-2])\n",
    "    C[0]  = C[0]  + (v/4) * u_old[0]\n",
    "    C[-1] = C[-1] - (v/4) * u_old[-1]\n",
    "\n",
    "    u_new[1:-1] = np.linalg.solve(A, C)\n",
    "    u_new[-1] = u_new[1]\n",
    "    u_new[0] = u_new[-2]\n",
    "    u_num[n + 1, :] = u_new\n",
    "    u_old = u_new\n",
    "\n",
    "plt.plot(u_old)\n",
    "plt.show()"
   ]
  },
  {
   "cell_type": "code",
   "execution_count": 40,
   "id": "94c15dfe",
   "metadata": {},
   "outputs": [
    {
     "data": {
      "text/plain": [
       "0.1"
      ]
     },
     "execution_count": 40,
     "metadata": {},
     "output_type": "execute_result"
    }
   ],
   "source": [
    "v"
   ]
  }
 ],
 "metadata": {
  "kernelspec": {
   "display_name": "Python 3 (ipykernel)",
   "language": "python",
   "name": "python3"
  },
  "language_info": {
   "codemirror_mode": {
    "name": "ipython",
    "version": 3
   },
   "file_extension": ".py",
   "mimetype": "text/x-python",
   "name": "python",
   "nbconvert_exporter": "python",
   "pygments_lexer": "ipython3",
   "version": "3.10.6"
  }
 },
 "nbformat": 4,
 "nbformat_minor": 5
}
