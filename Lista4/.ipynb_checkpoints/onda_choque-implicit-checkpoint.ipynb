{
 "cells": [
  {
   "cell_type": "code",
   "execution_count": 1,
   "id": "becd078e",
   "metadata": {},
   "outputs": [],
   "source": [
    "import numpy as np\n",
    "import matplotlib.pyplot as plt"
   ]
  },
  {
   "cell_type": "code",
   "execution_count": 2,
   "id": "9271ee47",
   "metadata": {},
   "outputs": [],
   "source": [
    "L    = 40.0    # tamanho do intervalo\n",
    "C    = 1.0   # constante da equação da onda\n",
    "TFIM = 18.0    # tempo de simulação\n",
    "NX   = 41     # Número de pontos em X\n",
    "NT   = 30    # \n",
    "\n",
    "DX = L/(NX-1) # tamanho do passo no espaço\n",
    "DT = TFIM/NT  # tamanho do passo no tempo\n",
    "\n",
    "NI = C*DT/DX  # número de Courant\n",
    "\n",
    "U_NUM = np.zeros((NT,NX))"
   ]
  },
  {
   "cell_type": "code",
   "execution_count": 7,
   "id": "fa72d161",
   "metadata": {},
   "outputs": [],
   "source": [
    "# Condições Iniciais.\n",
    "X = np.linspace(0,L,NX)\n",
    "U_NUM[0,0:10]  = 1\n",
    "U_NUM[0,11:]   = 0"
   ]
  },
  {
   "cell_type": "code",
   "execution_count": 36,
   "id": "6f4e4cf1",
   "metadata": {},
   "outputs": [],
   "source": [
    "# Solução\n",
    "for i in range(NT-1):\n",
    "    U_NUM[i+1,0:] = (1-NI)*U_NUM[i,0:]+NI*U_NUM[i,0:U_NUM.shape[1]]\n",
    "    \n",
    "# Solução\n",
    "for i in range(NT-1):\n",
    "    U_NUM[i+1,1:] = (1-NI)*U_NUM[i,1:]+NI*U_NUM[i,0:U_NUM.shape[1]-1]"
   ]
  },
  {
   "cell_type": "code",
   "execution_count": 44,
   "id": "d993d831",
   "metadata": {},
   "outputs": [
    {
     "data": {
      "text/plain": [
       "[<matplotlib.lines.Line2D at 0x7ff14fdbed40>]"
      ]
     },
     "execution_count": 44,
     "metadata": {},
     "output_type": "execute_result"
    },
    {
     "data": {
      "image/png": "[encoded data removed]",
      "text/plain": [
       "<Figure size 432x288 with 1 Axes>"
      ]
     },
     "metadata": {
      "needs_background": "light"
     },
     "output_type": "display_data"
    }
   ],
   "source": [
    "plt.plot(X,U_NUM[29,])"
   ]
  },
  {
   "cell_type": "code",
   "execution_count": 41,
   "id": "640970d9",
   "metadata": {},
   "outputs": [
    {
     "data": {
      "text/plain": [
       "0.6"
      ]
     },
     "execution_count": 41,
     "metadata": {},
     "output_type": "execute_result"
    }
   ],
   "source": [
    "NI"
   ]
  },
  {
   "cell_type": "code",
   "execution_count": 6,
   "id": "ef1d5841",
   "metadata": {},
   "outputs": [
    {
     "data": {
      "image/png": "[encoded data removed]",
      "text/plain": [
       "<Figure size 432x288 with 1 Axes>"
      ]
     },
     "metadata": {
      "needs_background": "light"
     },
     "output_type": "display_data"
    }
   ],
   "source": [
    "plt.scatter(X,U_NUM[29,]);"
   ]
  },
  {
   "cell_type": "code",
   "execution_count": 1,
   "id": "1b9d1625",
   "metadata": {},
   "outputs": [
    {
     "data": {
      "text/plain": [
       "30.0"
      ]
     },
     "execution_count": 1,
     "metadata": {},
     "output_type": "execute_result"
    }
   ],
   "source": [
    "18/0.6"
   ]
  },
  {
   "cell_type": "code",
   "execution_count": 12,
   "id": "833318eb",
   "metadata": {},
   "outputs": [
    {
     "data": {
      "text/plain": [
       "array([1., 1., 1., 1., 1., 1., 1., 1., 1., 1., 1., 1., 1., 1., 1., 1., 1.,\n",
       "       1., 1., 1., 0., 0., 0., 0., 0., 0., 0., 0., 0., 0., 0., 0., 0., 0.,\n",
       "       0., 0., 0., 0., 0., 0., 0.])"
      ]
     },
     "execution_count": 12,
     "metadata": {},
     "output_type": "execute_result"
    }
   ],
   "source": [
    "U_NUM[0,]"
   ]
  },
  {
   "cell_type": "code",
   "execution_count": null,
   "id": "c919fd07",
   "metadata": {},
   "outputs": [],
   "source": [
    "explicit\n",
    "implicit\n",
    "crack nisson\n",
    "dufort\n",
    "combinados"
   ]
  }
 ],
 "metadata": {
  "kernelspec": {
   "display_name": "Python 3 (ipykernel)",
   "language": "python",
   "name": "python3"
  },
  "language_info": {
   "codemirror_mode": {
    "name": "ipython",
    "version": 3
   },
   "file_extension": ".py",
   "mimetype": "text/x-python",
   "name": "python",
   "nbconvert_exporter": "python",
   "pygments_lexer": "ipython3",
   "version": "3.10.6"
  }
 },
 "nbformat": 4,
 "nbformat_minor": 5
}
