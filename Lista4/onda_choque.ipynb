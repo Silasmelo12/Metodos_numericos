{
 "cells": [
  {
   "cell_type": "markdown",
   "id": "ddb83473",
   "metadata": {},
   "source": [
    "# Euler Explicit Methods\n",
    "\n",
    "Os seguintes métodos simples explícitos de um passo:\n",
    "\n",
    "\\begin{equation}\n",
    "\\frac{{u_{j}^{n+1} - u_{j}^{n}}}{{\\Delta t}} + c\\frac{{u_{j+1}^{n} - u_{j}^{n}}}{{\\Delta x}} = 0 \\quad c > 0 \n",
    "\\tag{4.5}\n",
    "\\end{equation}\n",
    "\n",
    "\\begin{equation}\n",
    "\\frac{{u_{j}^{n+1} - u_{j}^{n}}}{{\\Delta t}} + c\\frac{{u_{j+1}^{n} - u_{j-1}^{n}}}{{2\\Delta x}} = 0 \\quad\n",
    "\\tag{4.6}\n",
    "\\end{equation}\n",
    "\n",
    "possuem erros de truncamento (E.T.s) de $O[\\Delta t, \\Delta x]$ e $O[\\Delta t, (\\Delta x)^2]$, respectivamente. Chamamos esses esquemas de precisão de primeira ordem, pois o termo de ordem mais baixa no E.T. é de primeira ordem, ou seja, $\\Delta t$ e $\\Delta x$ para a Equação 4.5 e $\\Delta t$ para a Equação 4.6. Esses esquemas são explícitos, pois apenas uma incógnita $u_{j+1}^{n}$ aparece em cada equação. Infelizmente, quando a análise de estabilidade de von Neumann é aplicada a esses esquemas, descobrimos que eles são incondicionalmente instáveis. Esses esquemas simples, portanto, mostram-se inúteis na resolução da equação de onda. Vamos agora prosseguir para examinar métodos que têm mais utilidade.\n",
    "\n",
    "Isolando a variável desconhecida em\n",
    "\n",
    "\\begin{equation}\n",
    "\\frac{{u_{j}^{n+1} - u_{j}^{n}}}{{\\Delta t}} + c\\frac{{u_{j+1}^{n} - u_{j-1}^{n}}}{{2\\Delta x}} = 0 \\quad\n",
    "\\tag{4.6}\n",
    "\\end{equation}\n",
    "\n",
    "temos\n",
    "\n",
    "\\begin{equation}\n",
    "{u_{j}^{n+1} = u_{j}^{n}} - c\\frac{\\Delta t}{2\\Delta x}\\left(u_{j+1}^{n} - u_{j-1}^{n}\\right) \\quad\n",
    "\\end{equation}\n",
    "\n",
    "tomando $v = c\\frac{\\Delta t}{\\Delta x}$\n",
    "\\begin{equation}\n",
    "u_{j}^{n+1} = u_{j}^{n} - \\frac{v}{2}\\left(u_{j+1}^{n} - u_{j-1}^{n}\\right)\n",
    "\\end{equation}\n",
    "\n",
    "Isolando a variável desconhecida em\n",
    "\n",
    "\\begin{equation}\n",
    "\\frac{{u_{j}^{n+1} - u_{j}^{n}}}{{\\Delta t}} + c\\frac{{u_{j+1}^{n} - u_{j}^{n}}}{{\\Delta x}} = 0 \\quad c > 0 \n",
    "\\tag{4.5}\n",
    "\\end{equation}\n",
    "\n",
    "tomando $v = c\\frac{\\Delta t}{\\Delta x}$\n",
    "\\begin{equation}\n",
    "u_{j}^{n+1} = u_{j}^{n} - v\\left(u_{j+1}^{n} - u_{j}^{n}\\right)\n",
    "\\end{equation}"
   ]
  },
  {
   "cell_type": "code",
   "execution_count": 5,
   "id": "9271ee47",
   "metadata": {},
   "outputs": [
    {
     "data": {
      "image/png": "[encoded data removed]",
      "text/plain": [
       "<Figure size 432x288 with 1 Axes>"
      ]
     },
     "metadata": {
      "needs_background": "light"
     },
     "output_type": "display_data"
    }
   ],
   "source": [
    "import numpy as np\n",
    "import matplotlib.pyplot as plt\n",
    "\n",
    "l    = 40.0    # tamanho do intervalo\n",
    "c    = 1     # constante da equação da onda\n",
    "\n",
    "tempo_final = 18.0    # tempo de simulação\n",
    "\n",
    "quantidade_de_pontos   = 41      # Número de pontos em X\n",
    "quantidade_de_iteracao_temporal   = 30      # \n",
    "vetor_temporal = np.linspace(0,quantidade_de_iteracao_temporal-1,quantidade_de_iteracao_temporal)[:,]\n",
    "\n",
    "delta_x = l/(quantidade_de_pontos-1)  # tamanho do passo no espaço\n",
    "delta_t = tempo_final/quantidade_de_iteracao_temporal   # tamanho do passo no tempo\n",
    "\n",
    "v = c*delta_t/delta_x   # número de Courant\n",
    "\n",
    "u = np.zeros((quantidade_de_iteracao_temporal,quantidade_de_pontos))\n",
    "x = np.linspace(0,l,quantidade_de_pontos)\n",
    "\n",
    "u[:,0:10]  = 1\n",
    "u[:,11:]   = 0\n",
    "\n",
    "'''\n",
    "# Solução\n",
    "for n in range(0,quantidade_de_iteracao_temporal-1):\n",
    "    for j in range(1,quantidade_de_pontos-1):\n",
    "        u[n+1,j+1] = u[n,j]-(v/2)*(u[n,j+1]- u[n,j-2])\n",
    "for i in range(quantidade_de_iteracao_temporal-1):\n",
    "    u[i+1,0:] = (1-v)*u[i,0:]+v*u[i,0:]\n",
    "\n",
    "'''\n",
    "# não funciona porque é incondicionalmente instável\n",
    "for n in range(0,quantidade_de_iteracao_temporal-1):\n",
    "    for j in range(1,quantidade_de_pontos-2):\n",
    "        u[n+1,j] = u[n,j]-v*(u[n,j+1]- u[n,j])\n",
    "\n",
    "plt.plot(u[10,])\n",
    "plt.show()\n",
    "\n"
   ]
  },
  {
   "cell_type": "code",
   "execution_count": 62,
   "id": "a5867303",
   "metadata": {},
   "outputs": [],
   "source": [
    "for n in range(0,quantidade_de_iteracao_temporal-1):\n",
    "    for j in range(1,quantidade_de_pontos-1):\n",
    "        u[n+1,j+1] = u[n,j]-(v/2)*(u[n,j+1]- u[n,j-2])"
   ]
  },
  {
   "cell_type": "code",
   "execution_count": 63,
   "id": "a5d209b5",
   "metadata": {},
   "outputs": [],
   "source": [
    "# Solução\n",
    "for i in range(quantidade_de_iteracao_temporal-1):\n",
    "    u[i+1,0:] = (1-v)*u[i,0:]+v*u[i,0:]\n",
    "    "
   ]
  },
  {
   "cell_type": "code",
   "execution_count": 64,
   "id": "95a03f3b",
   "metadata": {},
   "outputs": [
    {
     "data": {
      "text/plain": [
       "array([[1., 1., 1., ..., 0., 0., 0.],\n",
       "       [1., 1., 1., ..., 0., 0., 0.],\n",
       "       [1., 1., 1., ..., 0., 0., 0.],\n",
       "       ...,\n",
       "       [1., 1., 1., ..., 0., 0., 0.],\n",
       "       [1., 1., 1., ..., 0., 0., 0.],\n",
       "       [1., 1., 1., ..., 0., 0., 0.]])"
      ]
     },
     "execution_count": 64,
     "metadata": {},
     "output_type": "execute_result"
    }
   ],
   "source": [
    "u"
   ]
  },
  {
   "cell_type": "code",
   "execution_count": 68,
   "id": "6f4e4cf1",
   "metadata": {},
   "outputs": [],
   "source": [
    "# Solução\n",
    "for i in range(quantidade_de_iteracao_temporal-1):\n",
    "    u[i+1,1:] = (1-v)*u[i,1:]+v*u[i,0:-1]"
   ]
  },
  {
   "cell_type": "code",
   "execution_count": 69,
   "id": "d993d831",
   "metadata": {},
   "outputs": [
    {
     "data": {
      "image/png": "[encoded data removed]",
      "text/plain": [
       "<Figure size 432x288 with 1 Axes>"
      ]
     },
     "metadata": {
      "needs_background": "light"
     },
     "output_type": "display_data"
    }
   ],
   "source": [
    "plt.plot(u[9,]);"
   ]
  },
  {
   "cell_type": "code",
   "execution_count": 10,
   "id": "640970d9",
   "metadata": {},
   "outputs": [
    {
     "data": {
      "text/plain": [
       "[<matplotlib.lines.Line2D at 0x7f5c1a75c1f0>]"
      ]
     },
     "execution_count": 10,
     "metadata": {},
     "output_type": "execute_result"
    },
    {
     "data": {
      "image/png": "[encoded data removed]",
      "text/plain": [
       "<Figure size 432x288 with 1 Axes>"
      ]
     },
     "metadata": {
      "needs_background": "light"
     },
     "output_type": "display_data"
    }
   ],
   "source": [
    "plt.plot(u_new)"
   ]
  },
  {
   "cell_type": "code",
   "execution_count": null,
   "id": "90db28f5",
   "metadata": {},
   "outputs": [],
   "source": [
    "#np.genfromtxt(\"ondaResultado.txt\",delimiter=\" \")"
   ]
  },
  {
   "cell_type": "code",
   "execution_count": 11,
   "id": "ef1d5841",
   "metadata": {},
   "outputs": [
    {
     "data": {
      "text/plain": [
       "41"
      ]
     },
     "execution_count": 11,
     "metadata": {},
     "output_type": "execute_result"
    }
   ],
   "source": [
    "u.shape[1]"
   ]
  },
  {
   "cell_type": "code",
   "execution_count": null,
   "id": "b60e3081",
   "metadata": {},
   "outputs": [],
   "source": [
    "U_NUM[0,]"
   ]
  },
  {
   "cell_type": "code",
   "execution_count": null,
   "id": "9bb24004",
   "metadata": {},
   "outputs": [],
   "source": [
    "a=np.linspace(0,NT-1,NT)[:,]"
   ]
  },
  {
   "cell_type": "code",
   "execution_count": null,
   "id": "1aec91bb",
   "metadata": {},
   "outputs": [],
   "source": [
    "for i in a:\n",
    "    print(i)"
   ]
  },
  {
   "cell_type": "code",
   "execution_count": 23,
   "id": "f00220a0",
   "metadata": {},
   "outputs": [
    {
     "data": {
      "text/plain": [
       "0.6"
      ]
     },
     "execution_count": 23,
     "metadata": {},
     "output_type": "execute_result"
    }
   ],
   "source": [
    "v"
   ]
  },
  {
   "cell_type": "code",
   "execution_count": null,
   "id": "72098e52",
   "metadata": {},
   "outputs": [],
   "source": []
  }
 ],
 "metadata": {
  "kernelspec": {
   "display_name": "Python 3 (ipykernel)",
   "language": "python",
   "name": "python3"
  },
  "language_info": {
   "codemirror_mode": {
    "name": "ipython",
    "version": 3
   },
   "file_extension": ".py",
   "mimetype": "text/x-python",
   "name": "python",
   "nbconvert_exporter": "python",
   "pygments_lexer": "ipython3",
   "version": "3.10.6"
  }
 },
 "nbformat": 4,
 "nbformat_minor": 5
}
