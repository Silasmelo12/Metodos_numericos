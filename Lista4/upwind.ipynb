{
 "cells": [
  {
   "cell_type": "markdown",
   "id": "296997b5",
   "metadata": {},
   "source": [
    "# <center>Método Upwind de Segunda Ordem</center>\n",
    "\n",
    "O método upwind de segunda ordem (Warming e Beam, 1975) é uma variação do método de MacCormack, que utiliza diferenças para trás (upwind) tanto no passo de previsão quanto no passo de correção para c > 0:\n",
    "\n",
    "Passo de Previsão:\n",
    "\\begin{equation}\n",
    "u_{j}^{\\overline{n+1}} = u_{j,n} - \\frac{c \\Delta t}{\\Delta x} \\left(u_{n,j} - u_{j-1}^n \\right)\n",
    "\\tag{4.52}\n",
    "\\end{equation}\n",
    "\n",
    "\n",
    "Passo de Correção:\n",
    "\\begin{equation}\n",
    "u_{j}^{n+1} = \\frac{1}{2} \\left[ u_{j}^{n} + u_{j}^{\\overline{n+1}} - \\frac{c \\Delta t}{\\Delta x} \\left(u_{j}^{\\overline{n+1}} - u_{j-1}^{\\overline{n+1}}\\right) - \\frac{c \\Delta t}{\\Delta x} \\left(u_{j}^{n} - 2u_{j-1}^{n} + u_{j-2}^{n}\\right) \\right]\n",
    "\\tag{4.53}\n",
    "\\end{equation}\n",
    "\n",
    "A adição da segunda diferença para trás na Equação 4.53 torna esse esquema de segunda ordem de precisão com um erro de truncamento (T.E.) de $O(\\Delta x^2, \\Delta x \\Delta t, \\Delta t^2)$. Se a Equação 4.52 for substituída na Equação 4.53, obtemos o seguinte algoritmo de um único passo:\n",
    "\n",
    "\\begin{equation}\n",
    "u_{j}^{n+1} = u_{j}^n - v\\left(u_{j}^n - u_{j-1}^n\\right) + \\frac{1}{2}v\\left(v-1\\right)\\left(u_{j}^n - 2u_{j-1}^n + u_{j-2}^n\\right)\n",
    "\\tag{4.54}\n",
    "\\end{equation}\n",
    "\n",
    "A equação modificada para esse esquema é:\n",
    "\n",
    "\\begin{equation}\n",
    "u_t + c u_x = \\frac{c (\\Delta x)^2}{6} (1 - \\nu)(2 - \\nu)u_{xxx} - \\frac{c (\\Delta x)^4}{8\\Delta t} \\nu(1 - \\nu)^2(2 - \\nu)u_{xxxx}\n",
    "\\tag{4.55}\n",
    "\\end{equation}"
   ]
  },
  {
   "cell_type": "markdown",
   "id": "2ccf5486",
   "metadata": {},
   "source": [
    "### <center>Questão 5F da lista 4</center> \n",
    "\n",
    "Resolva, numericamente, a equação da onda:\n",
    "\n",
    "\\begin{equation}\n",
    "u_t + u_x = 0\n",
    "\\end{equation}\n",
    "\n",
    "\\begin{equation}\n",
    "0 \\leqslant x \\leqslant L\n",
    "\\end{equation}\n",
    "\n",
    "Submetida à condição inicial: \n",
    "\n",
    "\\begin{equation}\n",
    "u(x,0) = sin\\left ( 2n\\pi \\frac{x}{L} \\right )\n",
    "\\end{equation}\n",
    "\n",
    "e à condições de contorno periódicas, utilizando os seguintes esquemas de diferenças finitas:\n",
    "\n",
    "- ~~Upstream~~\n",
    "- ~~Leap Frog~~\n",
    "- ~~Lax-Wendroff de 2 passos~~\n",
    "- **Upwind de 2a Ordem**\n",
    "- ~~Rusanov ($\\omega = 3$)~~\n",
    "- ~~Euler Explícito~~\n",
    "- ~~Lax~~\n",
    "- ~~Lax-Wendroff~~\n",
    "- ~~MacCormack~~\n",
    "- ~~Trapezoidal (Time Centered Implicit)~~\n",
    "- ~~Warming-Kutler-Lomax~~\n",
    "\n",
    "Escolha uma malha com 41 pontos e $\\Delta x = 1$ (logo, $L = 40$) e calcule para $t = 18$. Resolva este problema para $n = 3$ e $v = 1$, $v = 0.6$ e $v = 0.3$ e compare graficamente com a solução exata. Determine $\\beta$ para $n = 3$ e calcule os erros na amplitude e na fase para esquema com $v = 0.6$. Compare estes erros com os que\n",
    "aparecem nos gráficos."
   ]
  },
  {
   "cell_type": "code",
   "execution_count": 91,
   "id": "42d30488",
   "metadata": {},
   "outputs": [
    {
     "data": {
      "image/png": "[encoded data removed]",
      "text/plain": [
       "<Figure size 432x288 with 1 Axes>"
      ]
     },
     "metadata": {
      "needs_background": "light"
     },
     "output_type": "display_data"
    }
   ],
   "source": [
    "#Upwind de 2a Ordem\n",
    "\n",
    "import numpy as np\n",
    "import matplotlib.pyplot as plt\n",
    "\n",
    "quantidade_iteracao = 20\n",
    "l=40\n",
    "delta_x=1\n",
    "delta_t=0.05\n",
    "t_final=18\n",
    "n=3\n",
    "c=1\n",
    "q_pontos=41\n",
    "x = np.arange(0,l+delta_x,delta_x)\n",
    "t = np.arange(0,t_final+delta_t,delta_t)\n",
    "u_old = np.zeros(q_pontos)\n",
    "u_corretor= np.zeros(q_pontos)\n",
    "u_preditor= np.zeros(q_pontos)\n",
    "v=c*(delta_t/delta_x)\n",
    "u_old = np.sin(2*n*np.pi*x/l)\n",
    "\n",
    "for n in range (0, t_final):\n",
    "    for j in range(1,q_pontos):\n",
    "        #u_old[j] = u_old[j] - v*(u_old[j] - u_old[j-1]) + (1/2)*v*(v-1)*(u_old[j] - 2 * u_old[j-1] + u_old[j-2])\n",
    "        u_preditor[j] = u_old[j]-v*(u_old[j]-u_old[j-1])\n",
    "    #u_corretor[0:] = u_preditor[0:]\n",
    "    for j in range(2,q_pontos):    \n",
    "        u_corretor[j] = (1/2) *(u_old[j] + u_preditor[j]- v*(u_preditor[j]-u_preditor[j-1]) - v*(u_old[j] - 2 * u_old[j-1] + u_old[j-2]))\n",
    "    u_old[0:] = u_corretor[:]\n",
    "plt.plot (u_old);        "
   ]
  },
  {
   "cell_type": "code",
   "execution_count": null,
   "id": "05cf045f",
   "metadata": {},
   "outputs": [],
   "source": []
  }
 ],
 "metadata": {
  "kernelspec": {
   "display_name": "Python 3 (ipykernel)",
   "language": "python",
   "name": "python3"
  },
  "language_info": {
   "codemirror_mode": {
    "name": "ipython",
    "version": 3
   },
   "file_extension": ".py",
   "mimetype": "text/x-python",
   "name": "python",
   "nbconvert_exporter": "python",
   "pygments_lexer": "ipython3",
   "version": "3.10.6"
  }
 },
 "nbformat": 4,
 "nbformat_minor": 5
}
