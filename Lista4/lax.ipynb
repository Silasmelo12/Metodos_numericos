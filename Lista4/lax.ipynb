{
 "cells": [
  {
   "cell_type": "markdown",
   "id": "d2d2eb2b",
   "metadata": {},
   "source": [
    "# <center>Método de Lax</center>\n",
    "\n",
    "O método de Euler, Equação 4.6, pode ser tornar estável substituindo $u^n_j$ pelo termo médio $\\frac{{(u^n_{j+1} + u_{j-1}^n)}}{2}$. O algoritmo resultante é conhecido como método de Lax (Lax, 1954), que foi apresentado anteriormente:\n",
    "\n",
    "\\begin{equation}\n",
    "\\frac{u^{n+1}_{j} - \\left(u^n_{j+1} + u^n_{j-1}\\right) / 2}{\\Delta t}  + c\\frac{{\\left(u^n_{j+1} - u^n_{j-1}\\right)}}{{2\\Delta x}} = 0 \n",
    "\\label{eq:4.26}\n",
    "\\tag{4.26}\n",
    "\\end{equation}\n",
    "\n",
    "Esse esquema explícito de um único passo é de primeira ordem de precisão com erro de truncamento de $O\\left[\\Delta t, (\\Delta x)^2/\\Delta t\\right]$ e é estável se $|\\nu| \\leq 1$. A equação modificada é dada por:\n",
    "\n",
    "\\begin{equation}\n",
    "u_t + c u_x = c\\frac{{\\Delta x}}{{2}}\\left(\\frac{{1}}{{\\nu}} - \\nu\\right)u_{xx} + \\frac{c (\\Delta x)^2}{3}\\left(1 - \\nu^2\\right)u_{xxx} + \\cdots\n",
    "\\tag{4.27}\n",
    "\\end{equation}\n",
    "\n",
    "Observe que esse método não é uniformemente consistente, pois $\\frac{{(\\Delta x)^2}}{{\\Delta t}}$ pode não tender a zero quando $\\Delta t$ e $\\Delta x$ tendem a zero. No entanto, se $\\nu$ for mantido constante à medida que $\\Delta t$ e $\\Delta x$ se aproximam de zero, o método é consistente. O método de Lax é conhecido por seu grande erro de dissipação quando $\\nu \\neq 1$. Essa alta dissipação é facilmente perceptível quando comparamos o coeficiente de $u_{xx}$.\n",
    "\n",
    "Isolando a variável desconhecida em [4.26](#jmx_eqn_eq:4.26) temos\n",
    "\n",
    "\\begin{equation}\n",
    "\\frac{u^{n+1}_{j} - \\left(u^n_{j+1} + u^n_{j-1}\\right) / 2}{\\Delta t}  = - c\\frac{{\\left(u^n_{j+1} - u^n_{j-1}\\right)}}{{2\\Delta x}}\n",
    "\\end{equation}\n",
    "\n",
    "\\begin{equation}\n",
    "u^{n+1}_{j} - \\frac{\\left(u^n_{j+1} + u^n_{j-1}\\right)}{2}  = - c \\frac{\\Delta t}{2\\Delta x} \\left(u^n_{j+1} - u^n_{j-1}\\right)\n",
    "\\end{equation}\n",
    "\n",
    "\\begin{equation}\n",
    "u^{n+1}_{j} = \\frac{\\left(u^n_{j+1} + u^n_{j-1}\\right)}{2}  - c \\frac{\\Delta t}{2\\Delta x} \\left(u^n_{j+1} - u^n_{j-1}\\right)\n",
    "\\end{equation}\n",
    "\n",
    "tomando $v = c\\frac{\\Delta t}{\\Delta x}$ temos\n",
    "\n",
    "\\begin{equation}\n",
    "u^{n+1}_{j} = \\frac{\\left(u^n_{j+1} + u^n_{j-1}\\right)}{2}  - \\frac{v}{2} \\left(u^n_{j+1} - u^n_{j-1}\\right)\n",
    "\\end{equation}"
   ]
  },
  {
   "cell_type": "markdown",
   "id": "2512980e",
   "metadata": {},
   "source": [
    "# Questão 5 da lista 4. \n",
    "\n",
    "Resolva, numericamente, a equação da onda:\n",
    "\n",
    "\\begin{equation}\n",
    "u_t + u_x = 0, \\quad 0 \\leq x \\leq L\n",
    "\\end{equation}\n",
    "\n",
    "Submetida à condição inicial:\n",
    "\n",
    "\\begin{equation}\n",
    "u(x, 0) = \\sin\\left(\\frac{2n\\pi x}{L}\\right)\n",
    "\\end{equation}\n",
    "\n",
    "e às **condições de contorno periódicas**, utilizando os seguintes esquemas de diferenças finitas:\n",
    "\n",
    "1. ~~Upstream~~\n",
    "2. **Lax**\n",
    "3. ~~Leap Frog~~\n",
    "4. ~~Lax-Wendroff~~\n",
    "5. ~~MacCormack~~\n",
    "6. ~~Lax-Wendroff de 2 passos~~\n",
    "7. ~~Upwind de 2ª Ordem~~\n",
    "8. ~~Trapezoidal (Time Centered Implicit)~~\n",
    "9. ~~Warming-Kutler-Lomax~~\n",
    "10. ~~Rusanov ($\\omega = 3$)~~\n",
    "11. ~~Euler Explícito~~\n",
    "\n",
    "Escolha uma malha com 41 pontos e $\\Delta x = 1$ (logo,  $L = 40$) e calcule para  $t = 18.$ Resolva este problema para  $n = 3$ e $\\nu = 1$, $\\nu = 0.6$ e $\\nu = 0.3$ e compare graficamente com a solução exata.\n",
    "\n",
    "\n",
    "Determine $\\beta$  para  $n = 3$ e calcule os erros na amplitude e na fase para o esquema com $\\nu = 0.6$.\n",
    "Compare estes erros com os que aparecem nos gráficos.\n"
   ]
  },
  {
   "cell_type": "code",
   "execution_count": 8,
   "id": "748e95ca-88ff-4d8e-83f4-3f42c28e6ce0",
   "metadata": {},
   "outputs": [
    {
     "data": {
      "image/png": "[encoded data removed]",
      "text/plain": [
       "<Figure size 432x288 with 1 Axes>"
      ]
     },
     "metadata": {
      "needs_background": "light"
     },
     "output_type": "display_data"
    }
   ],
   "source": [
    "#Método de Lax\n",
    " \n",
    "import numpy as np\n",
    "import matplotlib.pyplot as plt\n",
    "\n",
    "l = 40\n",
    "delta_x = 1\n",
    "num_pontos = 41\n",
    "t_final = 18\n",
    "c = 1\n",
    "delta_t = 0.1 \n",
    "n = 3\n",
    "x = np.arange(0, num_pontos, delta_x)\n",
    "t = np.arange(0, t_final, delta_t)\n",
    "num_tempo = len(t)\n",
    "\n",
    "num_pontos2 = num_pontos + 2\n",
    "\n",
    "u_num = np.zeros((num_tempo, num_pontos2))\n",
    "\n",
    "# Definindo as condições iniciais\n",
    "u_num[0, 1:num_pontos2 - 1] = np.sin((2 * n * np.pi * x) / l)\n",
    "\n",
    "u_num[0, 0] = u_num[0, num_pontos2 - 3]\n",
    "u_num[0, num_pontos2 - 1] = u_num[0, 2]\n",
    "\n",
    "v = (delta_t / delta_x) * c\n",
    "\n",
    "for i in range(0, num_tempo - 1):\n",
    "    n = i + 1\n",
    "    for j in range(1, (num_pontos2 - 1)):\n",
    "        u_num[i + 1, j] = (u_num[i, j + 1] + u_num[i, j - 1]) / 2 - (v / 2) * (u_num[i, j + 1] - u_num[i, j - 1])\n",
    "        u_num[n, 0] = u_num[n, num_pontos2 - 3]\n",
    "        u_num[n, num_pontos2 - 1] = u_num[n, 2]\n",
    "\n",
    "plt.plot(u_num[-1,:]);"
   ]
  }
 ],
 "metadata": {
  "kernelspec": {
   "display_name": "Python 3 (ipykernel)",
   "language": "python",
   "name": "python3"
  },
  "language_info": {
   "codemirror_mode": {
    "name": "ipython",
    "version": 3
   },
   "file_extension": ".py",
   "mimetype": "text/x-python",
   "name": "python",
   "nbconvert_exporter": "python",
   "pygments_lexer": "ipython3",
   "version": "3.10.6"
  }
 },
 "nbformat": 4,
 "nbformat_minor": 5
}
