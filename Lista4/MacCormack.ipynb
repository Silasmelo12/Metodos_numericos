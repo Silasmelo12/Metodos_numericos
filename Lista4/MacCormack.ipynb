{
 "cells": [
  {
   "cell_type": "markdown",
   "id": "296997b5",
   "metadata": {},
   "source": [
    "# <center>MacCormack</center>\n",
    "\n",
    "O método de MacCormack (MacCormack, 1969) é um esquema amplamente utilizado para resolver equações de fluxo de fluidos. É uma variação do esquema de dois passos de Lax-Wendroff que elimina a necessidade de calcular os desconhecidos nos pontos da grade $j + \\frac{1}{2}$ e $j - \\frac{1}{2}$ . Devido a essa característica, o método de MacCormack é particularmente útil na resolução de EDPs não-lineares, como é mostrado na Seção 4.4.3. Quando aplicado à equação linear de onda, este método explícito de preditor-corretor se torna\n",
    "\n",
    "Preditor:\n",
    "\n",
    "\\begin{equation}\n",
    "u_j^{\\overline{n+1}} = u_j^n - c \\frac{\\Delta t}{\\Delta x} (u_{j+1}^n - u_{j}^n)\n",
    "\\end{equation}\n",
    "\n",
    "Corretor:\n",
    "\n",
    "\\begin{equation}\n",
    "u_j^{n+1} = (1/2) \\left [ u_j^n + u_j^{\\overline{n+1}} - c \\frac{\\Delta t}{\\Delta x} (u_j^{\\overline{n+1}} - u_{j-1}^{\\overline{n+1}}) \\right ]\n",
    "\\end{equation} \n",
    "\n",
    "O termo $u_j^{\\overline{n+1}}$ é um valor \"previsto\" temporário de $u$ no nível de tempo $n + 1$. A equação de correção fornece o valor final de $u$ no nível de tempo $n + 1$. Observe que na equação de previsão, é usada uma diferença para frente para $\\frac {\\partial u} {\\partial x}$, enquanto na equação de correção, é usado uma diferença para trás. Essa diferenciação pode ser revertida e, em alguns problemas, é vantajoso fazê-lo. Isso é particularmente verdadeiro para problemas que envolvem descontinuidades móveis. Para a equação linear da onda, o esquema de MacCormack é equivalente ao esquema original de Lax-Wendroff. Portanto, o T.E., o limite de estabilidade, a equação modificada e o fator de amplificação são idênticos aos do esquema de Lax-Wendroff."
   ]
  },
  {
   "cell_type": "markdown",
   "id": "2ccf5486",
   "metadata": {},
   "source": [
    "### <center>Questão 5F da lista 4</center> \n",
    "\n",
    "Resolva, numericamente, a equação da onda:\n",
    "\n",
    "\\begin{equation}\n",
    "u_t + u_x = 0\n",
    "\\end{equation}\n",
    "\n",
    "\\begin{equation}\n",
    "0 \\leqslant x \\leqslant L\n",
    "\\end{equation}\n",
    "\n",
    "Submetida à condição inicial: \n",
    "\n",
    "\\begin{equation}\n",
    "u(x,0) = sin\\left ( 2n\\pi \\frac{x}{L} \\right )\n",
    "\\end{equation}\n",
    "\n",
    "e à condições de contorno periódicas, utilizando os seguintes esquemas de diferenças finitas:\n",
    "\n",
    "- ~~Upstream~~\n",
    "- Leap Frog\n",
    "- ~~Lax-Wendroff de 2 passos~~\n",
    "- Upwind de 2a Ordem\n",
    "- Rusanov ($\\omega = 3$)\n",
    "- ~~Euler Explícito~~\n",
    "- ~~Lax~~\n",
    "- ~~Lax-Wendroff~~\n",
    "- ~~MacCormack~~\n",
    "- Trapezoidal (Time Centered Implicit)\n",
    "- Warming-Kutler-Lomax\n",
    "\n",
    "Escolha uma malha com 41 pontos e $\\Delta x = 1$ (logo, $L = 40$) e calcule para $t = 18$. Resolva este problema para $n = 3$ e $v = 1$, $v = 0.6$ e $v = 0.3$ e compare graficamente com a solução exata. Determine $\\beta$ para $n = 3$ e calcule os erros na amplitude e na fase para esquema com $v = 0.6$. Compare estes erros com os que\n",
    "aparecem nos gráficos."
   ]
  },
  {
   "cell_type": "code",
   "execution_count": 25,
   "id": "42d30488",
   "metadata": {},
   "outputs": [],
   "source": [
    "import numpy as np\n",
    "import matplotlib.pyplot as plt\n",
    "\n",
    "quantidade_iteracao = 20\n",
    "l=40\n",
    "delta_x=1\n",
    "v=0.3\n",
    "t=18\n",
    "n=3\n",
    "c=1\n",
    "q_pontos=41\n",
    "delta_t=t/quantidade_iteracao\n",
    "x = np.arange(0,l+delta_x,delta_x)\n",
    "u_old = np.zeros(q_pontos)\n",
    "u_corretor= np.zeros(q_pontos)\n",
    "u_preditor= np.zeros(q_pontos)\n",
    "\n",
    "u_old = np.sin(2*n*np.pi*x/l)\n",
    "\n",
    "for n in range (0, 20):\n",
    "    for j in range(1,q_pontos-1):\n",
    "        u_preditor[j] = u_old[j]-c*(delta_t/delta_x)*u_old[j+1]-u_old[j]\n",
    "        u_corretor[j] = 1/2 *(u_old[j] + u_preditor[j]-c*(delta_t/delta_x)* (u_preditor[j]-u_preditor[j+1]))"
   ]
  },
  {
   "cell_type": "code",
   "execution_count": 26,
   "id": "94bc2120",
   "metadata": {},
   "outputs": [
    {
     "data": {
      "text/plain": [
       "[<matplotlib.lines.Line2D at 0x7fb0ae1b0bb0>]"
      ]
     },
     "execution_count": 26,
     "metadata": {},
     "output_type": "execute_result"
    },
    {
     "data": {
      "image/png": "[encoded data removed]",
      "text/plain": [
       "<Figure size 432x288 with 1 Axes>"
      ]
     },
     "metadata": {
      "needs_background": "light"
     },
     "output_type": "display_data"
    }
   ],
   "source": [
    "u.round(2)\n",
    "plt.plot (u_corretor)"
   ]
  },
  {
   "cell_type": "code",
   "execution_count": null,
   "id": "b7f175a7",
   "metadata": {},
   "outputs": [],
   "source": []
  }
 ],
 "metadata": {
  "kernelspec": {
   "display_name": "Python 3 (ipykernel)",
   "language": "python",
   "name": "python3"
  },
  "language_info": {
   "codemirror_mode": {
    "name": "ipython",
    "version": 3
   },
   "file_extension": ".py",
   "mimetype": "text/x-python",
   "name": "python",
   "nbconvert_exporter": "python",
   "pygments_lexer": "ipython3",
   "version": "3.10.6"
  }
 },
 "nbformat": 4,
 "nbformat_minor": 5
}
